{
 "cells": [
  {
   "cell_type": "markdown",
   "id": "f0bc1ed2",
   "metadata": {},
   "source": [
    "<pre>\n",
    "実習の時、実行終わったらペア先生に見せて、お互い問題なかったらOK、問題あれば助け合ってください。二人とも解決できない場合、私を呼んでください。\n",
    "\n",
    "自由闊達の学風のもとで、みんな自由に議論・意見・要望を出してください。\n",
    "多種多様性を重視・尊重します。\n",
    "<pre>"
   ]
  },
  {
   "cell_type": "markdown",
   "id": "3964d8a3",
   "metadata": {},
   "source": [
    "<pre>\n",
    "今日のポイント：\n",
    "①　構築環境問題　　\n",
    "    1）前回授業やったデフォルトdirectoryを探す目的：ダウンロードした.ipynb/.pyファイルを自分パソコンのどのホルダーの中にコピーするかを分かるために。授業中はそのまま開いて使ってください。　　\n",
    "②　復習と今日の達成目標：　　\n",
    "    １）五つのオブジェクト型（list, tuple, set, dict, function）　　\n",
    "    ２）制御構文（if, else, elif; while, else; for, in;          break; continue; pass ）\n",
    "③　すぐ使えるPythonファイルを実行してみてください！\n",
    "<pre>"
   ]
  },
  {
   "cell_type": "code",
   "execution_count": null,
   "id": "f099a51c",
   "metadata": {
    "scrolled": true
   },
   "outputs": [],
   "source": [
    "# ランダムに二人ペアを組むことにより、実習の時、お互いの先生をやって、お互いの実習結果をチェックする。\n",
    "# 目標：授業時間の効率アップを目指す\n",
    "\n",
    "import random\n",
    "\n",
    "def generate_random_pairs(numbers):\n",
    "#     random.seed(100)\n",
    "    random.shuffle(numbers)\n",
    "    return [(numbers[i], numbers[i+1]) for i in range(0, len(numbers), 2)]\n",
    "\n",
    "aa=['淺野 こころ', '神之薗 星凪', '清水 大暉','井戸 陸斗','鈴木 健介','竹内 智也','石田 暖人','岩村 胡春','宇治野 正惇','関根 弘樹','田邉 圭佑','松澤 舜平','三輪 涼太','神戸 翔太','竹内 ひかり','先生']\n",
    "pairs=generate_random_pairs(aa)\n",
    "print(pairs)"
   ]
  },
  {
   "cell_type": "markdown",
   "id": "b6692496",
   "metadata": {},
   "source": [
    "# 20240430\n",
    "\n",
    "### Pythonで非常によく使われるデータ型 int float str"
   ]
  },
  {
   "cell_type": "markdown",
   "id": "cb03435c",
   "metadata": {},
   "source": [
    "### 比較演算子(==, !=, <, >, <=, >=, is, is not, in, not in)\n",
    "\n",
    "==　等しい　\\\n",
    "!=　異なる　\\\n",
    "is　等しい　\\\n",
    "is not　異なる　\\\n",
    "in　含まれる　\\\n",
    "not in　含まれない"
   ]
  },
  {
   "cell_type": "markdown",
   "id": "6f4f3821",
   "metadata": {},
   "source": [
    "# リスト list"
   ]
  },
  {
   "cell_type": "code",
   "execution_count": null,
   "id": "fb48b5d8",
   "metadata": {},
   "outputs": [],
   "source": [
    "a = [1, 3, 5, 7, 9]\n",
    "for n in a:\n",
    "    print(n)"
   ]
  },
  {
   "cell_type": "code",
   "execution_count": null,
   "id": "78a6102a",
   "metadata": {},
   "outputs": [],
   "source": [
    "a = [1, 3, 5, 7, 9]\n",
    "for n in range(5):\n",
    "    print(n, a[n])"
   ]
  },
  {
   "cell_type": "code",
   "execution_count": null,
   "id": "a86dc058",
   "metadata": {},
   "outputs": [],
   "source": [
    "print(a[2])"
   ]
  },
  {
   "cell_type": "code",
   "execution_count": null,
   "id": "ae19776f",
   "metadata": {},
   "outputs": [],
   "source": [
    "print(a[-1])"
   ]
  },
  {
   "cell_type": "code",
   "execution_count": null,
   "id": "0a2e1194",
   "metadata": {},
   "outputs": [],
   "source": [
    "a1 = a[0:2] #リストの0番から1番の数字を取る\n",
    "a1"
   ]
  },
  {
   "cell_type": "code",
   "execution_count": null,
   "id": "72d8a5b0",
   "metadata": {},
   "outputs": [],
   "source": [
    "a2 = a[2:] #リストの2番から最後の数字を取る\n",
    "a2"
   ]
  },
  {
   "cell_type": "code",
   "execution_count": null,
   "id": "328faf40",
   "metadata": {},
   "outputs": [],
   "source": [
    "a3 = a[:3] #リストの最初から2番までの数字を取る\n",
    "a3"
   ]
  },
  {
   "cell_type": "code",
   "execution_count": null,
   "id": "8075b315",
   "metadata": {},
   "outputs": [],
   "source": [
    "print([1, 2, 3] + [4, 5, 6]) # +演算子を用いてリストを結合"
   ]
  },
  {
   "cell_type": "code",
   "execution_count": null,
   "id": "c5c2e5ed",
   "metadata": {},
   "outputs": [],
   "source": [
    "# append:追加\n",
    "a = [1, 3, 5, 7, 9]\n",
    "print(a)\n",
    "a.append(100)\n",
    "a"
   ]
  },
  {
   "cell_type": "code",
   "execution_count": null,
   "id": "70eda7ca",
   "metadata": {},
   "outputs": [],
   "source": [
    "a.append('abc')\n",
    "a"
   ]
  },
  {
   "cell_type": "code",
   "execution_count": null,
   "id": "410250da",
   "metadata": {},
   "outputs": [],
   "source": [
    "# extend:拡張\n",
    "a.extend([10, 11, 12])\n",
    "a"
   ]
  },
  {
   "cell_type": "code",
   "execution_count": null,
   "id": "0e1d4210",
   "metadata": {
    "scrolled": true
   },
   "outputs": [],
   "source": [
    "#　insert：挿入\n",
    "a.insert(0, 300)\n",
    "print(a)"
   ]
  },
  {
   "cell_type": "markdown",
   "id": "1caea2a8",
   "metadata": {},
   "source": [
    "# 復習・練習：\n",
    "aaaという名前付けのリストを作る。（四択一でいい）\n",
    "\n",
    "①['勉強・研究', '単位', '友達', '英語', '健康', '安全', '就職', '留学', '進学']　\\\n",
    "②趣味　\\\n",
    "③好きなお菓子　\\\n",
    "④受けている授業名　\n",
    "\n",
    "そのあと、　\\\n",
    "リストの0番目と2番目をプリントアウト　\\\n",
    "リストの0番から2番（含め）までをプリントアウト　\\\n",
    "リストに('家族')を追加してプリントアウト　\\\n",
    "リストの0番に'試験'を追加してプリントアウト　"
   ]
  },
  {
   "cell_type": "code",
   "execution_count": null,
   "id": "660e46ac",
   "metadata": {},
   "outputs": [],
   "source": []
  },
  {
   "cell_type": "code",
   "execution_count": null,
   "id": "e7aa7ae4",
   "metadata": {},
   "outputs": [],
   "source": []
  },
  {
   "cell_type": "code",
   "execution_count": null,
   "id": "90948830",
   "metadata": {},
   "outputs": [],
   "source": []
  },
  {
   "cell_type": "code",
   "execution_count": null,
   "id": "cfbf0e3f",
   "metadata": {},
   "outputs": [],
   "source": []
  },
  {
   "cell_type": "code",
   "execution_count": null,
   "id": "14322a7b",
   "metadata": {},
   "outputs": [],
   "source": []
  },
  {
   "cell_type": "code",
   "execution_count": null,
   "id": "0c11894a",
   "metadata": {},
   "outputs": [],
   "source": []
  },
  {
   "cell_type": "code",
   "execution_count": null,
   "id": "a3ef86cb",
   "metadata": {},
   "outputs": [],
   "source": []
  },
  {
   "cell_type": "code",
   "execution_count": null,
   "id": "3565fa8a",
   "metadata": {},
   "outputs": [],
   "source": []
  },
  {
   "cell_type": "code",
   "execution_count": null,
   "id": "15edb574",
   "metadata": {},
   "outputs": [],
   "source": []
  },
  {
   "cell_type": "code",
   "execution_count": null,
   "id": "ec4cfdd6",
   "metadata": {},
   "outputs": [],
   "source": [
    "aaa=['勉強・研究','単位','友達','英語','健康','安全','就職','留学','進学']"
   ]
  },
  {
   "cell_type": "code",
   "execution_count": null,
   "id": "5f306a69",
   "metadata": {},
   "outputs": [],
   "source": [
    "aaa[2]"
   ]
  },
  {
   "cell_type": "code",
   "execution_count": null,
   "id": "9914f0b6",
   "metadata": {},
   "outputs": [],
   "source": [
    "aaa[0:3]"
   ]
  },
  {
   "cell_type": "code",
   "execution_count": null,
   "id": "1c0063de",
   "metadata": {},
   "outputs": [],
   "source": [
    "aaa.append('家族')\n",
    "print(aaa)"
   ]
  },
  {
   "cell_type": "code",
   "execution_count": null,
   "id": "6259525b",
   "metadata": {},
   "outputs": [],
   "source": [
    "aaa.insert(0, '試験')\n",
    "print(aaa)"
   ]
  },
  {
   "cell_type": "code",
   "execution_count": null,
   "id": "71bd5ced",
   "metadata": {},
   "outputs": [],
   "source": [
    "bbb=list()\n",
    "bbb.append('勉強・研究')\n",
    "bbb.append(['単位','友達','英語','健康','安全','就職','留学','進学'])\n",
    "print(bbb)"
   ]
  },
  {
   "cell_type": "code",
   "execution_count": null,
   "id": "f6d22f37",
   "metadata": {},
   "outputs": [],
   "source": [
    "bbb[0]"
   ]
  },
  {
   "cell_type": "code",
   "execution_count": null,
   "id": "802f7e64",
   "metadata": {},
   "outputs": [],
   "source": [
    "bbb[1][2]"
   ]
  },
  {
   "cell_type": "markdown",
   "id": "af106b3b",
   "metadata": {},
   "source": [
    "# タプル tuple"
   ]
  },
  {
   "cell_type": "code",
   "execution_count": null,
   "id": "f3e69491",
   "metadata": {},
   "outputs": [],
   "source": [
    "a1 = [10, 20, 30, 40]    #リストは変更可能\n",
    "a2 = (110, 120, 130, 140)    #タプルは変更不可能"
   ]
  },
  {
   "cell_type": "code",
   "execution_count": null,
   "id": "0f3c6f02",
   "metadata": {},
   "outputs": [],
   "source": [
    "a1[2] = 60      # 要素変更できる\n",
    "a1"
   ]
  },
  {
   "cell_type": "code",
   "execution_count": null,
   "id": "d87aad2e",
   "metadata": {
    "scrolled": true
   },
   "outputs": [],
   "source": [
    "a2[2] = 60      # 要素変更できない\n",
    "a2"
   ]
  },
  {
   "cell_type": "code",
   "execution_count": null,
   "id": "2699f753",
   "metadata": {},
   "outputs": [],
   "source": [
    "a2 = (110, 120, 130, 140)    #タプルは変更不可能\n",
    "a3=list(a2)   #変更したい場合リストにタイプ変更\n",
    "a3"
   ]
  },
  {
   "cell_type": "code",
   "execution_count": null,
   "id": "fccdb1a5",
   "metadata": {},
   "outputs": [],
   "source": [
    "# a2 = (110, 120, 130, 140) \n",
    "a2 = (110, 120, )\n",
    "print(a2)\n",
    "print(type(a2))"
   ]
  },
  {
   "cell_type": "code",
   "execution_count": null,
   "id": "cf4be50f",
   "metadata": {},
   "outputs": [],
   "source": [
    "a2 = (110)\n",
    "print(a2)\n",
    "print(type(a2))"
   ]
  },
  {
   "cell_type": "code",
   "execution_count": null,
   "id": "4256f05d",
   "metadata": {},
   "outputs": [],
   "source": [
    "a4=(110, 120, 130, 140) +(10, 20, 30, 40) \n",
    "a4"
   ]
  },
  {
   "cell_type": "code",
   "execution_count": null,
   "id": "18ac179b",
   "metadata": {},
   "outputs": [],
   "source": [
    "a4=(110, 120, 130, 140) + tuple([10]) \n",
    "a4"
   ]
  },
  {
   "cell_type": "code",
   "execution_count": null,
   "id": "3f99a909",
   "metadata": {},
   "outputs": [],
   "source": [
    "a4=(110, 120, 130, 140) + [10]\n",
    "a4"
   ]
  },
  {
   "cell_type": "code",
   "execution_count": null,
   "id": "c73843fa",
   "metadata": {
    "scrolled": true
   },
   "outputs": [],
   "source": [
    "tuple1 = (0, 1, 2)\n",
    "\n",
    "list1 = list(tuple1)\n",
    "list1.remove(0)\n",
    "tuple1_remove = tuple(list1)\n",
    "\n",
    "print(tuple1_remove)"
   ]
  },
  {
   "cell_type": "markdown",
   "id": "c7326910",
   "metadata": {},
   "source": [
    "# 復習・練習：　\n",
    "先ほど作ったリストをタプルにデータ型変更してください。　\\\n",
    "そのあと、　\\\n",
    "タプルの0番から3番（含め）までをプリントアウト"
   ]
  },
  {
   "cell_type": "code",
   "execution_count": null,
   "id": "11f28015",
   "metadata": {},
   "outputs": [],
   "source": [
    "tuple_aaa=tuple(aaa)\n",
    "print(tuple_aaa)"
   ]
  },
  {
   "cell_type": "code",
   "execution_count": null,
   "id": "8512f5e1",
   "metadata": {},
   "outputs": [],
   "source": [
    "tuple_aaa[0:4]"
   ]
  },
  {
   "cell_type": "markdown",
   "id": "c7ff7638",
   "metadata": {},
   "source": [
    "# セット set"
   ]
  },
  {
   "cell_type": "code",
   "execution_count": null,
   "id": "7b10f8bf",
   "metadata": {},
   "outputs": [],
   "source": [
    "set1={1,2,3}"
   ]
  },
  {
   "cell_type": "code",
   "execution_count": null,
   "id": "81bd02d5",
   "metadata": {},
   "outputs": [],
   "source": [
    "set1[0]        #セットは順番がない"
   ]
  },
  {
   "cell_type": "code",
   "execution_count": null,
   "id": "f04ac5d8",
   "metadata": {},
   "outputs": [],
   "source": [
    "type(set1)"
   ]
  },
  {
   "cell_type": "code",
   "execution_count": null,
   "id": "fe3509de",
   "metadata": {},
   "outputs": [],
   "source": [
    "s = set([1,2,3])     #これはリストをセットに変換した作り方でできたセット\n",
    "s"
   ]
  },
  {
   "cell_type": "code",
   "execution_count": null,
   "id": "4ae10fec",
   "metadata": {},
   "outputs": [],
   "source": [
    "s=set()\n",
    "s.add(1)\n",
    "s.add(2)\n",
    "s.add(3)\n",
    "print(s)\n",
    "print(type(s))"
   ]
  },
  {
   "cell_type": "code",
   "execution_count": null,
   "id": "f5c2b353",
   "metadata": {},
   "outputs": [],
   "source": [
    "s.remove(2)\n",
    "s"
   ]
  },
  {
   "cell_type": "code",
   "execution_count": null,
   "id": "c5ea4703",
   "metadata": {},
   "outputs": [],
   "source": [
    "s1 = set([1, 2, 3, 4, 5])\n",
    "s2 = set([1, 3, 5, 7, 9])\n",
    "s3 = set([1, 2, 3])\n",
    " \n",
    "print(s1 | s2) #　和集合を求める set([1, 2, 3, 4, 5, 7, 9])\n",
    "print(s1 & s2) #　積集合を求める set([1, 3, 5])\n",
    "print(s1 | s3) #　和集合を求める set([1, 2, 3, 4, 5])\n",
    "print(s1 & s3) #　積集合を求める set([1, 2, 3])"
   ]
  },
  {
   "cell_type": "code",
   "execution_count": null,
   "id": "77f3010f",
   "metadata": {},
   "outputs": [],
   "source": []
  },
  {
   "cell_type": "code",
   "execution_count": null,
   "id": "5ce42d88",
   "metadata": {},
   "outputs": [],
   "source": []
  },
  {
   "cell_type": "code",
   "execution_count": null,
   "id": "4c952767",
   "metadata": {},
   "outputs": [],
   "source": []
  },
  {
   "cell_type": "code",
   "execution_count": null,
   "id": "3d1b7925",
   "metadata": {},
   "outputs": [],
   "source": []
  },
  {
   "cell_type": "markdown",
   "id": "4ba0a6b1",
   "metadata": {},
   "source": [
    "# 辞書 dict\n",
    "# from here 20240513"
   ]
  },
  {
   "cell_type": "code",
   "execution_count": null,
   "id": "86640931",
   "metadata": {},
   "outputs": [],
   "source": [
    "# IDと年齢の辞書\n",
    "d = {'Yamada': 30, 'Uemura': 40, 'Tanaka': 70}"
   ]
  },
  {
   "cell_type": "code",
   "execution_count": null,
   "id": "717b5f2d",
   "metadata": {},
   "outputs": [],
   "source": [
    "d1 = d['Yamada']"
   ]
  },
  {
   "cell_type": "code",
   "execution_count": null,
   "id": "1258b8a9",
   "metadata": {},
   "outputs": [],
   "source": [
    "d1"
   ]
  },
  {
   "cell_type": "code",
   "execution_count": null,
   "id": "63300a65",
   "metadata": {},
   "outputs": [],
   "source": [
    "d['Tanaka']=80\n",
    "d"
   ]
  },
  {
   "cell_type": "code",
   "execution_count": null,
   "id": "d98f6706",
   "metadata": {},
   "outputs": [],
   "source": [
    "d[1]   #この形の辞書は順番がない"
   ]
  },
  {
   "cell_type": "code",
   "execution_count": null,
   "id": "9e9d3ddc",
   "metadata": {},
   "outputs": [],
   "source": [
    "d2 = {1: 30, 2: 40, 3: 70}"
   ]
  },
  {
   "cell_type": "code",
   "execution_count": null,
   "id": "753a89f5",
   "metadata": {},
   "outputs": [],
   "source": [
    "d2[1] #こちらの１は何番目の順番の数字ではない、indexインデックス（索引）のこと"
   ]
  },
  {
   "cell_type": "code",
   "execution_count": null,
   "id": "479ea325",
   "metadata": {},
   "outputs": [],
   "source": [
    "d['Honda']=90\n",
    "d"
   ]
  },
  {
   "cell_type": "code",
   "execution_count": null,
   "id": "cd0994bf",
   "metadata": {},
   "outputs": [],
   "source": [
    "new_dict = [('Honda', 50), ('Ueda', 20)]\n",
    "d.update(new_dict)\n",
    "d"
   ]
  },
  {
   "cell_type": "code",
   "execution_count": null,
   "id": "78e072a6",
   "metadata": {
    "scrolled": true
   },
   "outputs": [],
   "source": [
    "new_dict1 = {'Honda': 90, 'Ueda': 20}\n",
    "d.update(new_dict1)\n",
    "d"
   ]
  },
  {
   "cell_type": "markdown",
   "id": "c114ee94",
   "metadata": {},
   "source": [
    "# フローチャートとは"
   ]
  },
  {
   "cell_type": "markdown",
   "id": "c3acba1a",
   "metadata": {},
   "source": [
    "<pre>\n",
    "フローチャート（flowchart）とは、プログラムの流れを設計するための図解術です。\n",
    "プログラムの概要/詳細ロジックの設計、可視化\n",
    "\n",
    "記号：楕円ー＞開始/終了記号\n",
    "         長方形ー＞処理記号\n",
    "         菱形ー＞判断記号\n",
    "         平行四辺形ー＞データ/入出力記号\n",
    "例：例１、例２\n",
    "<pre>"
   ]
  },
  {
   "cell_type": "markdown",
   "id": "ed60554d",
   "metadata": {},
   "source": [
    "フローチャート徹底解説 \\\n",
    "https://www.ntt.com/business/sdpf/knowledge/archive_47.html"
   ]
  },
  {
   "cell_type": "code",
   "execution_count": null,
   "id": "c043a277",
   "metadata": {},
   "outputs": [],
   "source": [
    "name = input(\"Enter your name: \")\n",
    "print(name)"
   ]
  },
  {
   "cell_type": "code",
   "execution_count": null,
   "id": "46d3da44",
   "metadata": {},
   "outputs": [],
   "source": [
    "Lunch = input(\"今日の昼ごはんは何を食べましたか？ \")\n",
    "print(Lunch)"
   ]
  },
  {
   "cell_type": "code",
   "execution_count": null,
   "id": "e0fb4c12",
   "metadata": {},
   "outputs": [],
   "source": []
  },
  {
   "cell_type": "code",
   "execution_count": null,
   "id": "881365e9",
   "metadata": {},
   "outputs": [],
   "source": [
    "question1 = input(\"こんにちは、ご用件はなんでしょうか？ \")"
   ]
  },
  {
   "cell_type": "code",
   "execution_count": null,
   "id": "0f5c3f7a",
   "metadata": {},
   "outputs": [],
   "source": [
    "if question1==\"今日の昼ごはんは何を食べようかな？決めてくれる？\":\n",
    "    import random\n",
    "\n",
    "    # List of items\n",
    "    items = ['唐揚げ', '家系ラーメン', '二郎系ラーメン', '韓国焼肉', 'スパゲッティ', '豚生姜焼き']\n",
    "\n",
    "    # Select a random item\n",
    "    selected_item = random.choice(items)\n",
    "\n",
    "    print(selected_item)\n",
    "    print(\"今日の昼ごはんは\"+selected_item+\"食べましょうか？いかがでしょうか?\")"
   ]
  },
  {
   "cell_type": "code",
   "execution_count": null,
   "id": "ade037f2",
   "metadata": {},
   "outputs": [],
   "source": [
    "# 上記二つセルのコードを統一して実行してみると\n",
    "\n",
    "question1 = input(\"こんにちは、ご用件はなんでしょうか？\\n\") #\\nは改行コード\n",
    "# print(question1)\n",
    "print(\"*********************************************\")\n",
    "if question1==\"今日の昼ごはんは何を食べようかな？決めてくれる？\":\n",
    "    import random\n",
    "\n",
    "    # List of items\n",
    "    items = ['唐揚げ', '家系ラーメン', '二郎系ラーメン', '韓国焼肉', 'スパゲッティ', '豚生姜焼き']\n",
    "\n",
    "    # Select a random item\n",
    "    selected_item = random.choice(items)\n",
    "\n",
    "    # print(selected_item)\n",
    "    print(\"はい、かしこまりました。今日の昼ごはんは\"+selected_item+\"食べましょうか？いかがでしょうか?\")"
   ]
  },
  {
   "cell_type": "code",
   "execution_count": null,
   "id": "6ca2948b",
   "metadata": {},
   "outputs": [],
   "source": []
  },
  {
   "cell_type": "code",
   "execution_count": null,
   "id": "0f173176",
   "metadata": {},
   "outputs": [],
   "source": [
    "# バージョン情報を調べる\n",
    "\n",
    "# 方法１\n",
    "# !pip3 list \n",
    "\n",
    "# 方法２\n",
    "# import pandas\n",
    "# print(pandas.__version__)"
   ]
  },
  {
   "cell_type": "code",
   "execution_count": null,
   "id": "114d139d",
   "metadata": {},
   "outputs": [],
   "source": [
    "import ipywidgets as wg\n",
    "from IPython.display import display\n",
    "myName = wg.Text(description='ID:')\n",
    "Lucky_number = wg.Text(description='Lucky number:')\n",
    "display(myName, Lucky_number)"
   ]
  },
  {
   "cell_type": "code",
   "execution_count": null,
   "id": "b98ed84e-6938-4e08-8f7c-3f488fd96e39",
   "metadata": {},
   "outputs": [],
   "source": [
    "### new cell\n",
    "print(myName.value + \"'s lucky number is \" + str(Lucky_number.value) )"
   ]
  },
  {
   "cell_type": "code",
   "execution_count": null,
   "id": "e89b998e",
   "metadata": {},
   "outputs": [],
   "source": []
  },
  {
   "cell_type": "markdown",
   "id": "e20ea97c",
   "metadata": {},
   "source": [
    "# if else elif "
   ]
  },
  {
   "cell_type": "code",
   "execution_count": null,
   "id": "72f3c62b",
   "metadata": {},
   "outputs": [],
   "source": [
    "# '''\n",
    "# if 条件1:\n",
    "#     処理1を実行...\n",
    "# [elif 条件2:\n",
    "#     処理2を実行...]\n",
    "# [else: 　　　　　　　　#条件1と条件2以外の場合\n",
    "#     処理3を実行...]\n",
    "# '''"
   ]
  },
  {
   "cell_type": "code",
   "execution_count": null,
   "id": "f9b74d1e",
   "metadata": {},
   "outputs": [],
   "source": [
    "num = 90\n",
    "if num > 101:\n",
    "    print(\"BIG\")\n",
    "elif num == 100:\n",
    "    print(\"NORMAL\")\n",
    "else:\n",
    "    print(\"SMALL\")"
   ]
  },
  {
   "cell_type": "code",
   "execution_count": null,
   "id": "a106f309",
   "metadata": {},
   "outputs": [],
   "source": [
    "# example 1: 80=<x<100 \"優秀\"\n",
    "# example 2: 80=<x<100 \"優秀\"　60=<x<80 \"良好\"\n",
    "# example 3: 80=<x<100 \"優秀\"　60=<x<80 \"良好\"  x<60 \"頑張りましょう！\"\n",
    "# example 4: x>=100 \"満点\"　80=<x<100 \"優秀\"　60=<x<80 \"良好\"  x<60 \"頑張りましょう！\""
   ]
  },
  {
   "cell_type": "code",
   "execution_count": null,
   "id": "346c5d19",
   "metadata": {},
   "outputs": [],
   "source": [
    "if 80=<x<100:\n",
    "    print(\"優秀\")"
   ]
  },
  {
   "cell_type": "code",
   "execution_count": null,
   "id": "b3be9baf",
   "metadata": {},
   "outputs": [],
   "source": [
    "if x in range(80,100):\n",
    "    print(\"優秀\")"
   ]
  },
  {
   "cell_type": "code",
   "execution_count": null,
   "id": "a591e497",
   "metadata": {},
   "outputs": [],
   "source": [
    "x=85\n",
    "if x in range(80,100):\n",
    "    print(\"優秀\")"
   ]
  },
  {
   "cell_type": "code",
   "execution_count": null,
   "id": "ee290cda",
   "metadata": {},
   "outputs": [],
   "source": [
    "# example 2: 80=<x<=100 \"優秀\"　60=<x<80 \"良好\"\n",
    "x=65\n",
    "if x in range(80,101):\n",
    "    print(\"優秀\")\n",
    "elif x in range(60,80) :\n",
    "    print(\"良好\")\n",
    "\n",
    "# ここの「elif」行のインデントがないことを気を付けましょう！インデントがあるとエラーが出る。"
   ]
  },
  {
   "cell_type": "code",
   "execution_count": null,
   "id": "cbaae627",
   "metadata": {},
   "outputs": [],
   "source": [
    "# example 3: 80=<x<=100 \"優秀\"　60=<x<80 \"良好\"  x<60 \"頑張りましょう！\"\n",
    "\n",
    "x=35\n",
    "if x in range(80,101):\n",
    "    print(\"優秀\")\n",
    "elif x in range(60,80) :\n",
    "    print(\"良好\")\n",
    "else:\n",
    "    print(\"頑張りましょう！\")"
   ]
  },
  {
   "cell_type": "code",
   "execution_count": null,
   "id": "0ac2ad92",
   "metadata": {},
   "outputs": [],
   "source": [
    "# example 4: x>=100 \"満点\"　80=<x<100 \"優秀\"　60=<x<80 \"良好\"  x<60 \"頑張りましょう！\"\n",
    "\n",
    "x=85\n",
    "if x in range(80,100):\n",
    "    print(\"優秀\")\n",
    "elif x in range(60,80) :\n",
    "    print(\"良好\")\n",
    "elif x in range(0,60) :\n",
    "    print(\"頑張りましょう！\")\n",
    "elif x >=100 :\n",
    "    print(\"満点\")"
   ]
  },
  {
   "cell_type": "code",
   "execution_count": null,
   "id": "737ffa67",
   "metadata": {},
   "outputs": [],
   "source": []
  },
  {
   "cell_type": "markdown",
   "id": "9d7746b0",
   "metadata": {},
   "source": [
    "# while else"
   ]
  },
  {
   "cell_type": "code",
   "execution_count": null,
   "id": "2e2e6800",
   "metadata": {},
   "outputs": [],
   "source": [
    "# '''\n",
    "# while 条件1:\n",
    "#     処理1を実行...\n",
    "# [else:\n",
    "#     処理2を実行...]\n",
    "# '''"
   ]
  },
  {
   "cell_type": "code",
   "execution_count": null,
   "id": "308e961c",
   "metadata": {},
   "outputs": [],
   "source": [
    "n = 0\n",
    "while n < 5:\n",
    "    print(n)\n",
    "    n += 1"
   ]
  },
  {
   "cell_type": "code",
   "execution_count": null,
   "id": "c287ab1f",
   "metadata": {},
   "outputs": [],
   "source": [
    "n = 0\n",
    "while n < 5:\n",
    "    print(n)\n",
    "    n += 1\n",
    "else:\n",
    "    print('END')"
   ]
  },
  {
   "cell_type": "code",
   "execution_count": null,
   "id": "5dd5fe13",
   "metadata": {},
   "outputs": [],
   "source": []
  },
  {
   "cell_type": "markdown",
   "id": "ad29d0e7",
   "metadata": {},
   "source": [
    "# for in"
   ]
  },
  {
   "cell_type": "code",
   "execution_count": null,
   "id": "0443ee40",
   "metadata": {},
   "outputs": [],
   "source": [
    "# '''\n",
    "# for var in 条件1:\n",
    "#     処理1を実行...\n",
    "# [else:\n",
    "#     処理2を実行...]\n",
    "# '''"
   ]
  },
  {
   "cell_type": "code",
   "execution_count": null,
   "id": "d89d2b38",
   "metadata": {},
   "outputs": [],
   "source": [
    "for i in range(5):\n",
    "    print(i)"
   ]
  },
  {
   "cell_type": "code",
   "execution_count": null,
   "id": "f73170f5",
   "metadata": {},
   "outputs": [],
   "source": [
    "for i in range(5):\n",
    "    print(\"Hello World!\")"
   ]
  },
  {
   "cell_type": "code",
   "execution_count": null,
   "id": "14053736",
   "metadata": {},
   "outputs": [],
   "source": [
    "for n in [1, 2, 3]:\n",
    "    print(n) "
   ]
  },
  {
   "cell_type": "code",
   "execution_count": null,
   "id": "f7e1f5f4",
   "metadata": {},
   "outputs": [],
   "source": [
    "for a in \"ABC\":\n",
    "    print(a) "
   ]
  },
  {
   "cell_type": "code",
   "execution_count": null,
   "id": "607b5865",
   "metadata": {},
   "outputs": [],
   "source": [
    "for k in {'one': 1, 'two': 2, 'three': 3}:\n",
    "    print(k) \n",
    "\n",
    "# for k in {'one': 1, 'two': 2, 'three': 3}.keys():\n",
    "#     print(k) \n",
    "\n",
    "# for k in {'one': 1, 'two': 2, 'three': 3}.values():\n",
    "#     print(k) "
   ]
  },
  {
   "cell_type": "code",
   "execution_count": null,
   "id": "1d515f0d",
   "metadata": {},
   "outputs": [],
   "source": [
    "aaa={'one': 3, 'two': 5, 'three': 7}\n",
    "for k in aaa:\n",
    "    print(k)\n",
    "    print(aaa[k]) \n",
    "    \n",
    "# for k,v in aaa.items():\n",
    "#     print(k,v)"
   ]
  },
  {
   "cell_type": "code",
   "execution_count": null,
   "id": "77b1981d",
   "metadata": {},
   "outputs": [],
   "source": [
    "aaa={'one': 3, 'two': 5, 'three': 7}\n",
    "for k in aaa:\n",
    "    print(k+':'+str(aaa[k])) \n",
    "else:\n",
    "    print('END')"
   ]
  },
  {
   "cell_type": "code",
   "execution_count": null,
   "id": "0769ac77",
   "metadata": {},
   "outputs": [],
   "source": []
  },
  {
   "cell_type": "code",
   "execution_count": null,
   "id": "eb5e89b9",
   "metadata": {},
   "outputs": [],
   "source": [
    "# a = [1, 2, 3]の要素をすべて×２で掛け算をしてプリントアウト\n",
    "\n",
    "a = [1, 2, 3]\n",
    "list1=[]\n",
    "for x in a:\n",
    "    print(x*2)\n",
    "    list1.append(x*2)\n",
    "    print(str(x)+\"回目:\", list1)"
   ]
  },
  {
   "cell_type": "code",
   "execution_count": null,
   "id": "d065e06e",
   "metadata": {
    "scrolled": true
   },
   "outputs": [],
   "source": [
    "#　map()はリストの各要素をすべて同じ処理を行い、処理した結果を返す\n",
    "\n",
    "a = [1, 2, 3]\n",
    "\n",
    "def double(x): return x * 2\n",
    "\n",
    "print(list(map(double, a)))                  #=> [2, 4, 6] : 関数方式\n",
    "# print(list(map(lambda x: x * 2, a)))         #=> [2, 4, 6] : lambda方式\n",
    "# print([x * 2 for x in a])                    #=> [2, 4, 6] : 内包表記"
   ]
  },
  {
   "cell_type": "code",
   "execution_count": null,
   "id": "47682019",
   "metadata": {},
   "outputs": [],
   "source": []
  },
  {
   "cell_type": "markdown",
   "id": "0b9dfbe7",
   "metadata": {},
   "source": [
    "# break, continue, pass"
   ]
  },
  {
   "cell_type": "code",
   "execution_count": null,
   "id": "599d9163",
   "metadata": {},
   "outputs": [],
   "source": [
    "# break: 繰り返し処理を抜け出す\n",
    "for n in range(10):\n",
    "    if n == 5:\n",
    "        break\n",
    "    print(n)                 # 0, 1, 2, 3, 4"
   ]
  },
  {
   "cell_type": "code",
   "execution_count": null,
   "id": "97ae2cb5",
   "metadata": {},
   "outputs": [],
   "source": [
    "# continue: 繰り返し処理をスキップ\n",
    "for n in range(10):\n",
    "    if n == 5:\n",
    "        continue\n",
    "    print(n)                 # 0, 1, 2, 3, 4, 6, 7, 8, 9"
   ]
  },
  {
   "cell_type": "code",
   "execution_count": null,
   "id": "aefda039",
   "metadata": {},
   "outputs": [],
   "source": [
    "# pass: 何も処理を行わない\n",
    "for n in range(10):\n",
    "    if n == 5:\n",
    "        pass\n",
    "    print(n)   "
   ]
  },
  {
   "cell_type": "code",
   "execution_count": null,
   "id": "1845b04d",
   "metadata": {},
   "outputs": [],
   "source": []
  },
  {
   "cell_type": "code",
   "execution_count": null,
   "id": "4d02177a",
   "metadata": {},
   "outputs": [],
   "source": [
    "#一階微分\n",
    "from sympy import *\n",
    "import numpy as np\n",
    "x = Symbol('x')\n",
    "y = x**2 + 1\n",
    "yprime = y.diff(x)\n",
    "print(yprime)"
   ]
  },
  {
   "cell_type": "code",
   "execution_count": null,
   "id": "9527530a",
   "metadata": {},
   "outputs": [],
   "source": [
    "#さらに二階微分\n",
    "yprimeprime = yprime.diff(x)\n",
    "print(yprimeprime)"
   ]
  },
  {
   "cell_type": "code",
   "execution_count": null,
   "id": "d61a0854",
   "metadata": {},
   "outputs": [],
   "source": []
  },
  {
   "cell_type": "code",
   "execution_count": null,
   "id": "57586d09",
   "metadata": {},
   "outputs": [],
   "source": [
    "# !pip3 install gtts"
   ]
  },
  {
   "cell_type": "code",
   "execution_count": null,
   "id": "c62488af",
   "metadata": {},
   "outputs": [],
   "source": [
    "from gtts import gTTS\n",
    "gTTS('Welcome To InterviewBit').save('interviewbit.mp3')"
   ]
  },
  {
   "cell_type": "code",
   "execution_count": null,
   "id": "d640afce",
   "metadata": {},
   "outputs": [],
   "source": [
    "from gtts import gTTS\n",
    "import os\n",
    "\n",
    "file=open(\"Python.txt\", \"r\", encoding='utf-8').read()\n",
    "speech = gTTS(text=file, lang=\"ja\", slow=False) #\"en\"\n",
    "speech.save(\"voice.mp3\")\n",
    "# os.system(\"voice.mp3\")"
   ]
  },
  {
   "cell_type": "code",
   "execution_count": null,
   "id": "72c43d1a",
   "metadata": {},
   "outputs": [],
   "source": []
  },
  {
   "cell_type": "code",
   "execution_count": null,
   "id": "5274e468",
   "metadata": {},
   "outputs": [],
   "source": [
    "import random\n",
    "print(\"数字を当ててポイントを稼ぎるゲームです\")\n",
    "print(\"あたると100ポイント獲得、外れると50ポイントなくなる\")\n",
    "a=random.randint(1,3)\n",
    "score = 100 \n",
    "while True:\n",
    "    b=int(input(\"1から3までの整数を当ててください\"))\n",
    "    if (a==b):\n",
    "        score+=100\n",
    "        print(\"おめでとうございます！今のポイントは\", score)\n",
    "        break\n",
    "    elif(b<a):\n",
    "        score=score-50\n",
    "        print(\"もっと大きく当ててみて！今のポイントは\", score)\n",
    "    else:\n",
    "        score=score-50\n",
    "        print(\"もっと小さく当ててみて！今のポイントは\", score)\n",
    "       "
   ]
  },
  {
   "cell_type": "markdown",
   "id": "efdf00a0",
   "metadata": {},
   "source": [
    "# 下の練習をやってみてください！\n",
    "\n",
    "# 練習１\n",
    "宅急便のサイズによって、料金が変わるシステム、まずinput()を使ってサイズを確認しましょう。 \\\n",
    "そのあと、100サイズ以下(<=100)の場合：「郵送料は1000円です」をプリントアウト、 \\\n",
    "            100-140サイズ(100<x<=140]の場合：「郵送料は1200円です」をプリントアウト、 \\\n",
    "            140-160サイズ(140<x<=160]の場合：「郵送料は1500円です」をプリントアウト \n",
    "\n",
    "# 練習2\n",
    "空の辞書を作る。\n",
    "input()を使ってIDとパスワードを聞いてください。\n",
    "これを三回繰り返して異なるIDとパスワードのペアを辞書に追加。\n",
    "辞書をプリントアウト。\n",
    "\n",
    "そして、下記のコードを使って、IDとパスワードを入力してください。\n",
    "import ipywidgets as wg\n",
    "from IPython.display import display\n",
    "myName = wg.Text(description='ID:')\n",
    "Lucky_number = wg.Text(description='Lucky number:')\n",
    "display(myName, Lucky_number)\n",
    "\n",
    "ログインのIDとパスワードを両方とも一致する場合、「Welcome」をプリントアウト、 \\\n",
    "一つ違ったら「もう一回正しいIDとパスワードを入力してください」をプリントアウト  \\\n",
    "\n",
    "# 練習3\n",
    "https://www.nagoya-u.ac.jp/academics/curriculum/grading_gpa/index.html　 \\\n",
    "1-3．100点満点による評価を記号による評価に換算する場合の標準的方法 \\\n",
    "を参照して、それぞれの点数の評価記号をプリントアウト"
   ]
  },
  {
   "cell_type": "code",
   "execution_count": null,
   "id": "53ecf065",
   "metadata": {},
   "outputs": [],
   "source": []
  },
  {
   "cell_type": "code",
   "execution_count": null,
   "id": "32e31003",
   "metadata": {},
   "outputs": [],
   "source": []
  },
  {
   "cell_type": "code",
   "execution_count": null,
   "id": "a062ceb3",
   "metadata": {},
   "outputs": [],
   "source": []
  },
  {
   "cell_type": "code",
   "execution_count": null,
   "id": "de01dfaf",
   "metadata": {},
   "outputs": [],
   "source": []
  },
  {
   "cell_type": "code",
   "execution_count": null,
   "id": "a60f74e8",
   "metadata": {},
   "outputs": [],
   "source": []
  },
  {
   "cell_type": "code",
   "execution_count": null,
   "id": "e0071c04",
   "metadata": {},
   "outputs": [],
   "source": []
  },
  {
   "cell_type": "code",
   "execution_count": null,
   "id": "4114906e",
   "metadata": {},
   "outputs": [],
   "source": []
  },
  {
   "cell_type": "code",
   "execution_count": null,
   "id": "32d6d5c9",
   "metadata": {},
   "outputs": [],
   "source": []
  },
  {
   "cell_type": "code",
   "execution_count": null,
   "id": "58c91d9b",
   "metadata": {},
   "outputs": [],
   "source": [
    "x=int(input('荷物のサイズ：'))\n",
    "\n",
    "if x in range(0,100):\n",
    "    print(\"郵送料は1000円です\")\n",
    "elif x in range(100,140) :\n",
    "    print(\"郵送料は1200円です\")\n",
    "elif x in range(140,160) :\n",
    "    print(\"郵送料は1500円です\")"
   ]
  },
  {
   "cell_type": "code",
   "execution_count": null,
   "id": "ea9eedda",
   "metadata": {},
   "outputs": [],
   "source": []
  }
 ],
 "metadata": {
  "kernelspec": {
   "display_name": "Python 3 (ipykernel)",
   "language": "python",
   "name": "python3"
  },
  "language_info": {
   "codemirror_mode": {
    "name": "ipython",
    "version": 3
   },
   "file_extension": ".py",
   "mimetype": "text/x-python",
   "name": "python",
   "nbconvert_exporter": "python",
   "pygments_lexer": "ipython3",
   "version": "3.11.7"
  }
 },
 "nbformat": 4,
 "nbformat_minor": 5
}
