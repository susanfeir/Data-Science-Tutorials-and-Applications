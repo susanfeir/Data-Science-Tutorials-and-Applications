{
 "cells": [
  {
   "cell_type": "markdown",
   "id": "3964d8a3",
   "metadata": {},
   "source": [
    "<pre>\n",
    "\n",
    "今日のポイント：\n",
    "①　宿題提出　　\n",
    "②　構築環境問題　　\n",
    "    1）デフォルト　directory　　\n",
    "    2）コメントアウト＃のショットカット（Ctrl+/）が使えない問題　　\n",
    "③　前回の実習状況　　\n",
    "④　復習　\n",
    "⑤　今日の達成目標：　　\n",
    "    １）四つのデータ型（str, int, float, bool）　　\n",
    "    ２）五つのオブジェクト型（list, tuple, set, dict, function）　　\n",
    "    ３）制御構文（if, else, elif; while, else; for, in;                       break; continue; pass ）　\n",
    "<pre>"
   ]
  },
  {
   "cell_type": "code",
   "execution_count": null,
   "id": "f099a51c",
   "metadata": {
    "scrolled": true
   },
   "outputs": [],
   "source": [
    "# ランダムに二人ペアを組むことにより、実習の時、お互いの先生をやって、お互いの実習結果をチェックする。\n",
    "# 目標：授業時間の効率アップを目指す\n",
    "\n",
    "import random\n",
    "\n",
    "def generate_random_pairs(numbers):\n",
    "#     random.seed(100)\n",
    "    random.shuffle(numbers)\n",
    "    return [(numbers[i], numbers[i+1]) for i in range(0, len(numbers), 2)]\n",
    "\n",
    "aa=['淺野 こころ', '神之薗 星凪', '清水 大暉','井戸 陸斗','鈴木 健介','竹内 智也','石田 暖人','岩村 胡春','宇治野 正惇','関根 弘樹','田邉 圭佑','松澤 舜平','三輪 涼太','神戸 翔太','竹内 ひかり','先生']\n",
    "pairs=generate_random_pairs(aa)\n",
    "print(pairs)"
   ]
  },
  {
   "cell_type": "code",
   "execution_count": null,
   "id": "6deed3d4",
   "metadata": {},
   "outputs": [],
   "source": []
  },
  {
   "cell_type": "code",
   "execution_count": null,
   "id": "5d355b77",
   "metadata": {},
   "outputs": [],
   "source": [
    "# pythonでは０から始まること、\n",
    "# range()の関数では、カッコ中の数字を見てストップ、その数字を含まないこと"
   ]
  },
  {
   "cell_type": "code",
   "execution_count": null,
   "id": "7d7ed78e",
   "metadata": {},
   "outputs": [],
   "source": [
    "print(list(range(5))) "
   ]
  },
  {
   "cell_type": "code",
   "execution_count": null,
   "id": "9f300d32",
   "metadata": {},
   "outputs": [],
   "source": [
    "print(list(range(1,5))) "
   ]
  },
  {
   "cell_type": "code",
   "execution_count": null,
   "id": "0ed171e9",
   "metadata": {
    "scrolled": true
   },
   "outputs": [],
   "source": [
    "# コンセプト１：繰り返し処理　iteration (for loop) \n",
    "for i in range(5):\n",
    "    print(\"Hello World!\")"
   ]
  },
  {
   "cell_type": "code",
   "execution_count": null,
   "id": "ba540703",
   "metadata": {},
   "outputs": [],
   "source": [
    "# コンセプト２：再帰的呼び出し recursive\n",
    "def EvenNums(num):\n",
    "    print(num)\n",
    "    if num==2:\n",
    "        print('end')\n",
    "    else:\n",
    "        return EvenNums(num-2)\n",
    "aa=EvenNums(8)"
   ]
  },
  {
   "cell_type": "code",
   "execution_count": null,
   "id": "2a4b6a03",
   "metadata": {},
   "outputs": [],
   "source": []
  },
  {
   "cell_type": "code",
   "execution_count": null,
   "id": "c42db5cc",
   "metadata": {},
   "outputs": [],
   "source": [
    "print(range(３))#構文エラー　原因：日本語入力モードの全角３"
   ]
  },
  {
   "cell_type": "code",
   "execution_count": null,
   "id": "ba457f9d",
   "metadata": {
    "scrolled": true
   },
   "outputs": [],
   "source": [
    "print(range(3))　#SyntaxError　構文エラー　原因：「　」という全角スペース"
   ]
  },
  {
   "cell_type": "markdown",
   "id": "e492f880",
   "metadata": {},
   "source": [
    "# https://www.kikagaku.co.jp/kikagaku-blog/python-basic-error/   \n",
    "# Python のよくある基本的なエラーと確認方法まとめ"
   ]
  },
  {
   "cell_type": "code",
   "execution_count": null,
   "id": "908dc644",
   "metadata": {},
   "outputs": [],
   "source": []
  },
  {
   "cell_type": "code",
   "execution_count": null,
   "id": "fc652473",
   "metadata": {},
   "outputs": [],
   "source": [
    "1+1"
   ]
  },
  {
   "cell_type": "code",
   "execution_count": null,
   "id": "790fd885",
   "metadata": {},
   "outputs": [],
   "source": [
    "9-7"
   ]
  },
  {
   "cell_type": "code",
   "execution_count": null,
   "id": "732942c6",
   "metadata": {},
   "outputs": [],
   "source": [
    "2*3"
   ]
  },
  {
   "cell_type": "code",
   "execution_count": null,
   "id": "94655e35",
   "metadata": {},
   "outputs": [],
   "source": [
    "4/2"
   ]
  },
  {
   "cell_type": "code",
   "execution_count": null,
   "id": "2e1a659c",
   "metadata": {},
   "outputs": [],
   "source": [
    "11%3 #11 を 3 で割った余り"
   ]
  },
  {
   "cell_type": "code",
   "execution_count": null,
   "id": "bfa0bb57",
   "metadata": {},
   "outputs": [],
   "source": [
    "11//3 #切り捨て除算：割り算をして整数部分のみを取得"
   ]
  },
  {
   "cell_type": "code",
   "execution_count": null,
   "id": "a1272e68",
   "metadata": {},
   "outputs": [],
   "source": [
    "4**2 #べき乗"
   ]
  },
  {
   "cell_type": "code",
   "execution_count": null,
   "id": "0340a080",
   "metadata": {},
   "outputs": [],
   "source": []
  },
  {
   "cell_type": "code",
   "execution_count": null,
   "id": "b2a8e723",
   "metadata": {},
   "outputs": [],
   "source": [
    "8/7"
   ]
  },
  {
   "cell_type": "code",
   "execution_count": null,
   "id": "594e1b0a",
   "metadata": {},
   "outputs": [],
   "source": [
    "# 小数点第三位以下を切り捨て\n",
    "print(round(8/7,3))"
   ]
  },
  {
   "cell_type": "code",
   "execution_count": null,
   "id": "32b9ddb0",
   "metadata": {},
   "outputs": [],
   "source": []
  },
  {
   "cell_type": "code",
   "execution_count": null,
   "id": "f2046df6",
   "metadata": {},
   "outputs": [],
   "source": []
  },
  {
   "cell_type": "markdown",
   "id": "b6692496",
   "metadata": {},
   "source": [
    "# From here 20240430\n",
    "\n",
    "### Pythonで非常によく使われるデータ型"
   ]
  },
  {
   "cell_type": "code",
   "execution_count": null,
   "id": "282aa191",
   "metadata": {},
   "outputs": [],
   "source": [
    "# mathというモジュールを導入する\n",
    "import math\n",
    "\n",
    "# 検索 keyword \"python math module functions 日本語\"　\n",
    "# このモジュールに含めた関数の詳しい内容、使い方が出てくる\n",
    "\n",
    "math.factorial(4) # 4! 4の階乗"
   ]
  },
  {
   "cell_type": "code",
   "execution_count": null,
   "id": "12b04c7f",
   "metadata": {},
   "outputs": [],
   "source": [
    "# type()という関数を使って、outputのタイプをチェック\n",
    "type(math.factorial(4))"
   ]
  },
  {
   "cell_type": "code",
   "execution_count": null,
   "id": "33bab810",
   "metadata": {},
   "outputs": [],
   "source": [
    "math.exp(2) #ネイピア数e= 2.718281の二乗を計算、（ math.exp(2)=e**2）"
   ]
  },
  {
   "cell_type": "code",
   "execution_count": null,
   "id": "65086747",
   "metadata": {},
   "outputs": [],
   "source": [
    "type(math.exp(2))"
   ]
  },
  {
   "cell_type": "code",
   "execution_count": null,
   "id": "0c1c12bb",
   "metadata": {},
   "outputs": [],
   "source": [
    "(1/3)*(3/5) #相殺(そうさい)できない、結果が近似値になることを注意しましょう"
   ]
  },
  {
   "cell_type": "code",
   "execution_count": null,
   "id": "119e1527",
   "metadata": {},
   "outputs": [],
   "source": [
    "message_1='We will win!'\n",
    "message_2=\"We will win\"\n",
    "print(message_1)\n",
    "print(message_2)"
   ]
  },
  {
   "cell_type": "code",
   "execution_count": null,
   "id": "3a96454e",
   "metadata": {},
   "outputs": [],
   "source": [
    "type(message_1)"
   ]
  },
  {
   "cell_type": "markdown",
   "id": "cb03435c",
   "metadata": {},
   "source": [
    "### 比較演算子(==, !=, <, >, <=, >=, is, is not, in, not in)\n",
    "\n",
    "==　等しい　\\\n",
    "!=　異なる　\\\n",
    "is　等しい　\\\n",
    "is not　異なる　\\\n",
    "in　含まれる　\\\n",
    "not in　含まれない"
   ]
  },
  {
   "cell_type": "code",
   "execution_count": null,
   "id": "cd6e576b",
   "metadata": {},
   "outputs": [],
   "source": [
    "# 「==」の役割は左右の値は等しいかどうかを比較\n",
    "\n",
    "message_1='We will win!'\n",
    "message_2=\"We will win\"\n",
    "\n",
    "#  message_1==message_2の意味：message_1==message_2\n",
    "print(message_1==message_2)\n",
    "print(message_1!=message_2)"
   ]
  },
  {
   "cell_type": "code",
   "execution_count": null,
   "id": "527a85ad",
   "metadata": {},
   "outputs": [],
   "source": [
    "type(message_1==message_2)"
   ]
  },
  {
   "cell_type": "code",
   "execution_count": null,
   "id": "37340c7a",
   "metadata": {},
   "outputs": [],
   "source": [
    "print(message_1 is message_2)\n",
    "print(message_1 is not message_2)"
   ]
  },
  {
   "cell_type": "code",
   "execution_count": null,
   "id": "03be02b1",
   "metadata": {},
   "outputs": [],
   "source": [
    "a=\"abc\"\n",
    "b=\"abcdef\"\n",
    "print(a in b)\n",
    "print(a not in b)"
   ]
  },
  {
   "cell_type": "code",
   "execution_count": null,
   "id": "5d35b52d",
   "metadata": {},
   "outputs": [],
   "source": [
    "print(True and True)\n",
    "print(True and False)\n",
    "print(True or False)\n",
    "print(False or False)"
   ]
  },
  {
   "cell_type": "code",
   "execution_count": null,
   "id": "3ab27c87",
   "metadata": {},
   "outputs": [],
   "source": [
    "print(not False)\n",
    "print(not True)"
   ]
  },
  {
   "cell_type": "code",
   "execution_count": null,
   "id": "1a7479bd",
   "metadata": {},
   "outputs": [],
   "source": [
    "print((3>=4) and (3>2)) #False and True\n",
    "print((3>4) or (3>2)) #False or True"
   ]
  },
  {
   "cell_type": "code",
   "execution_count": null,
   "id": "60d8fc2f",
   "metadata": {},
   "outputs": [],
   "source": []
  },
  {
   "cell_type": "code",
   "execution_count": null,
   "id": "f9bf4b8f",
   "metadata": {},
   "outputs": [],
   "source": []
  },
  {
   "cell_type": "code",
   "execution_count": null,
   "id": "2c402351",
   "metadata": {},
   "outputs": [],
   "source": [
    "print(a+b)"
   ]
  },
  {
   "cell_type": "code",
   "execution_count": null,
   "id": "4be70df5",
   "metadata": {},
   "outputs": [],
   "source": [
    "print(3+6.2)"
   ]
  },
  {
   "cell_type": "code",
   "execution_count": null,
   "id": "98d29974",
   "metadata": {},
   "outputs": [],
   "source": [
    "print(str(3)+6.2) #エラー原因は違うタイプのデータは結合できない"
   ]
  },
  {
   "cell_type": "code",
   "execution_count": null,
   "id": "3855da6c",
   "metadata": {},
   "outputs": [],
   "source": [
    "print(str(3)+'19826.2')"
   ]
  },
  {
   "cell_type": "code",
   "execution_count": null,
   "id": "51e04daf",
   "metadata": {},
   "outputs": [],
   "source": [
    "type(str(3)+'19826.2')"
   ]
  },
  {
   "cell_type": "code",
   "execution_count": null,
   "id": "9432d261",
   "metadata": {},
   "outputs": [],
   "source": [
    "print(str(3)+str(6.2)) #strの場合「+」は結合の役割"
   ]
  },
  {
   "cell_type": "code",
   "execution_count": null,
   "id": "ed5b35ad",
   "metadata": {},
   "outputs": [],
   "source": [
    "name_jp ='じめじめ'\n",
    "int1=10\n",
    "print(name_jp+str(int1))\n",
    "print(name_jp+int1)"
   ]
  },
  {
   "cell_type": "code",
   "execution_count": null,
   "id": "a1b0a195",
   "metadata": {},
   "outputs": [],
   "source": [
    "# quiz\n",
    "x1 = 1\n",
    "x2 = 1.5\n",
    "x3 = '1.5'\n",
    "x4 = '1.9'\n",
    "x5 = 2.5\n",
    "\n",
    "print(x1 + x2)\n",
    "print(x3 + x4)\n",
    "print(x2 + x5)\n",
    "answer='唐揚げ'\n",
    "print('今日の昼ごはんは'+answer+'を食べました。')"
   ]
  },
  {
   "cell_type": "code",
   "execution_count": null,
   "id": "747231c3",
   "metadata": {},
   "outputs": [],
   "source": [
    "#演算子の計算優先順位は数学と同じ\n",
    "print(100 / 10**2 + 2 * 3 - 5)\n",
    "print((100 / 10)**2 + 2 * 3 - 5)"
   ]
  },
  {
   "cell_type": "code",
   "execution_count": null,
   "id": "447fb58c",
   "metadata": {},
   "outputs": [],
   "source": [
    "# 演算子で計算する場合、false ならば int 型の 0 に、true ならば int 型の 1 に変換される。\n",
    "print(1 + True)\n",
    "print(100*False)\n",
    "print(type(1 + True))\n",
    "print(type(100*False))"
   ]
  },
  {
   "cell_type": "code",
   "execution_count": null,
   "id": "421fc534",
   "metadata": {},
   "outputs": [],
   "source": [
    "# pythonでは、「=」は右側の値を左の変数に付与する、「==」は比較演算子\n",
    "a = [1,2,3]\n",
    "b = a\n",
    "print(a==b)\n",
    "print(a is b)"
   ]
  },
  {
   "cell_type": "code",
   "execution_count": null,
   "id": "502873a6",
   "metadata": {},
   "outputs": [],
   "source": [
    "a = [1,2,3]\n",
    "b = [1,2,3]\n",
    "print(a==b)\n",
    "print(a is b)"
   ]
  },
  {
   "cell_type": "code",
   "execution_count": null,
   "id": "9885ae34",
   "metadata": {},
   "outputs": [],
   "source": [
    "print(id(a),id(b))"
   ]
  },
  {
   "cell_type": "code",
   "execution_count": null,
   "id": "67933d4f",
   "metadata": {},
   "outputs": [],
   "source": []
  },
  {
   "cell_type": "code",
   "execution_count": null,
   "id": "64c98288",
   "metadata": {},
   "outputs": [],
   "source": [
    "user_name='aaabbb'\n",
    "password=123456\n",
    "print(user_name=='bbbccc' and password==123456)\n",
    "print(user_name=='aaabbb' and password==23456)\n",
    "print(user_name=='aaabbb' and password==123456)"
   ]
  },
  {
   "cell_type": "code",
   "execution_count": null,
   "id": "46d72cdc",
   "metadata": {},
   "outputs": [],
   "source": []
  },
  {
   "cell_type": "code",
   "execution_count": null,
   "id": "4926e2ea",
   "metadata": {},
   "outputs": [],
   "source": []
  },
  {
   "cell_type": "markdown",
   "id": "6f4f3821",
   "metadata": {},
   "source": [
    "# リスト list"
   ]
  },
  {
   "cell_type": "code",
   "execution_count": null,
   "id": "fb48b5d8",
   "metadata": {},
   "outputs": [],
   "source": [
    "a = [1, 3, 5, 7, 9]\n",
    "for n in a:\n",
    "    print(n)"
   ]
  },
  {
   "cell_type": "code",
   "execution_count": null,
   "id": "78a6102a",
   "metadata": {},
   "outputs": [],
   "source": [
    "a = [1, 3, 5, 7, 9]\n",
    "for n in range(5):\n",
    "    print(n, a[n])"
   ]
  },
  {
   "cell_type": "code",
   "execution_count": null,
   "id": "a86dc058",
   "metadata": {},
   "outputs": [],
   "source": [
    "print(a[0])"
   ]
  },
  {
   "cell_type": "code",
   "execution_count": null,
   "id": "ae19776f",
   "metadata": {},
   "outputs": [],
   "source": [
    "print(a[-1])"
   ]
  },
  {
   "cell_type": "code",
   "execution_count": null,
   "id": "0a2e1194",
   "metadata": {},
   "outputs": [],
   "source": [
    "a1 = a[0:2] #リストの0番から1番の数字を取る\n",
    "a1"
   ]
  },
  {
   "cell_type": "code",
   "execution_count": null,
   "id": "72d8a5b0",
   "metadata": {},
   "outputs": [],
   "source": [
    "a2 = a[2:] #リストの2番から最後の数字を取る\n",
    "a2"
   ]
  },
  {
   "cell_type": "code",
   "execution_count": null,
   "id": "328faf40",
   "metadata": {},
   "outputs": [],
   "source": [
    "a3 = a[:3] #リストの最初から2番までの数字を取る\n",
    "a3"
   ]
  },
  {
   "cell_type": "code",
   "execution_count": null,
   "id": "8075b315",
   "metadata": {},
   "outputs": [],
   "source": [
    "print([1, 2, 3] + [4, 5, 6]) # +演算子を用いてリストを結合"
   ]
  },
  {
   "cell_type": "code",
   "execution_count": null,
   "id": "c5c2e5ed",
   "metadata": {},
   "outputs": [],
   "source": [
    "a.append(100)\n",
    "a"
   ]
  },
  {
   "cell_type": "code",
   "execution_count": null,
   "id": "70eda7ca",
   "metadata": {},
   "outputs": [],
   "source": [
    "a.append('abc')\n",
    "a"
   ]
  },
  {
   "cell_type": "code",
   "execution_count": null,
   "id": "410250da",
   "metadata": {},
   "outputs": [],
   "source": [
    "a.extend([10, 11, 12])\n",
    "a"
   ]
  },
  {
   "cell_type": "code",
   "execution_count": null,
   "id": "0e1d4210",
   "metadata": {},
   "outputs": [],
   "source": [
    "a.insert(0, 300)\n",
    "print(a)"
   ]
  },
  {
   "cell_type": "code",
   "execution_count": null,
   "id": "ec4cfdd6",
   "metadata": {},
   "outputs": [],
   "source": []
  },
  {
   "cell_type": "code",
   "execution_count": null,
   "id": "c29b3444",
   "metadata": {},
   "outputs": [],
   "source": []
  },
  {
   "cell_type": "markdown",
   "id": "af106b3b",
   "metadata": {},
   "source": [
    "# タプル tuple"
   ]
  },
  {
   "cell_type": "code",
   "execution_count": null,
   "id": "f3e69491",
   "metadata": {},
   "outputs": [],
   "source": [
    "a1 = [10, 20, 30, 40]    #リストは変更可能\n",
    "a2 = (110, 120, 130, 140)    #タプルは変更不可能"
   ]
  },
  {
   "cell_type": "code",
   "execution_count": null,
   "id": "0f3c6f02",
   "metadata": {},
   "outputs": [],
   "source": [
    "a1[2] = 60      # 代入できる\n",
    "a1"
   ]
  },
  {
   "cell_type": "code",
   "execution_count": null,
   "id": "d87aad2e",
   "metadata": {
    "scrolled": true
   },
   "outputs": [],
   "source": [
    "a2[2] = 60      # 代入できない\n",
    "a2"
   ]
  },
  {
   "cell_type": "code",
   "execution_count": null,
   "id": "97ad8d10",
   "metadata": {},
   "outputs": [],
   "source": [
    "a2[4]=50        #追加もできない"
   ]
  },
  {
   "cell_type": "code",
   "execution_count": null,
   "id": "2699f753",
   "metadata": {},
   "outputs": [],
   "source": [
    "a3=list(a2)   #変更したい場合リストにタイプ変更\n",
    "a3"
   ]
  },
  {
   "cell_type": "code",
   "execution_count": null,
   "id": "fccdb1a5",
   "metadata": {},
   "outputs": [],
   "source": [
    "# a2 = (110, 120, 130, 140) \n",
    "a2 = (110, 120, )\n",
    "print(a2)\n",
    "print(type(a2))"
   ]
  },
  {
   "cell_type": "code",
   "execution_count": null,
   "id": "cf4be50f",
   "metadata": {},
   "outputs": [],
   "source": [
    "a2 = (110)\n",
    "print(a2)\n",
    "print(type(a2))"
   ]
  },
  {
   "cell_type": "code",
   "execution_count": null,
   "id": "4256f05d",
   "metadata": {},
   "outputs": [],
   "source": [
    "a4=(110, 120, 130, 140) +(10, 20, 30, 40) \n",
    "a4"
   ]
  },
  {
   "cell_type": "code",
   "execution_count": null,
   "id": "18ac179b",
   "metadata": {},
   "outputs": [],
   "source": [
    "a4=(110, 120, 130, 140) + tuple([10]) \n",
    "a4"
   ]
  },
  {
   "cell_type": "code",
   "execution_count": null,
   "id": "c73843fa",
   "metadata": {},
   "outputs": [],
   "source": [
    "tuple1 = (0, 1, 2)\n",
    "\n",
    "list1 = list(tuple1)\n",
    "list1.remove(0)\n",
    "tuple1_remove = tuple(list1)\n",
    "\n",
    "print(tuple1_remove)"
   ]
  },
  {
   "cell_type": "code",
   "execution_count": null,
   "id": "fc02d291",
   "metadata": {},
   "outputs": [],
   "source": []
  },
  {
   "cell_type": "code",
   "execution_count": null,
   "id": "c1235238",
   "metadata": {},
   "outputs": [],
   "source": []
  },
  {
   "cell_type": "markdown",
   "id": "c7ff7638",
   "metadata": {},
   "source": [
    "# セット set"
   ]
  },
  {
   "cell_type": "code",
   "execution_count": null,
   "id": "7b10f8bf",
   "metadata": {},
   "outputs": [],
   "source": [
    "set1={1,2,3}"
   ]
  },
  {
   "cell_type": "code",
   "execution_count": null,
   "id": "81bd02d5",
   "metadata": {},
   "outputs": [],
   "source": [
    "set1[0]        #セットは順番がない"
   ]
  },
  {
   "cell_type": "code",
   "execution_count": null,
   "id": "f04ac5d8",
   "metadata": {},
   "outputs": [],
   "source": [
    "type(set1)"
   ]
  },
  {
   "cell_type": "code",
   "execution_count": null,
   "id": "fe3509de",
   "metadata": {},
   "outputs": [],
   "source": [
    "s = set([1,2,3])     #これはリストをセットに変換した作り方でできたセット\n",
    "s"
   ]
  },
  {
   "cell_type": "code",
   "execution_count": null,
   "id": "4ae10fec",
   "metadata": {},
   "outputs": [],
   "source": [
    "s=set()\n",
    "s.add(1)\n",
    "s.add(2)\n",
    "s.add(3)\n",
    "print(s)\n",
    "print(type(s))"
   ]
  },
  {
   "cell_type": "code",
   "execution_count": null,
   "id": "f5c2b353",
   "metadata": {},
   "outputs": [],
   "source": [
    "s.remove(2)\n",
    "s"
   ]
  },
  {
   "cell_type": "code",
   "execution_count": null,
   "id": "c5ea4703",
   "metadata": {},
   "outputs": [],
   "source": [
    "s1 = set([1, 2, 3, 4, 5])\n",
    "s2 = set([1, 3, 5, 7, 9])\n",
    "s3 = set([1, 2, 3])\n",
    " \n",
    "print(s1 | s2) #　和集合を求める set([1, 2, 3, 4, 5, 7, 9])\n",
    "print(s1 & s2) #　積集合を求める set([1, 3, 5])\n",
    "print(s1 | s3) #　和集合を求める set([1, 2, 3, 4, 5])\n",
    "print(s1 & s3) #　積集合を求める set([1, 2, 3])"
   ]
  },
  {
   "cell_type": "code",
   "execution_count": null,
   "id": "77f3010f",
   "metadata": {},
   "outputs": [],
   "source": []
  },
  {
   "cell_type": "code",
   "execution_count": null,
   "id": "5ce42d88",
   "metadata": {},
   "outputs": [],
   "source": []
  },
  {
   "cell_type": "code",
   "execution_count": null,
   "id": "4c952767",
   "metadata": {},
   "outputs": [],
   "source": []
  },
  {
   "cell_type": "code",
   "execution_count": null,
   "id": "3d1b7925",
   "metadata": {},
   "outputs": [],
   "source": []
  },
  {
   "cell_type": "markdown",
   "id": "4ba0a6b1",
   "metadata": {},
   "source": [
    "# 辞書 dict"
   ]
  },
  {
   "cell_type": "code",
   "execution_count": null,
   "id": "86640931",
   "metadata": {},
   "outputs": [],
   "source": [
    "d = {'Yamada': 30, 'Uemura': 40, 'Tanaka': 70}"
   ]
  },
  {
   "cell_type": "code",
   "execution_count": null,
   "id": "717b5f2d",
   "metadata": {},
   "outputs": [],
   "source": [
    "d1 = d['Yamada']\n",
    "d2 = d['Uemura']\n",
    "d3 = d['Tanaka']"
   ]
  },
  {
   "cell_type": "code",
   "execution_count": null,
   "id": "1258b8a9",
   "metadata": {},
   "outputs": [],
   "source": [
    "d3"
   ]
  },
  {
   "cell_type": "code",
   "execution_count": null,
   "id": "63300a65",
   "metadata": {},
   "outputs": [],
   "source": [
    "d['Tanaka']=80\n",
    "d"
   ]
  },
  {
   "cell_type": "code",
   "execution_count": null,
   "id": "8ab32cfc",
   "metadata": {},
   "outputs": [],
   "source": [
    "d[0]      #辞書も順番がない、インデックスがあるから"
   ]
  },
  {
   "cell_type": "code",
   "execution_count": null,
   "id": "9e9d3ddc",
   "metadata": {},
   "outputs": [],
   "source": [
    "d2 = {1: 30, 2: 40, 3: 70}"
   ]
  },
  {
   "cell_type": "code",
   "execution_count": null,
   "id": "753a89f5",
   "metadata": {},
   "outputs": [],
   "source": [
    "d2[1] #こちらの１は何番目の順番の数字ではない、indexインデックス（索引）のこと"
   ]
  },
  {
   "cell_type": "code",
   "execution_count": null,
   "id": "479ea325",
   "metadata": {},
   "outputs": [],
   "source": [
    "d['Honda']=90\n",
    "d"
   ]
  },
  {
   "cell_type": "code",
   "execution_count": null,
   "id": "cd0994bf",
   "metadata": {},
   "outputs": [],
   "source": [
    "new_dict = [('Honda', 90), ('Ueda', 20)]\n",
    "d.update(new_dict)\n",
    "d"
   ]
  },
  {
   "cell_type": "code",
   "execution_count": null,
   "id": "78e072a6",
   "metadata": {},
   "outputs": [],
   "source": [
    "new_dict1 = {'Honda': 90, 'Ueda': 20}\n",
    "d.update(new_dict1)\n",
    "d"
   ]
  },
  {
   "cell_type": "code",
   "execution_count": null,
   "id": "4e4eae47",
   "metadata": {},
   "outputs": [],
   "source": []
  },
  {
   "cell_type": "code",
   "execution_count": null,
   "id": "baf49409",
   "metadata": {},
   "outputs": [],
   "source": []
  },
  {
   "cell_type": "code",
   "execution_count": null,
   "id": "4a34d934",
   "metadata": {},
   "outputs": [],
   "source": [
    "#　リストの各要素をすべて同じ処理を行い、処理した結果を返す\n",
    "\n",
    "a = [1, 2, 3]\n",
    "\n",
    "def double(x): return x * 2\n",
    "\n",
    "print(list(map(double, a)))                  #=> [2, 4, 6] : 関数方式\n",
    "print(list(map(lambda x: x * 2, a)))         #=> [2, 4, 6] : lambda方式\n",
    "print([x * 2 for x in a])                    #=> [2, 4, 6] : 内包表記(後述)"
   ]
  },
  {
   "cell_type": "code",
   "execution_count": null,
   "id": "033a081f",
   "metadata": {},
   "outputs": [],
   "source": [
    "list=[]\n",
    "for x in a:\n",
    "    print(x*2)\n",
    "    list.append(x*2)\n",
    "    print(list)"
   ]
  },
  {
   "cell_type": "code",
   "execution_count": null,
   "id": "3d39b225",
   "metadata": {},
   "outputs": [],
   "source": []
  },
  {
   "cell_type": "code",
   "execution_count": null,
   "id": "0b01297a",
   "metadata": {},
   "outputs": [],
   "source": [
    "#一階微分\n",
    "from sympy import *\n",
    "import numpy as np\n",
    "x = Symbol('x')\n",
    "y = x**2 + 1\n",
    "yprime = y.diff(x)\n",
    "print(yprime)"
   ]
  },
  {
   "cell_type": "code",
   "execution_count": null,
   "id": "fbaf2dfd",
   "metadata": {},
   "outputs": [],
   "source": [
    "#さらに二階微分\n",
    "yprimeprime = yprime.diff(x)\n",
    "print(yprimeprime)"
   ]
  },
  {
   "cell_type": "code",
   "execution_count": null,
   "id": "2821157b",
   "metadata": {},
   "outputs": [],
   "source": []
  },
  {
   "cell_type": "code",
   "execution_count": null,
   "id": "1bebc728",
   "metadata": {},
   "outputs": [],
   "source": []
  },
  {
   "cell_type": "code",
   "execution_count": null,
   "id": "31be0eaa",
   "metadata": {},
   "outputs": [],
   "source": []
  },
  {
   "cell_type": "code",
   "execution_count": null,
   "id": "c043a277",
   "metadata": {},
   "outputs": [],
   "source": [
    "name = input(\"Enter your name: \")\n",
    "print(name)"
   ]
  },
  {
   "cell_type": "code",
   "execution_count": null,
   "id": "46d3da44",
   "metadata": {},
   "outputs": [],
   "source": [
    "Lunch = input(\"今日の昼ごはんは何を食べましたか？ \")\n",
    "print(Lunch)"
   ]
  },
  {
   "cell_type": "code",
   "execution_count": null,
   "id": "e0fb4c12",
   "metadata": {},
   "outputs": [],
   "source": []
  },
  {
   "cell_type": "code",
   "execution_count": null,
   "id": "881365e9",
   "metadata": {},
   "outputs": [],
   "source": [
    "question1 = input(\"こんにちは、ご用件はなんでしょうか？ \")"
   ]
  },
  {
   "cell_type": "code",
   "execution_count": null,
   "id": "0f5c3f7a",
   "metadata": {},
   "outputs": [],
   "source": [
    "if question1==\"今日の昼ごはんは何を食べようかな？決めてくれる？\":\n",
    "    import random\n",
    "\n",
    "    # List of items\n",
    "    items = ['唐揚げ', '家系ラーメン', '二郎系ラーメン', '韓国焼肉', 'スパゲッティ', '豚生姜焼き']\n",
    "\n",
    "    # Select a random item\n",
    "    selected_item = random.choice(items)\n",
    "\n",
    "    print(selected_item)\n",
    "    print(\"今日の昼ごはんは\"+selected_item+\"食べましょうか？いかがでしょうか?\")"
   ]
  },
  {
   "cell_type": "code",
   "execution_count": null,
   "id": "ade037f2",
   "metadata": {},
   "outputs": [],
   "source": [
    "question1 = input(\"こんにちは、ご用件はなんでしょうか？\\n\") #\\nは改行コード\n",
    "# print(question1)\n",
    "print(\"*********************************************\")\n",
    "if question1==\"今日の昼ごはんは何を食べようかな？決めてくれる？\":\n",
    "    import random\n",
    "\n",
    "    # List of items\n",
    "    items = ['唐揚げ', '家系ラーメン', '二郎系ラーメン', '韓国焼肉', 'スパゲッティ', '豚生姜焼き']\n",
    "\n",
    "    # Select a random item\n",
    "    selected_item = random.choice(items)\n",
    "\n",
    "    # print(selected_item)\n",
    "    print(\"はい、かしこまりました。今日の昼ごはんは\"+selected_item+\"食べましょうか？いかがでしょうか?\")"
   ]
  },
  {
   "cell_type": "code",
   "execution_count": null,
   "id": "d7a4d152",
   "metadata": {},
   "outputs": [],
   "source": []
  },
  {
   "cell_type": "code",
   "execution_count": null,
   "id": "6ca2948b",
   "metadata": {},
   "outputs": [],
   "source": []
  },
  {
   "cell_type": "code",
   "execution_count": null,
   "id": "0f173176",
   "metadata": {},
   "outputs": [],
   "source": [
    "# バージョン情報を調べる\n",
    "\n",
    "# 方法１\n",
    "# !pip3 list \n",
    "\n",
    "# 方法２\n",
    "# import pandas\n",
    "# print(pandas.__version__)"
   ]
  },
  {
   "cell_type": "code",
   "execution_count": null,
   "id": "114d139d",
   "metadata": {},
   "outputs": [],
   "source": [
    "import ipywidgets as wg\n",
    "from IPython.display import display"
   ]
  },
  {
   "cell_type": "code",
   "execution_count": null,
   "id": "2c46bf63",
   "metadata": {},
   "outputs": [],
   "source": [
    "myName = wg.Text(value='')\n",
    "display(myName)"
   ]
  },
  {
   "cell_type": "code",
   "execution_count": null,
   "id": "14a91315-6c1b-453a-8b59-2079a1266667",
   "metadata": {},
   "outputs": [],
   "source": [
    "Lucky_number = wg.IntSlider(description='Lucky number:')\n",
    "display(Lucky_number)"
   ]
  },
  {
   "cell_type": "code",
   "execution_count": null,
   "id": "b98ed84e-6938-4e08-8f7c-3f488fd96e39",
   "metadata": {},
   "outputs": [],
   "source": [
    "### new cell\n",
    "print(myName.value + \"'s lucky number is \" + str(Lucky_number.value) )"
   ]
  },
  {
   "cell_type": "code",
   "execution_count": null,
   "id": "2fcb59f1",
   "metadata": {},
   "outputs": [],
   "source": []
  },
  {
   "cell_type": "code",
   "execution_count": null,
   "id": "e89b998e",
   "metadata": {},
   "outputs": [],
   "source": []
  },
  {
   "cell_type": "markdown",
   "id": "e20ea97c",
   "metadata": {},
   "source": [
    "# if else elif "
   ]
  },
  {
   "cell_type": "code",
   "execution_count": null,
   "id": "72f3c62b",
   "metadata": {},
   "outputs": [],
   "source": [
    "# '''\n",
    "# if 条件1:\n",
    "#     処理1を実行...\n",
    "# [elif 条件2:\n",
    "#     処理2を実行...]\n",
    "# [else:\n",
    "#     処理3を実行...]\n",
    "# '''\n",
    "# \n",
    "# example 1: 80=<x<100 \"優秀\"\n",
    "# example 2: 80=<x<100 \"優秀\"　60=<x<80 \"良好\"\n",
    "# example 3: 80=<x<100 \"優秀\"　60=<x<80 \"良好\"  x<60 \"頑張りましょう！\"\n",
    "# example 4: x>=100 \"満点\"　80=<x<100 \"優秀\"　60=<x<80 \"良好\"  x<60 \"頑張りましょう！\""
   ]
  },
  {
   "cell_type": "code",
   "execution_count": null,
   "id": "346c5d19",
   "metadata": {},
   "outputs": [],
   "source": [
    "if 80=<x<100:\n",
    "    print(\"優秀\")"
   ]
  },
  {
   "cell_type": "code",
   "execution_count": null,
   "id": "b3be9baf",
   "metadata": {},
   "outputs": [],
   "source": [
    "if x in range(80,100):\n",
    "    print(\"優秀\")"
   ]
  },
  {
   "cell_type": "code",
   "execution_count": null,
   "id": "a591e497",
   "metadata": {},
   "outputs": [],
   "source": [
    "x=85\n",
    "if x in range(80,100):\n",
    "    print(\"優秀\")"
   ]
  },
  {
   "cell_type": "code",
   "execution_count": null,
   "id": "ee290cda",
   "metadata": {},
   "outputs": [],
   "source": [
    "# example 2: 80=<x<=100 \"優秀\"　60=<x<80 \"良好\"\n",
    "x=65\n",
    "if x in range(80,101):\n",
    "    print(\"優秀\")\n",
    "elif x in range(60,80) :\n",
    "    print(\"良好\")\n",
    "\n",
    "# ここの「elif」行のインデントがないことを気を付けましょう！インデントがあるとエラーが出る。"
   ]
  },
  {
   "cell_type": "code",
   "execution_count": null,
   "id": "cbaae627",
   "metadata": {},
   "outputs": [],
   "source": [
    "# example 3: 80=<x<=100 \"優秀\"　60=<x<80 \"良好\"  x<60 \"頑張りましょう！\"\n",
    "\n",
    "x=35\n",
    "if x in range(80,101):\n",
    "    print(\"優秀\")\n",
    "elif x in range(60,80) :\n",
    "    print(\"良好\")\n",
    "else:\n",
    "    print(\"頑張りましょう！\")"
   ]
  },
  {
   "cell_type": "code",
   "execution_count": null,
   "id": "0ac2ad92",
   "metadata": {},
   "outputs": [],
   "source": [
    "# example 4: x>=100 \"満点\"　80=<x<100 \"優秀\"　60=<x<80 \"良好\"  x<60 \"頑張りましょう！\"\n",
    "\n",
    "x=85\n",
    "if x in range(80,100):\n",
    "    print(\"優秀\")\n",
    "elif x in range(60,80) :\n",
    "    print(\"良好\")\n",
    "elif x in range(0,60) :\n",
    "    print(\"頑張りましょう！\")\n",
    "elif x >=100 :\n",
    "    print(\"満点\")"
   ]
  },
  {
   "cell_type": "markdown",
   "id": "1a807432",
   "metadata": {},
   "source": [
    "# 練習"
   ]
  },
  {
   "cell_type": "code",
   "execution_count": null,
   "id": "7184b3e7",
   "metadata": {},
   "outputs": [],
   "source": [
    "# 下の練習をやってみてください！\n",
    "\n",
    "# 練習１\n",
    "# 宅急便のサイズによって、料金が変わるシステム、100サイズ以下(<=100)：1000円、100~140サイズ(100,140]：1200円、140~160サイズ(140,160]：1500円\n",
    "\n",
    "# 練習2\n",
    "# ログインのIDとパスワードを両方とも一致する場合、「Welcome」をプリントアウト、\n",
    "# 一つ違ったら「もう一回正しいIDとパスワードを入力してください」をプリントアウト"
   ]
  },
  {
   "cell_type": "code",
   "execution_count": null,
   "id": "9bf2e284",
   "metadata": {},
   "outputs": [],
   "source": []
  },
  {
   "cell_type": "code",
   "execution_count": null,
   "id": "737ffa67",
   "metadata": {},
   "outputs": [],
   "source": []
  },
  {
   "cell_type": "markdown",
   "id": "9d7746b0",
   "metadata": {},
   "source": [
    "# while else"
   ]
  },
  {
   "cell_type": "code",
   "execution_count": null,
   "id": "2e2e6800",
   "metadata": {},
   "outputs": [],
   "source": [
    "# '''\n",
    "# while 条件1:\n",
    "#     処理1を実行...\n",
    "# [else:\n",
    "#     処理2を実行...]\n",
    "# '''"
   ]
  },
  {
   "cell_type": "code",
   "execution_count": null,
   "id": "308e961c",
   "metadata": {},
   "outputs": [],
   "source": [
    "n = 0\n",
    "while n <= 5:\n",
    "    print(n)\n",
    "    n += 1"
   ]
  },
  {
   "cell_type": "code",
   "execution_count": null,
   "id": "c287ab1f",
   "metadata": {},
   "outputs": [],
   "source": [
    "n = 0\n",
    "while n <= 5:\n",
    "    print(n)\n",
    "    n += 1\n",
    "else:\n",
    "    print('END')"
   ]
  },
  {
   "cell_type": "code",
   "execution_count": null,
   "id": "5dd5fe13",
   "metadata": {},
   "outputs": [],
   "source": []
  },
  {
   "cell_type": "markdown",
   "id": "ad29d0e7",
   "metadata": {},
   "source": [
    "# for in"
   ]
  },
  {
   "cell_type": "code",
   "execution_count": null,
   "id": "0443ee40",
   "metadata": {},
   "outputs": [],
   "source": [
    "# '''\n",
    "# for var in 条件1:\n",
    "#     処理1を実行...\n",
    "# [else:\n",
    "#     処理2を実行...]\n",
    "# '''"
   ]
  },
  {
   "cell_type": "code",
   "execution_count": null,
   "id": "f73170f5",
   "metadata": {},
   "outputs": [],
   "source": [
    "for i in range(5):\n",
    "    print(\"Hello World!\")"
   ]
  },
  {
   "cell_type": "code",
   "execution_count": null,
   "id": "14053736",
   "metadata": {},
   "outputs": [],
   "source": [
    "for n in [1, 2, 3]:\n",
    "    print(n) "
   ]
  },
  {
   "cell_type": "code",
   "execution_count": null,
   "id": "f7e1f5f4",
   "metadata": {},
   "outputs": [],
   "source": [
    "for a in \"ABC\":\n",
    "    print(a) "
   ]
  },
  {
   "cell_type": "code",
   "execution_count": null,
   "id": "607b5865",
   "metadata": {},
   "outputs": [],
   "source": [
    "for k in {'one': 1, 'two': 2, 'three': 3}:\n",
    "    print(k) "
   ]
  },
  {
   "cell_type": "code",
   "execution_count": null,
   "id": "1d515f0d",
   "metadata": {},
   "outputs": [],
   "source": [
    "aaa={'one': 3, 'two': 5, 'three': 7}\n",
    "for k in aaa:\n",
    "    print(k)\n",
    "    print(aaa[k]) "
   ]
  },
  {
   "cell_type": "code",
   "execution_count": null,
   "id": "77b1981d",
   "metadata": {},
   "outputs": [],
   "source": [
    "aaa={'one': 3, 'two': 5, 'three': 7}\n",
    "for k in aaa:\n",
    "    print(k+':'+str(aaa[k])) \n",
    "else:\n",
    "    print('END')"
   ]
  },
  {
   "cell_type": "markdown",
   "id": "0b9dfbe7",
   "metadata": {},
   "source": [
    "# break, continue"
   ]
  },
  {
   "cell_type": "code",
   "execution_count": null,
   "id": "599d9163",
   "metadata": {},
   "outputs": [],
   "source": [
    "# break: 繰り返し処理を抜け出す\n",
    "for n in range(10):\n",
    "    if n == 5:\n",
    "        break\n",
    "    print(n)                 # 0, 1, 2, 3, 4"
   ]
  },
  {
   "cell_type": "code",
   "execution_count": null,
   "id": "97ae2cb5",
   "metadata": {},
   "outputs": [],
   "source": [
    "# continue: 繰り返し処理をスキップ\n",
    "for n in range(10):\n",
    "    if n == 5:\n",
    "        continue\n",
    "    print(n)                 # 0, 1, 2, 3, 4, 6, 7, 8, 9"
   ]
  },
  {
   "cell_type": "code",
   "execution_count": null,
   "id": "aefda039",
   "metadata": {},
   "outputs": [],
   "source": [
    "# pass: 何も処理を行わない\n",
    "for n in range(10):\n",
    "    if n == 5:\n",
    "        pass\n",
    "    print(n)   "
   ]
  },
  {
   "cell_type": "code",
   "execution_count": null,
   "id": "d61a0854",
   "metadata": {},
   "outputs": [],
   "source": []
  }
 ],
 "metadata": {
  "kernelspec": {
   "display_name": "Python 3 (ipykernel)",
   "language": "python",
   "name": "python3"
  },
  "language_info": {
   "codemirror_mode": {
    "name": "ipython",
    "version": 3
   },
   "file_extension": ".py",
   "mimetype": "text/x-python",
   "name": "python",
   "nbconvert_exporter": "python",
   "pygments_lexer": "ipython3",
   "version": "3.11.7"
  }
 },
 "nbformat": 4,
 "nbformat_minor": 5
}
