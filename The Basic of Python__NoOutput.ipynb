{
 "cells": [
  {
   "cell_type": "code",
   "execution_count": null,
   "id": "89d28245",
   "metadata": {},
   "outputs": [],
   "source": [
    "# 再帰呼び出し recursive\n",
    "\n",
    "# Example 1\n",
    "\n",
    "# def EvenNums(num):\n",
    "#     print(num)\n",
    "#     if num % 2 !=0:\n",
    "#         print(\"please enter an even number\")\n",
    "#     elif num==2:\n",
    "#         return num\n",
    "#     else:\n",
    "#         return EvenNums(num-2)\n",
    "\n",
    "# Example 2\n",
    "\n",
    "# def factorial(n):\n",
    "# 　if n < 2: return 1\n",
    "# 　return n * factorial(n - 1)"
   ]
  },
  {
   "cell_type": "code",
   "execution_count": null,
   "id": "0e5ac8d8",
   "metadata": {
    "slideshow": {
     "slide_type": "slide"
    }
   },
   "outputs": [],
   "source": [
    "def EvenNums(num):\n",
    "    print(num)\n",
    "    if num==2:\n",
    "        return num\n",
    "    else:\n",
    "        return EvenNums(num-2)"
   ]
  },
  {
   "cell_type": "code",
   "execution_count": null,
   "id": "791b8b9e",
   "metadata": {
    "slideshow": {
     "slide_type": "subslide"
    }
   },
   "outputs": [],
   "source": [
    "EvenNums(8)"
   ]
  },
  {
   "cell_type": "code",
   "execution_count": null,
   "id": "d84d99e7",
   "metadata": {},
   "outputs": [],
   "source": [
    "aa=EvenNums(8)"
   ]
  },
  {
   "cell_type": "code",
   "execution_count": null,
   "id": "8849833c",
   "metadata": {},
   "outputs": [],
   "source": [
    "print(aa)"
   ]
  },
  {
   "cell_type": "code",
   "execution_count": null,
   "id": "e29dd1d7",
   "metadata": {},
   "outputs": [],
   "source": []
  },
  {
   "cell_type": "code",
   "execution_count": null,
   "id": "59c67739",
   "metadata": {},
   "outputs": [],
   "source": []
  },
  {
   "cell_type": "code",
   "execution_count": null,
   "id": "2aa80668",
   "metadata": {},
   "outputs": [],
   "source": [
    "# 繰り返し処理　iteration\n",
    "for i in range(5):\n",
    "    print(\"Hello World!\")"
   ]
  },
  {
   "cell_type": "code",
   "execution_count": null,
   "id": "1cbbde70",
   "metadata": {},
   "outputs": [],
   "source": []
  },
  {
   "cell_type": "code",
   "execution_count": null,
   "id": "f0e76f56",
   "metadata": {},
   "outputs": [],
   "source": []
  },
  {
   "cell_type": "code",
   "execution_count": null,
   "id": "5f2c4976",
   "metadata": {},
   "outputs": [],
   "source": [
    "%matplotlib inline\n",
    "import numpy as np\n",
    "import matplotlib.pyplot as plt\n",
    "\n",
    "def logisticFunc(xin,a): # definition of the Logistic map\n",
    "    return a*xin*(1-xin)\n",
    "\n",
    "def plotLogisticMap(a=3.2, iteration=20):\n",
    "    '''\n",
    "    Plotting package of 1-d maps\n",
    "    args: parameter of map, number of iteration\n",
    "    '''\n",
    "    xn = 0.1   # initial value of the variable\n",
    "    \n",
    "    fig = plt.figure()\n",
    "    axes = fig.add_subplot(1,1,1) # Alternatively you can simply use plt.plot()\n",
    "    # draw y=x and f(x)\n",
    "    x = np.arange(0,1.0,0.01)\n",
    "    axes.plot(x, a*x*(1-x), 'r')\n",
    "    axes.plot(x, x, 'k')\n",
    "    axes.set_xlabel(\"$x_n$\")\n",
    "    axes.set_ylabel(\"$x_{n+1}$\")\n",
    "    axes.set_title(\"a=\" + str(a))\n",
    "    # show map iterations\n",
    "    xnext = logisticFunc(xn,a) \n",
    "    axes.plot([xn,xn],[0,xnext])\n",
    "    for i in range(iteration):\n",
    "        axes.plot([xn,xnext],[xnext,xnext],\"b\")\n",
    "        xn = xnext\n",
    "        xnext = logisticFunc(xn,a)\n",
    "        axes.plot([xn,xn], [xn,xnext],\"b\")"
   ]
  },
  {
   "cell_type": "code",
   "execution_count": null,
   "id": "b0a7c09f",
   "metadata": {},
   "outputs": [],
   "source": [
    "#関数にパラメータaと繰り返し回数を引数として与えれば描画される\n",
    "plotLogisticMap(3.46, 30)"
   ]
  },
  {
   "cell_type": "code",
   "execution_count": null,
   "id": "48a16d1c",
   "metadata": {},
   "outputs": [],
   "source": [
    "# !pip3 install IPython.display --target=C:\\Users\\susan\\AppData\\Roaming\\Python\\Python38\\site-packages stemming"
   ]
  },
  {
   "cell_type": "code",
   "execution_count": null,
   "id": "06434421",
   "metadata": {},
   "outputs": [],
   "source": [
    "# !pip3 install ipywidgets --target=C:\\Users\\susan\\AppData\\Roaming\\Python\\Python38\\site-packages stemming"
   ]
  },
  {
   "cell_type": "code",
   "execution_count": null,
   "id": "10e9fd91",
   "metadata": {},
   "outputs": [],
   "source": [
    "from ipywidgets import interact, fixed\n",
    "interact(plotLogisticMap, a=(0.0,4.0,0.02), iteration=(10,100,5))"
   ]
  },
  {
   "cell_type": "code",
   "execution_count": null,
   "id": "3d5053b7",
   "metadata": {},
   "outputs": [],
   "source": []
  },
  {
   "cell_type": "code",
   "execution_count": null,
   "id": "a0d05519",
   "metadata": {},
   "outputs": [],
   "source": []
  },
  {
   "cell_type": "code",
   "execution_count": null,
   "id": "b5e3ca66",
   "metadata": {},
   "outputs": [],
   "source": []
  },
  {
   "cell_type": "code",
   "execution_count": null,
   "id": "4d76a961",
   "metadata": {},
   "outputs": [],
   "source": []
  },
  {
   "cell_type": "code",
   "execution_count": null,
   "id": "c4fc51ab",
   "metadata": {},
   "outputs": [],
   "source": []
  },
  {
   "cell_type": "code",
   "execution_count": null,
   "id": "f13247e0",
   "metadata": {},
   "outputs": [],
   "source": []
  },
  {
   "cell_type": "code",
   "execution_count": null,
   "id": "63c7fe2c",
   "metadata": {},
   "outputs": [],
   "source": []
  },
  {
   "cell_type": "code",
   "execution_count": null,
   "id": "956a27a4",
   "metadata": {},
   "outputs": [],
   "source": []
  },
  {
   "cell_type": "code",
   "execution_count": null,
   "id": "55ad36d1",
   "metadata": {},
   "outputs": [],
   "source": []
  },
  {
   "cell_type": "code",
   "execution_count": null,
   "id": "269316f5",
   "metadata": {},
   "outputs": [],
   "source": []
  },
  {
   "cell_type": "code",
   "execution_count": null,
   "id": "2a4b6a03",
   "metadata": {},
   "outputs": [],
   "source": []
  },
  {
   "cell_type": "markdown",
   "id": "9d3a8fbd",
   "metadata": {},
   "source": [
    "# pip install package-name\n",
    "!pip3 install ***  (*** : package name)\n",
    "\n",
    "(!pip3 install --target=C:\\Users\\susan\\AppData\\Roaming\\Python\\Python38\\site-packages *** )\n",
    "\n",
    "import *** \n",
    "print() \n",
    "type()\n",
    "データの種類：int, float, str, bool\n",
    "range(start, stop, step) #print(range(3))  print(list(range(3)))\n",
    "** * / + - = != =="
   ]
  },
  {
   "cell_type": "code",
   "execution_count": null,
   "id": "c42db5cc",
   "metadata": {},
   "outputs": [],
   "source": [
    "print(range(３))#構文エラー　原因：日本語入力モードの全角３"
   ]
  },
  {
   "cell_type": "code",
   "execution_count": null,
   "id": "efb9e6ae",
   "metadata": {},
   "outputs": [],
   "source": [
    "print(range(3))#SyntaxError　構文エラー　原因：日本語入力モードの全角３、半角の３はOK"
   ]
  },
  {
   "cell_type": "code",
   "execution_count": null,
   "id": "ba457f9d",
   "metadata": {},
   "outputs": [],
   "source": [
    "print(range(3))　#SyntaxError　構文エラー　原因：「　」という全角スペース"
   ]
  },
  {
   "cell_type": "code",
   "execution_count": null,
   "id": "6159c40c",
   "metadata": {},
   "outputs": [],
   "source": [
    "import math\n",
    "# 検索 keyword \"python math packages functions　日本語\"　詳しいfunctionsの使い方が出てくる"
   ]
  },
  {
   "cell_type": "code",
   "execution_count": null,
   "id": "8efcdf14",
   "metadata": {
    "scrolled": true
   },
   "outputs": [],
   "source": [
    "# !pip3 install --target=C:\\Users\\susan\\AppData\\Roaming\\Python\\Python38\\site-packages math\n",
    "# !pip3 install math\n",
    "# !pip3 uninstall math --yes"
   ]
  },
  {
   "cell_type": "markdown",
   "id": "04eca29e",
   "metadata": {},
   "source": [
    "# https://www.kikagaku.co.jp/kikagaku-blog/python-basic-error/   \n",
    "# Python のよくある基本的なエラーと確認方法まとめ"
   ]
  },
  {
   "cell_type": "code",
   "execution_count": null,
   "id": "fc652473",
   "metadata": {},
   "outputs": [],
   "source": [
    "1+1"
   ]
  },
  {
   "cell_type": "code",
   "execution_count": null,
   "id": "790fd885",
   "metadata": {},
   "outputs": [],
   "source": [
    "9-7"
   ]
  },
  {
   "cell_type": "code",
   "execution_count": null,
   "id": "732942c6",
   "metadata": {},
   "outputs": [],
   "source": [
    "2*3"
   ]
  },
  {
   "cell_type": "code",
   "execution_count": null,
   "id": "94655e35",
   "metadata": {},
   "outputs": [],
   "source": [
    "4/2"
   ]
  },
  {
   "cell_type": "code",
   "execution_count": null,
   "id": "2e1a659c",
   "metadata": {},
   "outputs": [],
   "source": [
    "11%3 #11 を 3 で割った余り"
   ]
  },
  {
   "cell_type": "code",
   "execution_count": null,
   "id": "bfa0bb57",
   "metadata": {},
   "outputs": [],
   "source": [
    "11//3 #切り捨て除算：割り算をして整数部分のみを取得"
   ]
  },
  {
   "cell_type": "code",
   "execution_count": null,
   "id": "a1272e68",
   "metadata": {},
   "outputs": [],
   "source": [
    "4**2 #べき乗"
   ]
  },
  {
   "cell_type": "code",
   "execution_count": null,
   "id": "0340a080",
   "metadata": {},
   "outputs": [],
   "source": []
  },
  {
   "cell_type": "code",
   "execution_count": null,
   "id": "282aa191",
   "metadata": {},
   "outputs": [],
   "source": [
    "math.factorial(4) # 4! 4の階乗"
   ]
  },
  {
   "cell_type": "code",
   "execution_count": null,
   "id": "12b04c7f",
   "metadata": {},
   "outputs": [],
   "source": [
    "type(math.factorial(4))"
   ]
  },
  {
   "cell_type": "code",
   "execution_count": null,
   "id": "33bab810",
   "metadata": {},
   "outputs": [],
   "source": [
    "math.exp(2) #e= 2.718281  math.exp(2)=e**2"
   ]
  },
  {
   "cell_type": "code",
   "execution_count": null,
   "id": "65086747",
   "metadata": {},
   "outputs": [],
   "source": [
    "type(math.exp(2))"
   ]
  },
  {
   "cell_type": "code",
   "execution_count": null,
   "id": "119e1527",
   "metadata": {},
   "outputs": [],
   "source": [
    "message_1='We will win!'\n",
    "message_2=\"We will win\"\n",
    "print(message_1)\n",
    "print(message_2)"
   ]
  },
  {
   "cell_type": "code",
   "execution_count": null,
   "id": "3a96454e",
   "metadata": {},
   "outputs": [],
   "source": [
    "type(message_1)"
   ]
  },
  {
   "cell_type": "code",
   "execution_count": null,
   "id": "cd6e576b",
   "metadata": {},
   "outputs": [],
   "source": [
    "print(message_1==message_2)"
   ]
  },
  {
   "cell_type": "code",
   "execution_count": null,
   "id": "527a85ad",
   "metadata": {},
   "outputs": [],
   "source": [
    "type(message_1==message_2)"
   ]
  },
  {
   "cell_type": "code",
   "execution_count": null,
   "id": "926900b6",
   "metadata": {},
   "outputs": [],
   "source": [
    "(1/3)*(3/5) #相殺(そうさい)できない、結果が近似値になることを注意しましょう"
   ]
  },
  {
   "cell_type": "code",
   "execution_count": null,
   "id": "dd801b82",
   "metadata": {},
   "outputs": [],
   "source": [
    "math.log10(10)"
   ]
  },
  {
   "cell_type": "code",
   "execution_count": null,
   "id": "e6537219",
   "metadata": {},
   "outputs": [],
   "source": [
    "math.pow(2,3) # 2**3"
   ]
  },
  {
   "cell_type": "code",
   "execution_count": null,
   "id": "c9a61c1d",
   "metadata": {},
   "outputs": [],
   "source": [
    "math.dist((1,2), (2,1)) #座標の距離を計算"
   ]
  },
  {
   "cell_type": "code",
   "execution_count": null,
   "id": "03be02b1",
   "metadata": {},
   "outputs": [],
   "source": [
    "a=3\n",
    "b=4\n",
    "print(a==3)\n",
    "print(a==4)"
   ]
  },
  {
   "cell_type": "code",
   "execution_count": null,
   "id": "5d35b52d",
   "metadata": {},
   "outputs": [],
   "source": [
    "print(True and True)\n",
    "print(True and False)\n",
    "print(True or False)\n",
    "print(False or False)"
   ]
  },
  {
   "cell_type": "code",
   "execution_count": null,
   "id": "3ab27c87",
   "metadata": {},
   "outputs": [],
   "source": [
    "print(not False)\n",
    "print(not True)"
   ]
  },
  {
   "cell_type": "code",
   "execution_count": null,
   "id": "1a7479bd",
   "metadata": {},
   "outputs": [],
   "source": [
    "print((3>=4) and (3>2))\n",
    "print((3>4) or (3>2))"
   ]
  },
  {
   "cell_type": "code",
   "execution_count": null,
   "id": "2c402351",
   "metadata": {},
   "outputs": [],
   "source": [
    "print(a+b)"
   ]
  },
  {
   "cell_type": "code",
   "execution_count": null,
   "id": "4be70df5",
   "metadata": {},
   "outputs": [],
   "source": [
    "print(3+6.2)"
   ]
  },
  {
   "cell_type": "code",
   "execution_count": null,
   "id": "98d29974",
   "metadata": {},
   "outputs": [],
   "source": [
    "print(str(3)+6.2) #エラー原因は違うタイプのデータは結合できない"
   ]
  },
  {
   "cell_type": "code",
   "execution_count": null,
   "id": "3855da6c",
   "metadata": {},
   "outputs": [],
   "source": [
    "print(str(3)+'19826.2')"
   ]
  },
  {
   "cell_type": "code",
   "execution_count": null,
   "id": "51e04daf",
   "metadata": {},
   "outputs": [],
   "source": [
    "print(type(str(3)+'19826.2'))"
   ]
  },
  {
   "cell_type": "code",
   "execution_count": null,
   "id": "9432d261",
   "metadata": {},
   "outputs": [],
   "source": [
    "print(str(3)+str(6.2)) #strの場合「+」は結合の役割"
   ]
  },
  {
   "cell_type": "code",
   "execution_count": null,
   "id": "ed5b35ad",
   "metadata": {},
   "outputs": [],
   "source": [
    "name_jp ='じめじめ'\n",
    "int1=10\n",
    "print(name_jp+str(int1))\n",
    "print(name_jp+int1)"
   ]
  },
  {
   "cell_type": "code",
   "execution_count": null,
   "id": "956c41e0",
   "metadata": {},
   "outputs": [],
   "source": [
    "name_jp ='じめじめ'\n",
    "int1=10\n",
    "print(name_jp+int1)\n",
    "print(name_jp+str(int1))"
   ]
  },
  {
   "cell_type": "code",
   "execution_count": null,
   "id": "a1b0a195",
   "metadata": {},
   "outputs": [],
   "source": [
    "# quiz\n",
    "x1 = 1\n",
    "x2 = 1.5\n",
    "x3 = '1.5'\n",
    "x4 = '1.9'\n",
    "x5 = 2.5\n",
    "print(x1 + x2)\n",
    "print(x3 + x4)\n",
    "print(x2 + x5)\n",
    "answer='家系ラーメン'\n",
    "print('今日の昼ごはんは'+answer+'を食べました。')"
   ]
  },
  {
   "cell_type": "code",
   "execution_count": null,
   "id": "747231c3",
   "metadata": {},
   "outputs": [],
   "source": [
    "#演算子の計算優先順位は数学と同じ\n",
    "print(100 / 10**2 + 2 * 3 - 5)\n",
    "print((100 / 10)**2 + 2 * 3 - 5)"
   ]
  },
  {
   "cell_type": "code",
   "execution_count": null,
   "id": "447fb58c",
   "metadata": {},
   "outputs": [],
   "source": [
    "print(1 + True)\n",
    "print(100*False)"
   ]
  },
  {
   "cell_type": "code",
   "execution_count": null,
   "id": "67933d4f",
   "metadata": {},
   "outputs": [],
   "source": []
  },
  {
   "cell_type": "code",
   "execution_count": null,
   "id": "46d72cdc",
   "metadata": {},
   "outputs": [],
   "source": []
  },
  {
   "cell_type": "code",
   "execution_count": null,
   "id": "4926e2ea",
   "metadata": {},
   "outputs": [],
   "source": []
  },
  {
   "cell_type": "markdown",
   "id": "6f4f3821",
   "metadata": {},
   "source": [
    "# リスト list"
   ]
  },
  {
   "cell_type": "code",
   "execution_count": null,
   "id": "fb48b5d8",
   "metadata": {},
   "outputs": [],
   "source": [
    "a = [1, 3, 5, 7, 9]\n",
    "for n in a:\n",
    "    print(n)"
   ]
  },
  {
   "cell_type": "code",
   "execution_count": null,
   "id": "78a6102a",
   "metadata": {},
   "outputs": [],
   "source": [
    "a = [1, 3, 5, 7, 9]\n",
    "for n in range(5):\n",
    "    print(n, a[n])"
   ]
  },
  {
   "cell_type": "code",
   "execution_count": null,
   "id": "a86dc058",
   "metadata": {},
   "outputs": [],
   "source": [
    "print(a[0])"
   ]
  },
  {
   "cell_type": "code",
   "execution_count": null,
   "id": "ae19776f",
   "metadata": {},
   "outputs": [],
   "source": [
    "print(a[-1])"
   ]
  },
  {
   "cell_type": "code",
   "execution_count": null,
   "id": "0a2e1194",
   "metadata": {},
   "outputs": [],
   "source": [
    "a1 = a[0:2] #リストの0番から1番の数字を取る\n",
    "a1"
   ]
  },
  {
   "cell_type": "code",
   "execution_count": null,
   "id": "72d8a5b0",
   "metadata": {},
   "outputs": [],
   "source": [
    "a2 = a[2:] #リストの2番から最後の数字を取る\n",
    "a2"
   ]
  },
  {
   "cell_type": "code",
   "execution_count": null,
   "id": "328faf40",
   "metadata": {},
   "outputs": [],
   "source": [
    "a3 = a[:3] #リストの最初から2番までの数字を取る\n",
    "a3"
   ]
  },
  {
   "cell_type": "code",
   "execution_count": null,
   "id": "8075b315",
   "metadata": {},
   "outputs": [],
   "source": [
    "print([1, 2, 3] + [4, 5, 6]) # +演算子を用いてリストを結合"
   ]
  },
  {
   "cell_type": "code",
   "execution_count": null,
   "id": "c5c2e5ed",
   "metadata": {},
   "outputs": [],
   "source": [
    "a.append(100)\n",
    "a"
   ]
  },
  {
   "cell_type": "code",
   "execution_count": null,
   "id": "70eda7ca",
   "metadata": {},
   "outputs": [],
   "source": [
    "a.append('abc')\n",
    "a"
   ]
  },
  {
   "cell_type": "code",
   "execution_count": null,
   "id": "410250da",
   "metadata": {},
   "outputs": [],
   "source": [
    "a.extend([10, 11, 12])\n",
    "a"
   ]
  },
  {
   "cell_type": "code",
   "execution_count": null,
   "id": "0e1d4210",
   "metadata": {},
   "outputs": [],
   "source": [
    "a.insert(0, 300)\n",
    "print(a)"
   ]
  },
  {
   "cell_type": "code",
   "execution_count": null,
   "id": "ec4cfdd6",
   "metadata": {},
   "outputs": [],
   "source": []
  },
  {
   "cell_type": "code",
   "execution_count": null,
   "id": "c29b3444",
   "metadata": {},
   "outputs": [],
   "source": []
  },
  {
   "cell_type": "markdown",
   "id": "af106b3b",
   "metadata": {},
   "source": [
    "# タプル tuple"
   ]
  },
  {
   "cell_type": "code",
   "execution_count": null,
   "id": "f3e69491",
   "metadata": {},
   "outputs": [],
   "source": [
    "a1 = [10, 20, 30, 40]    #リストは変更可能\n",
    "a2 = (110, 120, 130, 140)    #タプルは変更不可能"
   ]
  },
  {
   "cell_type": "code",
   "execution_count": null,
   "id": "0f3c6f02",
   "metadata": {},
   "outputs": [],
   "source": [
    "a1[2] = 60      # 代入できる\n",
    "a1"
   ]
  },
  {
   "cell_type": "code",
   "execution_count": null,
   "id": "d87aad2e",
   "metadata": {
    "scrolled": true
   },
   "outputs": [],
   "source": [
    "a2[2] = 60      # 代入できない\n",
    "a2"
   ]
  },
  {
   "cell_type": "code",
   "execution_count": null,
   "id": "97ad8d10",
   "metadata": {},
   "outputs": [],
   "source": [
    "a2[4]=50 　　　　#追加もできない"
   ]
  },
  {
   "cell_type": "code",
   "execution_count": null,
   "id": "2699f753",
   "metadata": {},
   "outputs": [],
   "source": [
    "a3=list(a2)   #変更したい場合リストにタイプ変更\n",
    "a3"
   ]
  },
  {
   "cell_type": "code",
   "execution_count": null,
   "id": "fccdb1a5",
   "metadata": {},
   "outputs": [],
   "source": [
    "# a2 = (110, 120, 130, 140) \n",
    "a2 = (110, 120, )\n",
    "print(a2)\n",
    "print(type(a2))"
   ]
  },
  {
   "cell_type": "code",
   "execution_count": null,
   "id": "cf4be50f",
   "metadata": {},
   "outputs": [],
   "source": [
    "a2 = (110)\n",
    "print(a2)\n",
    "print(type(a2))"
   ]
  },
  {
   "cell_type": "code",
   "execution_count": null,
   "id": "4256f05d",
   "metadata": {},
   "outputs": [],
   "source": [
    "a4=(110, 120, 130, 140) +(10, 20, 30, 40) \n",
    "a4"
   ]
  },
  {
   "cell_type": "code",
   "execution_count": null,
   "id": "18ac179b",
   "metadata": {},
   "outputs": [],
   "source": [
    "a4=(110, 120, 130, 140) + tuple([10]) \n",
    "a4"
   ]
  },
  {
   "cell_type": "code",
   "execution_count": null,
   "id": "c73843fa",
   "metadata": {},
   "outputs": [],
   "source": [
    "tuple1 = (0, 1, 2)\n",
    "\n",
    "list1 = list(tuple1)\n",
    "list1.remove(0)\n",
    "tuple1_remove = tuple(list1)\n",
    "\n",
    "print(tuple1_remove)"
   ]
  },
  {
   "cell_type": "code",
   "execution_count": null,
   "id": "fc02d291",
   "metadata": {},
   "outputs": [],
   "source": []
  },
  {
   "cell_type": "code",
   "execution_count": null,
   "id": "c1235238",
   "metadata": {},
   "outputs": [],
   "source": []
  },
  {
   "cell_type": "markdown",
   "id": "c7ff7638",
   "metadata": {},
   "source": [
    "# セット set"
   ]
  },
  {
   "cell_type": "code",
   "execution_count": null,
   "id": "7b10f8bf",
   "metadata": {},
   "outputs": [],
   "source": [
    "set1={1,2,3}"
   ]
  },
  {
   "cell_type": "code",
   "execution_count": null,
   "id": "81bd02d5",
   "metadata": {},
   "outputs": [],
   "source": [
    "set1[0]        #セットは順番がない"
   ]
  },
  {
   "cell_type": "code",
   "execution_count": null,
   "id": "f04ac5d8",
   "metadata": {},
   "outputs": [],
   "source": [
    "type(set1)"
   ]
  },
  {
   "cell_type": "code",
   "execution_count": null,
   "id": "fe3509de",
   "metadata": {},
   "outputs": [],
   "source": [
    "s = set([1,2,3])     #これはリストをセットに変換した作り方でできたセット\n",
    "s"
   ]
  },
  {
   "cell_type": "code",
   "execution_count": null,
   "id": "4ae10fec",
   "metadata": {},
   "outputs": [],
   "source": [
    "s=set()\n",
    "s.add(1)\n",
    "s.add(2)\n",
    "s.add(3)\n",
    "print(s)\n",
    "print(type(s))"
   ]
  },
  {
   "cell_type": "code",
   "execution_count": null,
   "id": "f5c2b353",
   "metadata": {},
   "outputs": [],
   "source": [
    "s.remove(2)\n",
    "s"
   ]
  },
  {
   "cell_type": "code",
   "execution_count": null,
   "id": "c5ea4703",
   "metadata": {},
   "outputs": [],
   "source": [
    "s1 = set([1, 2, 3, 4, 5])\n",
    "s2 = set([1, 3, 5, 7, 9])\n",
    "s3 = set([1, 2, 3])\n",
    " \n",
    "print(s1 | s2) #　和集合を求める set([1, 2, 3, 4, 5, 7, 9])\n",
    "print(s1 & s2) #　積集合を求める set([1, 3, 5])\n",
    "print(s1 | s3) #　和集合を求める set([1, 2, 3, 4, 5])\n",
    "print(s1 & s3) #　積集合を求める set([1, 2, 3])"
   ]
  },
  {
   "cell_type": "code",
   "execution_count": null,
   "id": "77f3010f",
   "metadata": {},
   "outputs": [],
   "source": []
  },
  {
   "cell_type": "code",
   "execution_count": null,
   "id": "5ce42d88",
   "metadata": {},
   "outputs": [],
   "source": []
  },
  {
   "cell_type": "code",
   "execution_count": null,
   "id": "4c952767",
   "metadata": {},
   "outputs": [],
   "source": []
  },
  {
   "cell_type": "code",
   "execution_count": null,
   "id": "3d1b7925",
   "metadata": {},
   "outputs": [],
   "source": []
  },
  {
   "cell_type": "markdown",
   "id": "4ba0a6b1",
   "metadata": {},
   "source": [
    "# 辞書 dict"
   ]
  },
  {
   "cell_type": "code",
   "execution_count": null,
   "id": "86640931",
   "metadata": {},
   "outputs": [],
   "source": [
    "d = {'Yamada': 30, 'Uemura': 40, 'Tanaka': 70}"
   ]
  },
  {
   "cell_type": "code",
   "execution_count": null,
   "id": "717b5f2d",
   "metadata": {},
   "outputs": [],
   "source": [
    "d1 = d['Yamada']\n",
    "d2 = d['Uemura']\n",
    "d3 = d['Tanaka']"
   ]
  },
  {
   "cell_type": "code",
   "execution_count": null,
   "id": "1258b8a9",
   "metadata": {},
   "outputs": [],
   "source": [
    "d3"
   ]
  },
  {
   "cell_type": "code",
   "execution_count": null,
   "id": "63300a65",
   "metadata": {},
   "outputs": [],
   "source": [
    "d['Tanaka']=80\n",
    "d"
   ]
  },
  {
   "cell_type": "code",
   "execution_count": null,
   "id": "8ab32cfc",
   "metadata": {},
   "outputs": [],
   "source": [
    "d[0]      #辞書も順番がない、インデックスがあるから"
   ]
  },
  {
   "cell_type": "code",
   "execution_count": null,
   "id": "9e9d3ddc",
   "metadata": {},
   "outputs": [],
   "source": [
    "d2 = {1: 30, 2: 40, 3: 70}"
   ]
  },
  {
   "cell_type": "code",
   "execution_count": null,
   "id": "753a89f5",
   "metadata": {},
   "outputs": [],
   "source": [
    "d2[1] #こちらの１は何番目の順番の数字ではない、indexインデックス（索引）のこと"
   ]
  },
  {
   "cell_type": "code",
   "execution_count": null,
   "id": "479ea325",
   "metadata": {},
   "outputs": [],
   "source": [
    "d['Honda']=90\n",
    "d"
   ]
  },
  {
   "cell_type": "code",
   "execution_count": null,
   "id": "cd0994bf",
   "metadata": {},
   "outputs": [],
   "source": [
    "new_dict = [('Honda', 90), ('Ueda', 20)]\n",
    "d.update(new_dict)\n",
    "d"
   ]
  },
  {
   "cell_type": "code",
   "execution_count": null,
   "id": "78e072a6",
   "metadata": {},
   "outputs": [],
   "source": [
    "new_dict1 = {'Honda': 90, 'Ueda': 20}\n",
    "d.update(new_dict1)\n",
    "d"
   ]
  },
  {
   "cell_type": "code",
   "execution_count": null,
   "id": "4e4eae47",
   "metadata": {},
   "outputs": [],
   "source": []
  },
  {
   "cell_type": "code",
   "execution_count": null,
   "id": "baf49409",
   "metadata": {},
   "outputs": [],
   "source": []
  },
  {
   "cell_type": "code",
   "execution_count": null,
   "id": "1ba519c4",
   "metadata": {},
   "outputs": [],
   "source": []
  },
  {
   "cell_type": "code",
   "execution_count": null,
   "id": "aed2385e",
   "metadata": {},
   "outputs": [],
   "source": []
  },
  {
   "cell_type": "code",
   "execution_count": null,
   "id": "125a6b01",
   "metadata": {},
   "outputs": [],
   "source": []
  },
  {
   "cell_type": "code",
   "execution_count": null,
   "id": "1b9dd7fd",
   "metadata": {},
   "outputs": [],
   "source": []
  },
  {
   "cell_type": "code",
   "execution_count": null,
   "id": "4a34d934",
   "metadata": {},
   "outputs": [],
   "source": [
    "a = [1, 2, 3]\n",
    "\n",
    "def double(x): return x * 2\n",
    "\n",
    "print(list(map(double, a)))                  #=> [2, 4, 6] : 関数方式\n",
    "print(list(map(lambda x: x * 2, a)))         #=> [2, 4, 6] : lambda方式\n",
    "print([x * 2 for x in a])                    #=> [2, 4, 6] : 内包表記(後述)"
   ]
  },
  {
   "cell_type": "code",
   "execution_count": null,
   "id": "9032dd03",
   "metadata": {},
   "outputs": [],
   "source": []
  },
  {
   "cell_type": "code",
   "execution_count": null,
   "id": "033a081f",
   "metadata": {},
   "outputs": [],
   "source": []
  },
  {
   "cell_type": "code",
   "execution_count": null,
   "id": "3d39b225",
   "metadata": {},
   "outputs": [],
   "source": []
  },
  {
   "cell_type": "code",
   "execution_count": null,
   "id": "0b01297a",
   "metadata": {},
   "outputs": [],
   "source": [
    "#一次微分\n",
    "from sympy import *\n",
    "import numpy as np\n",
    "x = Symbol('x')\n",
    "y = x**2 + 1\n",
    "yprime = y.diff(x)\n",
    "print(yprime)"
   ]
  },
  {
   "cell_type": "code",
   "execution_count": null,
   "id": "fbaf2dfd",
   "metadata": {},
   "outputs": [],
   "source": [
    "yprimeprime = yprime.diff(x)\n",
    "print(yprimeprime)"
   ]
  },
  {
   "cell_type": "code",
   "execution_count": null,
   "id": "6125caa0",
   "metadata": {},
   "outputs": [],
   "source": [
    "range(1,10,2)"
   ]
  },
  {
   "cell_type": "code",
   "execution_count": null,
   "id": "371f5521",
   "metadata": {},
   "outputs": [],
   "source": [
    "print(list(range(1,10,3)))"
   ]
  },
  {
   "cell_type": "code",
   "execution_count": null,
   "id": "4870c4e7",
   "metadata": {},
   "outputs": [],
   "source": [
    "print(list(range(10))) #from 0 to 9 [0,10) Python "
   ]
  },
  {
   "cell_type": "code",
   "execution_count": null,
   "id": "ffb5d0b1",
   "metadata": {},
   "outputs": [],
   "source": [
    "print(list(range(10)))"
   ]
  },
  {
   "cell_type": "code",
   "execution_count": null,
   "id": "1e9915cc",
   "metadata": {},
   "outputs": [],
   "source": [
    "for i in range(5):\n",
    "    print(\"Hello World!\")"
   ]
  },
  {
   "cell_type": "code",
   "execution_count": null,
   "id": "9fc606ef",
   "metadata": {},
   "outputs": [],
   "source": [
    "for i in range(1,5):\n",
    "    print(\"Hello World!\")"
   ]
  },
  {
   "cell_type": "code",
   "execution_count": null,
   "id": "2821157b",
   "metadata": {},
   "outputs": [],
   "source": []
  },
  {
   "cell_type": "code",
   "execution_count": null,
   "id": "aa308e00",
   "metadata": {},
   "outputs": [],
   "source": []
  },
  {
   "cell_type": "code",
   "execution_count": null,
   "id": "af8863b9",
   "metadata": {},
   "outputs": [],
   "source": []
  },
  {
   "cell_type": "code",
   "execution_count": null,
   "id": "323c646f",
   "metadata": {},
   "outputs": [],
   "source": []
  },
  {
   "cell_type": "code",
   "execution_count": null,
   "id": "35a2e1e7",
   "metadata": {},
   "outputs": [],
   "source": []
  },
  {
   "cell_type": "code",
   "execution_count": null,
   "id": "1bebc728",
   "metadata": {},
   "outputs": [],
   "source": []
  },
  {
   "cell_type": "code",
   "execution_count": null,
   "id": "31be0eaa",
   "metadata": {},
   "outputs": [],
   "source": []
  },
  {
   "cell_type": "code",
   "execution_count": null,
   "id": "c043a277",
   "metadata": {},
   "outputs": [],
   "source": [
    "name = input(\"Enter your name: \")\n",
    "print(name)"
   ]
  },
  {
   "cell_type": "code",
   "execution_count": null,
   "id": "46d3da44",
   "metadata": {},
   "outputs": [],
   "source": [
    "Lunch = input(\"今日の昼ごはんは何を食べましたか？ \")\n",
    "print(Lunch)"
   ]
  },
  {
   "cell_type": "code",
   "execution_count": null,
   "id": "e0fb4c12",
   "metadata": {},
   "outputs": [],
   "source": []
  },
  {
   "cell_type": "code",
   "execution_count": null,
   "id": "881365e9",
   "metadata": {},
   "outputs": [],
   "source": [
    "question1 = input(\"こんにちは、ご用件はなんでしょうか？ \")\n",
    "print(question1)"
   ]
  },
  {
   "cell_type": "code",
   "execution_count": null,
   "id": "0f5c3f7a",
   "metadata": {},
   "outputs": [],
   "source": [
    "if question1==\"今日の昼ごはんは何を食べようかな？決めてくれる？\":\n",
    "    import random\n",
    "\n",
    "    # List of items\n",
    "    items = ['唐揚げ', '家系ラーメン', '二郎系ラーメン', '韓国焼肉', 'スパゲッティ', '豚生姜焼き']\n",
    "\n",
    "    # Select a random item\n",
    "    selected_item = random.choice(items)\n",
    "\n",
    "    print(selected_item)\n",
    "    print(\"今日の昼ごはんは\"+selected_item+\"食べましょうか？いかがでしょうか?\")"
   ]
  },
  {
   "cell_type": "code",
   "execution_count": null,
   "id": "ade037f2",
   "metadata": {},
   "outputs": [],
   "source": [
    "question1 = input(\"こんにちは、ご用件はなんでしょうか？ \")\n",
    "# print(question1)\n",
    "if question1==\"今日の昼ごはんは何を食べようかな？決めてくれる？\":\n",
    "    import random\n",
    "\n",
    "    # List of items\n",
    "    items = ['唐揚げ', '家系ラーメン', '二郎系ラーメン', '韓国焼肉', 'スパゲッティ', '豚生姜焼き']\n",
    "\n",
    "    # Select a random item\n",
    "    selected_item = random.choice(items)\n",
    "\n",
    "#     print(selected_item)\n",
    "    print(\"今日の昼ごはんは\"+selected_item+\"食べましょうか？いかがでしょうか?\")"
   ]
  },
  {
   "cell_type": "code",
   "execution_count": null,
   "id": "d7a4d152",
   "metadata": {},
   "outputs": [],
   "source": []
  },
  {
   "cell_type": "code",
   "execution_count": null,
   "id": "e719176b",
   "metadata": {},
   "outputs": [],
   "source": []
  },
  {
   "cell_type": "code",
   "execution_count": null,
   "id": "40821c93",
   "metadata": {},
   "outputs": [],
   "source": []
  },
  {
   "cell_type": "code",
   "execution_count": null,
   "id": "c9074f1b",
   "metadata": {},
   "outputs": [],
   "source": []
  },
  {
   "cell_type": "code",
   "execution_count": null,
   "id": "ae4929a5",
   "metadata": {},
   "outputs": [],
   "source": []
  },
  {
   "cell_type": "code",
   "execution_count": null,
   "id": "6ca2948b",
   "metadata": {},
   "outputs": [],
   "source": []
  },
  {
   "cell_type": "code",
   "execution_count": null,
   "id": "4dac82d3",
   "metadata": {},
   "outputs": [],
   "source": []
  },
  {
   "cell_type": "code",
   "execution_count": null,
   "id": "0f173176",
   "metadata": {},
   "outputs": [],
   "source": []
  },
  {
   "cell_type": "code",
   "execution_count": null,
   "id": "114d139d",
   "metadata": {},
   "outputs": [],
   "source": [
    "# import ipywidgets as wg\n",
    "# from IPython.display import display\n",
    "\n",
    "# myName = wg.Text(value='Name')\n",
    "# Lucky_number = wg.IntSlider(description='Lucky number:')\n",
    "# display(myName,Lucky_number)\n",
    "\n",
    "# ### new cell\n",
    "# print(myName.value + \"'s lucky number is \" + str(Lucky_number.value) )"
   ]
  },
  {
   "cell_type": "code",
   "execution_count": null,
   "id": "2c46bf63",
   "metadata": {},
   "outputs": [],
   "source": []
  }
 ],
 "metadata": {
  "kernelspec": {
   "display_name": "Python 3 (ipykernel)",
   "language": "python",
   "name": "python3"
  },
  "language_info": {
   "codemirror_mode": {
    "name": "ipython",
    "version": 3
   },
   "file_extension": ".py",
   "mimetype": "text/x-python",
   "name": "python",
   "nbconvert_exporter": "python",
   "pygments_lexer": "ipython3",
   "version": "3.8.5"
  }
 },
 "nbformat": 4,
 "nbformat_minor": 5
}
