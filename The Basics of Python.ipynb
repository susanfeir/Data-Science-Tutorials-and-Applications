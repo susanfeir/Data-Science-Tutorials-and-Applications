{
 "cells": [
  {
   "cell_type": "code",
   "execution_count": 1,
   "id": "68cd293b",
   "metadata": {},
   "outputs": [],
   "source": [
    "# 再帰呼び出し recursive\n",
    "\n",
    "# Example 1\n",
    "\n",
    "# def EvenNums(num):\n",
    "#     print(num)\n",
    "#     if num % 2 !=0:\n",
    "#         print(\"please enter an even number\")\n",
    "#     elif num==2:\n",
    "#         return num\n",
    "#     else:\n",
    "#         return EvenNums(num-2)\n",
    "\n",
    "# Example 2\n",
    "\n",
    "# def factorial(n):\n",
    "# 　if n < 2: return 1\n",
    "# 　return n * factorial(n - 1)"
   ]
  },
  {
   "cell_type": "code",
   "execution_count": 2,
   "id": "0e5ac8d8",
   "metadata": {
    "slideshow": {
     "slide_type": "slide"
    }
   },
   "outputs": [],
   "source": [
    "def EvenNums(num):\n",
    "    print(num)\n",
    "    if num==2:\n",
    "        return num\n",
    "    else:\n",
    "        return EvenNums(num-2)"
   ]
  },
  {
   "cell_type": "code",
   "execution_count": 3,
   "id": "791b8b9e",
   "metadata": {
    "slideshow": {
     "slide_type": "subslide"
    }
   },
   "outputs": [
    {
     "name": "stdout",
     "output_type": "stream",
     "text": [
      "8\n",
      "6\n",
      "4\n",
      "2\n"
     ]
    },
    {
     "data": {
      "text/plain": [
       "2"
      ]
     },
     "execution_count": 3,
     "metadata": {},
     "output_type": "execute_result"
    }
   ],
   "source": [
    "EvenNums(8)"
   ]
  },
  {
   "cell_type": "code",
   "execution_count": 4,
   "id": "d84d99e7",
   "metadata": {},
   "outputs": [
    {
     "name": "stdout",
     "output_type": "stream",
     "text": [
      "8\n",
      "6\n",
      "4\n",
      "2\n"
     ]
    }
   ],
   "source": [
    "aa=EvenNums(8)"
   ]
  },
  {
   "cell_type": "code",
   "execution_count": 5,
   "id": "8849833c",
   "metadata": {},
   "outputs": [
    {
     "name": "stdout",
     "output_type": "stream",
     "text": [
      "2\n"
     ]
    }
   ],
   "source": [
    "print(aa)"
   ]
  },
  {
   "cell_type": "code",
   "execution_count": null,
   "id": "c9c50d91",
   "metadata": {},
   "outputs": [],
   "source": []
  },
  {
   "cell_type": "code",
   "execution_count": null,
   "id": "910be785",
   "metadata": {},
   "outputs": [],
   "source": []
  },
  {
   "cell_type": "code",
   "execution_count": 6,
   "id": "9943a29b",
   "metadata": {},
   "outputs": [
    {
     "name": "stdout",
     "output_type": "stream",
     "text": [
      "Hello World!\n",
      "Hello World!\n",
      "Hello World!\n",
      "Hello World!\n",
      "Hello World!\n"
     ]
    }
   ],
   "source": [
    "# 繰り返し処理　iteration\n",
    "for i in range(5):\n",
    "    print(\"Hello World!\")"
   ]
  },
  {
   "cell_type": "code",
   "execution_count": null,
   "id": "5977d20e",
   "metadata": {},
   "outputs": [],
   "source": []
  },
  {
   "cell_type": "code",
   "execution_count": null,
   "id": "70e9dd37",
   "metadata": {},
   "outputs": [],
   "source": []
  },
  {
   "cell_type": "code",
   "execution_count": 7,
   "id": "5f2c4976",
   "metadata": {},
   "outputs": [],
   "source": [
    "%matplotlib inline\n",
    "import numpy as np\n",
    "import matplotlib.pyplot as plt\n",
    "\n",
    "def logisticFunc(xin,a): # definition of the Logistic map\n",
    "    return a*xin*(1-xin)\n",
    "\n",
    "def plotLogisticMap(a=3.2, iteration=20):\n",
    "    '''\n",
    "    Plotting package of 1-d maps\n",
    "    args: parameter of map, number of iteration\n",
    "    '''\n",
    "    xn = 0.1   # initial value of the variable\n",
    "    \n",
    "    fig = plt.figure()\n",
    "    axes = fig.add_subplot(1,1,1) # Alternatively you can simply use plt.plot()\n",
    "    # draw y=x and f(x)\n",
    "    x = np.arange(0,1.0,0.01)\n",
    "    axes.plot(x, a*x*(1-x), 'r')\n",
    "    axes.plot(x, x, 'k')\n",
    "    axes.set_xlabel(\"$x_n$\")\n",
    "    axes.set_ylabel(\"$x_{n+1}$\")\n",
    "    axes.set_title(\"a=\" + str(a))\n",
    "    # show map iterations\n",
    "    xnext = logisticFunc(xn,a) \n",
    "    axes.plot([xn,xn],[0,xnext])\n",
    "    for i in range(iteration):\n",
    "        axes.plot([xn,xnext],[xnext,xnext],\"b\")\n",
    "        xn = xnext\n",
    "        xnext = logisticFunc(xn,a)\n",
    "        axes.plot([xn,xn], [xn,xnext],\"b\")"
   ]
  },
  {
   "cell_type": "code",
   "execution_count": 8,
   "id": "b0a7c09f",
   "metadata": {},
   "outputs": [
    {
     "data": {
      "image/png": "[encoded data removed]",
      "text/plain": [
       "<Figure size 432x288 with 1 Axes>"
      ]
     },
     "metadata": {
      "needs_background": "light"
     },
     "output_type": "display_data"
    }
   ],
   "source": [
    "#関数にパラメータaと繰り返し回数を引数として与えれば描画される\n",
    "plotLogisticMap(3.46, 30)"
   ]
  },
  {
   "cell_type": "code",
   "execution_count": 9,
   "id": "48a16d1c",
   "metadata": {},
   "outputs": [],
   "source": [
    "# !pip3 install IPython.display --target=C:\\Users\\susan\\AppData\\Roaming\\Python\\Python38\\site-packages stemming"
   ]
  },
  {
   "cell_type": "code",
   "execution_count": 10,
   "id": "06434421",
   "metadata": {},
   "outputs": [],
   "source": [
    "# !pip3 install ipywidgets --target=C:\\Users\\susan\\AppData\\Roaming\\Python\\Python38\\site-packages stemming"
   ]
  },
  {
   "cell_type": "code",
   "execution_count": 11,
   "id": "10e9fd91",
   "metadata": {},
   "outputs": [
    {
     "data": {
      "application/vnd.jupyter.widget-view+json": {
       "model_id": "00ec983ef4c246758169723d66cbc9a8",
       "version_major": 2,
       "version_minor": 0
      },
      "text/plain": [
       "interactive(children=(FloatSlider(value=3.2, description='a', max=4.0, step=0.02), IntSlider(value=20, descrip…"
      ]
     },
     "metadata": {},
     "output_type": "display_data"
    },
    {
     "data": {
      "text/plain": [
       "<function __main__.plotLogisticMap(a=3.2, iteration=20)>"
      ]
     },
     "execution_count": 11,
     "metadata": {},
     "output_type": "execute_result"
    }
   ],
   "source": [
    "from ipywidgets import interact, fixed\n",
    "interact(plotLogisticMap, a=(0.0,4.0,0.02), iteration=(10,100,5))"
   ]
  },
  {
   "cell_type": "code",
   "execution_count": null,
   "id": "3d5053b7",
   "metadata": {},
   "outputs": [],
   "source": []
  },
  {
   "cell_type": "code",
   "execution_count": null,
   "id": "a0d05519",
   "metadata": {},
   "outputs": [],
   "source": []
  },
  {
   "cell_type": "code",
   "execution_count": null,
   "id": "b5e3ca66",
   "metadata": {},
   "outputs": [],
   "source": []
  },
  {
   "cell_type": "code",
   "execution_count": null,
   "id": "4d76a961",
   "metadata": {},
   "outputs": [],
   "source": []
  },
  {
   "cell_type": "code",
   "execution_count": null,
   "id": "c4fc51ab",
   "metadata": {},
   "outputs": [],
   "source": []
  },
  {
   "cell_type": "code",
   "execution_count": null,
   "id": "f13247e0",
   "metadata": {},
   "outputs": [],
   "source": []
  },
  {
   "cell_type": "code",
   "execution_count": null,
   "id": "63c7fe2c",
   "metadata": {},
   "outputs": [],
   "source": []
  },
  {
   "cell_type": "code",
   "execution_count": null,
   "id": "956a27a4",
   "metadata": {},
   "outputs": [],
   "source": []
  },
  {
   "cell_type": "code",
   "execution_count": null,
   "id": "55ad36d1",
   "metadata": {},
   "outputs": [],
   "source": []
  },
  {
   "cell_type": "code",
   "execution_count": null,
   "id": "269316f5",
   "metadata": {},
   "outputs": [],
   "source": []
  },
  {
   "cell_type": "code",
   "execution_count": null,
   "id": "2a4b6a03",
   "metadata": {},
   "outputs": [],
   "source": []
  },
  {
   "cell_type": "markdown",
   "id": "9d3a8fbd",
   "metadata": {},
   "source": [
    "# pip install package-name\n",
    "!pip3 install ***  (*** : package name)\n",
    "\n",
    "(!pip3 install --target=C:\\Users\\susan\\AppData\\Roaming\\Python\\Python38\\site-packages *** )\n",
    "\n",
    "import *** \n",
    "\n",
    "print() \n",
    "\n",
    "type()\n",
    "\n",
    "データの種類：int, float, str, bool\n",
    "\n",
    "range(start, stop, step) #print(range(3))  print(list(range(3)))\n",
    "\n",
    "** * / + - = != =="
   ]
  },
  {
   "cell_type": "code",
   "execution_count": 14,
   "id": "c42db5cc",
   "metadata": {},
   "outputs": [
    {
     "ename": "SyntaxError",
     "evalue": "invalid character in identifier (<ipython-input-14-bbd8322f615d>, line 1)",
     "output_type": "error",
     "traceback": [
      "\u001b[1;36m  File \u001b[1;32m\"<ipython-input-14-bbd8322f615d>\"\u001b[1;36m, line \u001b[1;32m1\u001b[0m\n\u001b[1;33m    print(range(３))#構文エラー　原因：日本語入力モードの全角３\u001b[0m\n\u001b[1;37m                ^\u001b[0m\n\u001b[1;31mSyntaxError\u001b[0m\u001b[1;31m:\u001b[0m invalid character in identifier\n"
     ]
    }
   ],
   "source": [
    "print(range(３))#構文エラー　原因：日本語入力モードの全角３"
   ]
  },
  {
   "cell_type": "code",
   "execution_count": 15,
   "id": "efb9e6ae",
   "metadata": {},
   "outputs": [
    {
     "name": "stdout",
     "output_type": "stream",
     "text": [
      "range(0, 3)\n"
     ]
    }
   ],
   "source": [
    "print(range(3))#SyntaxError　構文エラー　原因：日本語入力モードの全角３、半角の３はOK"
   ]
  },
  {
   "cell_type": "code",
   "execution_count": 16,
   "id": "ba457f9d",
   "metadata": {},
   "outputs": [
    {
     "ename": "SyntaxError",
     "evalue": "invalid character in identifier (<ipython-input-16-55ebf7b39252>, line 1)",
     "output_type": "error",
     "traceback": [
      "\u001b[1;36m  File \u001b[1;32m\"<ipython-input-16-55ebf7b39252>\"\u001b[1;36m, line \u001b[1;32m1\u001b[0m\n\u001b[1;33m    print(range(3))　#SyntaxError　構文エラー　原因：「　」という全角スペース\u001b[0m\n\u001b[1;37m                   ^\u001b[0m\n\u001b[1;31mSyntaxError\u001b[0m\u001b[1;31m:\u001b[0m invalid character in identifier\n"
     ]
    }
   ],
   "source": [
    "print(range(3))　#SyntaxError　構文エラー　原因：「　」という全角スペース"
   ]
  },
  {
   "cell_type": "code",
   "execution_count": 17,
   "id": "6159c40c",
   "metadata": {},
   "outputs": [],
   "source": [
    "import math\n",
    "# 検索 keyword \"python math packages functions　日本語\"　詳しいfunctionsの使い方が出てくる"
   ]
  },
  {
   "cell_type": "code",
   "execution_count": 18,
   "id": "8efcdf14",
   "metadata": {
    "scrolled": true
   },
   "outputs": [],
   "source": [
    "# !pip3 install --target=C:\\Users\\susan\\AppData\\Roaming\\Python\\Python38\\site-packages math\n",
    "# !pip3 install math\n",
    "# !pip3 uninstall math --yes"
   ]
  },
  {
   "cell_type": "markdown",
   "id": "04eca29e",
   "metadata": {},
   "source": [
    "# https://www.kikagaku.co.jp/kikagaku-blog/python-basic-error/   \n",
    "# Python のよくある基本的なエラーと確認方法まとめ"
   ]
  },
  {
   "cell_type": "code",
   "execution_count": 19,
   "id": "fc652473",
   "metadata": {},
   "outputs": [
    {
     "data": {
      "text/plain": [
       "2"
      ]
     },
     "execution_count": 19,
     "metadata": {},
     "output_type": "execute_result"
    }
   ],
   "source": [
    "1+1"
   ]
  },
  {
   "cell_type": "code",
   "execution_count": 20,
   "id": "790fd885",
   "metadata": {},
   "outputs": [
    {
     "data": {
      "text/plain": [
       "2"
      ]
     },
     "execution_count": 20,
     "metadata": {},
     "output_type": "execute_result"
    }
   ],
   "source": [
    "9-7"
   ]
  },
  {
   "cell_type": "code",
   "execution_count": 21,
   "id": "732942c6",
   "metadata": {},
   "outputs": [
    {
     "data": {
      "text/plain": [
       "6"
      ]
     },
     "execution_count": 21,
     "metadata": {},
     "output_type": "execute_result"
    }
   ],
   "source": [
    "2*3"
   ]
  },
  {
   "cell_type": "code",
   "execution_count": 22,
   "id": "94655e35",
   "metadata": {},
   "outputs": [
    {
     "data": {
      "text/plain": [
       "2.0"
      ]
     },
     "execution_count": 22,
     "metadata": {},
     "output_type": "execute_result"
    }
   ],
   "source": [
    "4/2"
   ]
  },
  {
   "cell_type": "code",
   "execution_count": 23,
   "id": "2e1a659c",
   "metadata": {},
   "outputs": [
    {
     "data": {
      "text/plain": [
       "2"
      ]
     },
     "execution_count": 23,
     "metadata": {},
     "output_type": "execute_result"
    }
   ],
   "source": [
    "11%3 #11 を 3 で割った余り"
   ]
  },
  {
   "cell_type": "code",
   "execution_count": 24,
   "id": "bfa0bb57",
   "metadata": {},
   "outputs": [
    {
     "data": {
      "text/plain": [
       "3"
      ]
     },
     "execution_count": 24,
     "metadata": {},
     "output_type": "execute_result"
    }
   ],
   "source": [
    "11//3 #切り捨て除算：割り算をして整数部分のみを取得"
   ]
  },
  {
   "cell_type": "code",
   "execution_count": 25,
   "id": "a1272e68",
   "metadata": {},
   "outputs": [
    {
     "data": {
      "text/plain": [
       "16"
      ]
     },
     "execution_count": 25,
     "metadata": {},
     "output_type": "execute_result"
    }
   ],
   "source": [
    "4**2 #べき乗"
   ]
  },
  {
   "cell_type": "code",
   "execution_count": null,
   "id": "0340a080",
   "metadata": {},
   "outputs": [],
   "source": []
  },
  {
   "cell_type": "code",
   "execution_count": 26,
   "id": "282aa191",
   "metadata": {},
   "outputs": [
    {
     "data": {
      "text/plain": [
       "24"
      ]
     },
     "execution_count": 26,
     "metadata": {},
     "output_type": "execute_result"
    }
   ],
   "source": [
    "math.factorial(4) # 4! 4の階乗"
   ]
  },
  {
   "cell_type": "code",
   "execution_count": 27,
   "id": "12b04c7f",
   "metadata": {},
   "outputs": [
    {
     "data": {
      "text/plain": [
       "int"
      ]
     },
     "execution_count": 27,
     "metadata": {},
     "output_type": "execute_result"
    }
   ],
   "source": [
    "type(math.factorial(4))"
   ]
  },
  {
   "cell_type": "code",
   "execution_count": 28,
   "id": "33bab810",
   "metadata": {},
   "outputs": [
    {
     "data": {
      "text/plain": [
       "7.38905609893065"
      ]
     },
     "execution_count": 28,
     "metadata": {},
     "output_type": "execute_result"
    }
   ],
   "source": [
    "math.exp(2) #e= 2.718281  math.exp(2)=e**2"
   ]
  },
  {
   "cell_type": "code",
   "execution_count": 29,
   "id": "65086747",
   "metadata": {},
   "outputs": [
    {
     "data": {
      "text/plain": [
       "float"
      ]
     },
     "execution_count": 29,
     "metadata": {},
     "output_type": "execute_result"
    }
   ],
   "source": [
    "type(math.exp(2))"
   ]
  },
  {
   "cell_type": "code",
   "execution_count": 30,
   "id": "119e1527",
   "metadata": {},
   "outputs": [
    {
     "name": "stdout",
     "output_type": "stream",
     "text": [
      "We will win!\n",
      "We will win\n"
     ]
    }
   ],
   "source": [
    "message_1='We will win!'\n",
    "message_2=\"We will win\"\n",
    "print(message_1)\n",
    "print(message_2)"
   ]
  },
  {
   "cell_type": "code",
   "execution_count": 31,
   "id": "3a96454e",
   "metadata": {},
   "outputs": [
    {
     "data": {
      "text/plain": [
       "str"
      ]
     },
     "execution_count": 31,
     "metadata": {},
     "output_type": "execute_result"
    }
   ],
   "source": [
    "type(message_1)"
   ]
  },
  {
   "cell_type": "code",
   "execution_count": 32,
   "id": "cd6e576b",
   "metadata": {},
   "outputs": [
    {
     "name": "stdout",
     "output_type": "stream",
     "text": [
      "False\n"
     ]
    }
   ],
   "source": [
    "print(message_1==message_2)"
   ]
  },
  {
   "cell_type": "code",
   "execution_count": 33,
   "id": "527a85ad",
   "metadata": {},
   "outputs": [
    {
     "data": {
      "text/plain": [
       "bool"
      ]
     },
     "execution_count": 33,
     "metadata": {},
     "output_type": "execute_result"
    }
   ],
   "source": [
    "type(message_1==message_2)"
   ]
  },
  {
   "cell_type": "code",
   "execution_count": 34,
   "id": "926900b6",
   "metadata": {},
   "outputs": [
    {
     "data": {
      "text/plain": [
       "0.19999999999999998"
      ]
     },
     "execution_count": 34,
     "metadata": {},
     "output_type": "execute_result"
    }
   ],
   "source": [
    "(1/3)*(3/5) #相殺(そうさい)できない、結果が近似値になることを注意しましょう"
   ]
  },
  {
   "cell_type": "code",
   "execution_count": 35,
   "id": "dd801b82",
   "metadata": {},
   "outputs": [
    {
     "data": {
      "text/plain": [
       "1.0"
      ]
     },
     "execution_count": 35,
     "metadata": {},
     "output_type": "execute_result"
    }
   ],
   "source": [
    "math.log10(10)"
   ]
  },
  {
   "cell_type": "code",
   "execution_count": 36,
   "id": "e6537219",
   "metadata": {},
   "outputs": [
    {
     "data": {
      "text/plain": [
       "8.0"
      ]
     },
     "execution_count": 36,
     "metadata": {},
     "output_type": "execute_result"
    }
   ],
   "source": [
    "math.pow(2,3) # 2**3"
   ]
  },
  {
   "cell_type": "code",
   "execution_count": 37,
   "id": "c9a61c1d",
   "metadata": {},
   "outputs": [
    {
     "data": {
      "text/plain": [
       "1.4142135623730951"
      ]
     },
     "execution_count": 37,
     "metadata": {},
     "output_type": "execute_result"
    }
   ],
   "source": [
    "math.dist((1,2), (2,1)) #座標の距離を計算"
   ]
  },
  {
   "cell_type": "code",
   "execution_count": 38,
   "id": "03be02b1",
   "metadata": {},
   "outputs": [
    {
     "name": "stdout",
     "output_type": "stream",
     "text": [
      "True\n",
      "False\n"
     ]
    }
   ],
   "source": [
    "a=3\n",
    "b=4\n",
    "print(a==3)\n",
    "print(a==4)"
   ]
  },
  {
   "cell_type": "code",
   "execution_count": 39,
   "id": "5d35b52d",
   "metadata": {},
   "outputs": [
    {
     "name": "stdout",
     "output_type": "stream",
     "text": [
      "True\n",
      "False\n",
      "True\n",
      "False\n"
     ]
    }
   ],
   "source": [
    "print(True and True)\n",
    "print(True and False)\n",
    "print(True or False)\n",
    "print(False or False)"
   ]
  },
  {
   "cell_type": "code",
   "execution_count": 40,
   "id": "3ab27c87",
   "metadata": {},
   "outputs": [
    {
     "name": "stdout",
     "output_type": "stream",
     "text": [
      "True\n",
      "False\n"
     ]
    }
   ],
   "source": [
    "print(not False)\n",
    "print(not True)"
   ]
  },
  {
   "cell_type": "code",
   "execution_count": 41,
   "id": "1a7479bd",
   "metadata": {},
   "outputs": [
    {
     "name": "stdout",
     "output_type": "stream",
     "text": [
      "False\n",
      "True\n"
     ]
    }
   ],
   "source": [
    "print((3>=4) and (3>2))\n",
    "print((3>4) or (3>2))"
   ]
  },
  {
   "cell_type": "code",
   "execution_count": 42,
   "id": "2c402351",
   "metadata": {},
   "outputs": [
    {
     "name": "stdout",
     "output_type": "stream",
     "text": [
      "7\n"
     ]
    }
   ],
   "source": [
    "print(a+b)"
   ]
  },
  {
   "cell_type": "code",
   "execution_count": 43,
   "id": "4be70df5",
   "metadata": {},
   "outputs": [
    {
     "name": "stdout",
     "output_type": "stream",
     "text": [
      "9.2\n"
     ]
    }
   ],
   "source": [
    "print(3+6.2)"
   ]
  },
  {
   "cell_type": "code",
   "execution_count": 44,
   "id": "98d29974",
   "metadata": {},
   "outputs": [
    {
     "ename": "TypeError",
     "evalue": "can only concatenate str (not \"float\") to str",
     "output_type": "error",
     "traceback": [
      "\u001b[1;31m---------------------------------------------------------------------------\u001b[0m",
      "\u001b[1;31mTypeError\u001b[0m                                 Traceback (most recent call last)",
      "\u001b[1;32m<ipython-input-44-4e631c526f69>\u001b[0m in \u001b[0;36m<module>\u001b[1;34m\u001b[0m\n\u001b[1;32m----> 1\u001b[1;33m \u001b[0mprint\u001b[0m\u001b[1;33m(\u001b[0m\u001b[0mstr\u001b[0m\u001b[1;33m(\u001b[0m\u001b[1;36m3\u001b[0m\u001b[1;33m)\u001b[0m\u001b[1;33m+\u001b[0m\u001b[1;36m6.2\u001b[0m\u001b[1;33m)\u001b[0m \u001b[1;31m#エラー原因は違うタイプのデータは結合できない\u001b[0m\u001b[1;33m\u001b[0m\u001b[1;33m\u001b[0m\u001b[0m\n\u001b[0m",
      "\u001b[1;31mTypeError\u001b[0m: can only concatenate str (not \"float\") to str"
     ]
    }
   ],
   "source": [
    "print(str(3)+6.2) #エラー原因は違うタイプのデータは結合できない"
   ]
  },
  {
   "cell_type": "code",
   "execution_count": 45,
   "id": "3855da6c",
   "metadata": {},
   "outputs": [
    {
     "name": "stdout",
     "output_type": "stream",
     "text": [
      "319826.2\n"
     ]
    }
   ],
   "source": [
    "print(str(3)+'19826.2')"
   ]
  },
  {
   "cell_type": "code",
   "execution_count": 46,
   "id": "51e04daf",
   "metadata": {},
   "outputs": [
    {
     "name": "stdout",
     "output_type": "stream",
     "text": [
      "<class 'str'>\n"
     ]
    }
   ],
   "source": [
    "print(type(str(3)+'19826.2'))"
   ]
  },
  {
   "cell_type": "code",
   "execution_count": 47,
   "id": "9432d261",
   "metadata": {},
   "outputs": [
    {
     "name": "stdout",
     "output_type": "stream",
     "text": [
      "36.2\n"
     ]
    }
   ],
   "source": [
    "print(str(3)+str(6.2)) #strの場合「+」は結合の役割"
   ]
  },
  {
   "cell_type": "code",
   "execution_count": 48,
   "id": "ed5b35ad",
   "metadata": {},
   "outputs": [
    {
     "name": "stdout",
     "output_type": "stream",
     "text": [
      "じめじめ10\n"
     ]
    },
    {
     "ename": "TypeError",
     "evalue": "can only concatenate str (not \"int\") to str",
     "output_type": "error",
     "traceback": [
      "\u001b[1;31m---------------------------------------------------------------------------\u001b[0m",
      "\u001b[1;31mTypeError\u001b[0m                                 Traceback (most recent call last)",
      "\u001b[1;32m<ipython-input-48-34b3b4acec8b>\u001b[0m in \u001b[0;36m<module>\u001b[1;34m\u001b[0m\n\u001b[0;32m      2\u001b[0m \u001b[0mint1\u001b[0m\u001b[1;33m=\u001b[0m\u001b[1;36m10\u001b[0m\u001b[1;33m\u001b[0m\u001b[1;33m\u001b[0m\u001b[0m\n\u001b[0;32m      3\u001b[0m \u001b[0mprint\u001b[0m\u001b[1;33m(\u001b[0m\u001b[0mname_jp\u001b[0m\u001b[1;33m+\u001b[0m\u001b[0mstr\u001b[0m\u001b[1;33m(\u001b[0m\u001b[0mint1\u001b[0m\u001b[1;33m)\u001b[0m\u001b[1;33m)\u001b[0m\u001b[1;33m\u001b[0m\u001b[1;33m\u001b[0m\u001b[0m\n\u001b[1;32m----> 4\u001b[1;33m \u001b[0mprint\u001b[0m\u001b[1;33m(\u001b[0m\u001b[0mname_jp\u001b[0m\u001b[1;33m+\u001b[0m\u001b[0mint1\u001b[0m\u001b[1;33m)\u001b[0m\u001b[1;33m\u001b[0m\u001b[1;33m\u001b[0m\u001b[0m\n\u001b[0m",
      "\u001b[1;31mTypeError\u001b[0m: can only concatenate str (not \"int\") to str"
     ]
    }
   ],
   "source": [
    "name_jp ='じめじめ'\n",
    "int1=10\n",
    "print(name_jp+str(int1))\n",
    "print(name_jp+int1)"
   ]
  },
  {
   "cell_type": "code",
   "execution_count": 49,
   "id": "956c41e0",
   "metadata": {},
   "outputs": [
    {
     "ename": "TypeError",
     "evalue": "can only concatenate str (not \"int\") to str",
     "output_type": "error",
     "traceback": [
      "\u001b[1;31m---------------------------------------------------------------------------\u001b[0m",
      "\u001b[1;31mTypeError\u001b[0m                                 Traceback (most recent call last)",
      "\u001b[1;32m<ipython-input-49-b2762a6102f6>\u001b[0m in \u001b[0;36m<module>\u001b[1;34m\u001b[0m\n\u001b[0;32m      1\u001b[0m \u001b[0mname_jp\u001b[0m \u001b[1;33m=\u001b[0m\u001b[1;34m'じめじめ'\u001b[0m\u001b[1;33m\u001b[0m\u001b[1;33m\u001b[0m\u001b[0m\n\u001b[0;32m      2\u001b[0m \u001b[0mint1\u001b[0m\u001b[1;33m=\u001b[0m\u001b[1;36m10\u001b[0m\u001b[1;33m\u001b[0m\u001b[1;33m\u001b[0m\u001b[0m\n\u001b[1;32m----> 3\u001b[1;33m \u001b[0mprint\u001b[0m\u001b[1;33m(\u001b[0m\u001b[0mname_jp\u001b[0m\u001b[1;33m+\u001b[0m\u001b[0mint1\u001b[0m\u001b[1;33m)\u001b[0m\u001b[1;33m\u001b[0m\u001b[1;33m\u001b[0m\u001b[0m\n\u001b[0m\u001b[0;32m      4\u001b[0m \u001b[0mprint\u001b[0m\u001b[1;33m(\u001b[0m\u001b[0mname_jp\u001b[0m\u001b[1;33m+\u001b[0m\u001b[0mstr\u001b[0m\u001b[1;33m(\u001b[0m\u001b[0mint1\u001b[0m\u001b[1;33m)\u001b[0m\u001b[1;33m)\u001b[0m\u001b[1;33m\u001b[0m\u001b[1;33m\u001b[0m\u001b[0m\n",
      "\u001b[1;31mTypeError\u001b[0m: can only concatenate str (not \"int\") to str"
     ]
    }
   ],
   "source": [
    "name_jp ='じめじめ'\n",
    "int1=10\n",
    "print(name_jp+int1)\n",
    "print(name_jp+str(int1))"
   ]
  },
  {
   "cell_type": "code",
   "execution_count": 50,
   "id": "a1b0a195",
   "metadata": {},
   "outputs": [
    {
     "name": "stdout",
     "output_type": "stream",
     "text": [
      "2.5\n",
      "1.51.9\n",
      "4.0\n",
      "今日の昼ごはんは家系ラーメンを食べました。\n"
     ]
    }
   ],
   "source": [
    "# quiz\n",
    "x1 = 1\n",
    "x2 = 1.5\n",
    "x3 = '1.5'\n",
    "x4 = '1.9'\n",
    "x5 = 2.5\n",
    "print(x1 + x2)\n",
    "print(x3 + x4)\n",
    "print(x2 + x5)\n",
    "answer='家系ラーメン'\n",
    "print('今日の昼ごはんは'+answer+'を食べました。')"
   ]
  },
  {
   "cell_type": "code",
   "execution_count": 51,
   "id": "747231c3",
   "metadata": {},
   "outputs": [
    {
     "name": "stdout",
     "output_type": "stream",
     "text": [
      "2.0\n",
      "101.0\n"
     ]
    }
   ],
   "source": [
    "#演算子の計算優先順位は数学と同じ\n",
    "print(100 / 10**2 + 2 * 3 - 5)\n",
    "print((100 / 10)**2 + 2 * 3 - 5)"
   ]
  },
  {
   "cell_type": "code",
   "execution_count": 52,
   "id": "447fb58c",
   "metadata": {},
   "outputs": [
    {
     "name": "stdout",
     "output_type": "stream",
     "text": [
      "2\n",
      "0\n"
     ]
    }
   ],
   "source": [
    "print(1 + True)\n",
    "print(100*False)"
   ]
  },
  {
   "cell_type": "code",
   "execution_count": null,
   "id": "67933d4f",
   "metadata": {},
   "outputs": [],
   "source": []
  },
  {
   "cell_type": "code",
   "execution_count": null,
   "id": "46d72cdc",
   "metadata": {},
   "outputs": [],
   "source": []
  },
  {
   "cell_type": "code",
   "execution_count": null,
   "id": "4926e2ea",
   "metadata": {},
   "outputs": [],
   "source": []
  },
  {
   "cell_type": "markdown",
   "id": "6f4f3821",
   "metadata": {},
   "source": [
    "# リスト list"
   ]
  },
  {
   "cell_type": "code",
   "execution_count": 53,
   "id": "fb48b5d8",
   "metadata": {},
   "outputs": [
    {
     "name": "stdout",
     "output_type": "stream",
     "text": [
      "1\n",
      "3\n",
      "5\n",
      "7\n",
      "9\n"
     ]
    }
   ],
   "source": [
    "a = [1, 3, 5, 7, 9]\n",
    "for n in a:\n",
    "    print(n)"
   ]
  },
  {
   "cell_type": "code",
   "execution_count": 54,
   "id": "78a6102a",
   "metadata": {},
   "outputs": [
    {
     "name": "stdout",
     "output_type": "stream",
     "text": [
      "0 1\n",
      "1 3\n",
      "2 5\n",
      "3 7\n",
      "4 9\n"
     ]
    }
   ],
   "source": [
    "a = [1, 3, 5, 7, 9]\n",
    "for n in range(5):\n",
    "    print(n, a[n])"
   ]
  },
  {
   "cell_type": "code",
   "execution_count": 55,
   "id": "a86dc058",
   "metadata": {},
   "outputs": [
    {
     "name": "stdout",
     "output_type": "stream",
     "text": [
      "1\n"
     ]
    }
   ],
   "source": [
    "print(a[0])"
   ]
  },
  {
   "cell_type": "code",
   "execution_count": 56,
   "id": "ae19776f",
   "metadata": {},
   "outputs": [
    {
     "name": "stdout",
     "output_type": "stream",
     "text": [
      "9\n"
     ]
    }
   ],
   "source": [
    "print(a[-1])"
   ]
  },
  {
   "cell_type": "code",
   "execution_count": 57,
   "id": "0a2e1194",
   "metadata": {},
   "outputs": [
    {
     "data": {
      "text/plain": [
       "[1, 3]"
      ]
     },
     "execution_count": 57,
     "metadata": {},
     "output_type": "execute_result"
    }
   ],
   "source": [
    "a1 = a[0:2] #リストの0番から1番の数字を取る\n",
    "a1"
   ]
  },
  {
   "cell_type": "code",
   "execution_count": 58,
   "id": "72d8a5b0",
   "metadata": {},
   "outputs": [
    {
     "data": {
      "text/plain": [
       "[5, 7, 9]"
      ]
     },
     "execution_count": 58,
     "metadata": {},
     "output_type": "execute_result"
    }
   ],
   "source": [
    "a2 = a[2:] #リストの2番から最後の数字を取る\n",
    "a2"
   ]
  },
  {
   "cell_type": "code",
   "execution_count": 59,
   "id": "328faf40",
   "metadata": {},
   "outputs": [
    {
     "data": {
      "text/plain": [
       "[1, 3, 5]"
      ]
     },
     "execution_count": 59,
     "metadata": {},
     "output_type": "execute_result"
    }
   ],
   "source": [
    "a3 = a[:3] #リストの最初から2番までの数字を取る\n",
    "a3"
   ]
  },
  {
   "cell_type": "code",
   "execution_count": 60,
   "id": "8075b315",
   "metadata": {},
   "outputs": [
    {
     "name": "stdout",
     "output_type": "stream",
     "text": [
      "[1, 2, 3, 4, 5, 6]\n"
     ]
    }
   ],
   "source": [
    "print([1, 2, 3] + [4, 5, 6]) # +演算子を用いてリストを結合"
   ]
  },
  {
   "cell_type": "code",
   "execution_count": 61,
   "id": "c5c2e5ed",
   "metadata": {},
   "outputs": [
    {
     "data": {
      "text/plain": [
       "[1, 3, 5, 7, 9, 100]"
      ]
     },
     "execution_count": 61,
     "metadata": {},
     "output_type": "execute_result"
    }
   ],
   "source": [
    "a.append(100)\n",
    "a"
   ]
  },
  {
   "cell_type": "code",
   "execution_count": 62,
   "id": "70eda7ca",
   "metadata": {},
   "outputs": [
    {
     "data": {
      "text/plain": [
       "[1, 3, 5, 7, 9, 100, 'abc']"
      ]
     },
     "execution_count": 62,
     "metadata": {},
     "output_type": "execute_result"
    }
   ],
   "source": [
    "a.append('abc')\n",
    "a"
   ]
  },
  {
   "cell_type": "code",
   "execution_count": 63,
   "id": "410250da",
   "metadata": {},
   "outputs": [
    {
     "data": {
      "text/plain": [
       "[1, 3, 5, 7, 9, 100, 'abc', 10, 11, 12]"
      ]
     },
     "execution_count": 63,
     "metadata": {},
     "output_type": "execute_result"
    }
   ],
   "source": [
    "a.extend([10, 11, 12])\n",
    "a"
   ]
  },
  {
   "cell_type": "code",
   "execution_count": 64,
   "id": "0e1d4210",
   "metadata": {},
   "outputs": [
    {
     "name": "stdout",
     "output_type": "stream",
     "text": [
      "[300, 1, 3, 5, 7, 9, 100, 'abc', 10, 11, 12]\n"
     ]
    }
   ],
   "source": [
    "a.insert(0, 300)\n",
    "print(a)"
   ]
  },
  {
   "cell_type": "code",
   "execution_count": null,
   "id": "ec4cfdd6",
   "metadata": {},
   "outputs": [],
   "source": []
  },
  {
   "cell_type": "code",
   "execution_count": null,
   "id": "c29b3444",
   "metadata": {},
   "outputs": [],
   "source": []
  },
  {
   "cell_type": "markdown",
   "id": "af106b3b",
   "metadata": {},
   "source": [
    "# タプル tuple"
   ]
  },
  {
   "cell_type": "code",
   "execution_count": 65,
   "id": "f3e69491",
   "metadata": {},
   "outputs": [],
   "source": [
    "a1 = [10, 20, 30, 40]    #リストは変更可能\n",
    "a2 = (110, 120, 130, 140)    #タプルは変更不可能"
   ]
  },
  {
   "cell_type": "code",
   "execution_count": 66,
   "id": "0f3c6f02",
   "metadata": {},
   "outputs": [
    {
     "data": {
      "text/plain": [
       "[10, 20, 60, 40]"
      ]
     },
     "execution_count": 66,
     "metadata": {},
     "output_type": "execute_result"
    }
   ],
   "source": [
    "a1[2] = 60      # 代入できる\n",
    "a1"
   ]
  },
  {
   "cell_type": "code",
   "execution_count": 67,
   "id": "d87aad2e",
   "metadata": {
    "scrolled": true
   },
   "outputs": [
    {
     "ename": "TypeError",
     "evalue": "'tuple' object does not support item assignment",
     "output_type": "error",
     "traceback": [
      "\u001b[1;31m---------------------------------------------------------------------------\u001b[0m",
      "\u001b[1;31mTypeError\u001b[0m                                 Traceback (most recent call last)",
      "\u001b[1;32m<ipython-input-67-3270263fc70f>\u001b[0m in \u001b[0;36m<module>\u001b[1;34m\u001b[0m\n\u001b[1;32m----> 1\u001b[1;33m \u001b[0ma2\u001b[0m\u001b[1;33m[\u001b[0m\u001b[1;36m2\u001b[0m\u001b[1;33m]\u001b[0m \u001b[1;33m=\u001b[0m \u001b[1;36m60\u001b[0m      \u001b[1;31m# 代入できない\u001b[0m\u001b[1;33m\u001b[0m\u001b[1;33m\u001b[0m\u001b[0m\n\u001b[0m\u001b[0;32m      2\u001b[0m \u001b[0ma2\u001b[0m\u001b[1;33m\u001b[0m\u001b[1;33m\u001b[0m\u001b[0m\n",
      "\u001b[1;31mTypeError\u001b[0m: 'tuple' object does not support item assignment"
     ]
    }
   ],
   "source": [
    "a2[2] = 60      # 代入できない\n",
    "a2"
   ]
  },
  {
   "cell_type": "code",
   "execution_count": 68,
   "id": "97ad8d10",
   "metadata": {},
   "outputs": [
    {
     "ename": "SyntaxError",
     "evalue": "invalid character in identifier (<ipython-input-68-f0c6cb250a6b>, line 1)",
     "output_type": "error",
     "traceback": [
      "\u001b[1;36m  File \u001b[1;32m\"<ipython-input-68-f0c6cb250a6b>\"\u001b[1;36m, line \u001b[1;32m1\u001b[0m\n\u001b[1;33m    a2[4]=50 　　　　#追加もできない\u001b[0m\n\u001b[1;37m             　　　^\u001b[0m\n\u001b[1;31mSyntaxError\u001b[0m\u001b[1;31m:\u001b[0m invalid character in identifier\n"
     ]
    }
   ],
   "source": [
    "a2[4]=50 　　　　#追加もできない"
   ]
  },
  {
   "cell_type": "code",
   "execution_count": 69,
   "id": "2699f753",
   "metadata": {},
   "outputs": [
    {
     "data": {
      "text/plain": [
       "[110, 120, 130, 140]"
      ]
     },
     "execution_count": 69,
     "metadata": {},
     "output_type": "execute_result"
    }
   ],
   "source": [
    "a3=list(a2)   #変更したい場合リストにタイプ変更\n",
    "a3"
   ]
  },
  {
   "cell_type": "code",
   "execution_count": 70,
   "id": "fccdb1a5",
   "metadata": {},
   "outputs": [
    {
     "name": "stdout",
     "output_type": "stream",
     "text": [
      "(110, 120)\n",
      "<class 'tuple'>\n"
     ]
    }
   ],
   "source": [
    "# a2 = (110, 120, 130, 140) \n",
    "a2 = (110, 120, )\n",
    "print(a2)\n",
    "print(type(a2))"
   ]
  },
  {
   "cell_type": "code",
   "execution_count": 71,
   "id": "cf4be50f",
   "metadata": {},
   "outputs": [
    {
     "name": "stdout",
     "output_type": "stream",
     "text": [
      "110\n",
      "<class 'int'>\n"
     ]
    }
   ],
   "source": [
    "a2 = (110)\n",
    "print(a2)\n",
    "print(type(a2))"
   ]
  },
  {
   "cell_type": "code",
   "execution_count": 72,
   "id": "4256f05d",
   "metadata": {},
   "outputs": [
    {
     "data": {
      "text/plain": [
       "(110, 120, 130, 140, 10, 20, 30, 40)"
      ]
     },
     "execution_count": 72,
     "metadata": {},
     "output_type": "execute_result"
    }
   ],
   "source": [
    "a4=(110, 120, 130, 140) +(10, 20, 30, 40) \n",
    "a4"
   ]
  },
  {
   "cell_type": "code",
   "execution_count": 73,
   "id": "18ac179b",
   "metadata": {},
   "outputs": [
    {
     "data": {
      "text/plain": [
       "(110, 120, 130, 140, 10)"
      ]
     },
     "execution_count": 73,
     "metadata": {},
     "output_type": "execute_result"
    }
   ],
   "source": [
    "a4=(110, 120, 130, 140) + tuple([10]) \n",
    "a4"
   ]
  },
  {
   "cell_type": "code",
   "execution_count": 74,
   "id": "c73843fa",
   "metadata": {},
   "outputs": [
    {
     "name": "stdout",
     "output_type": "stream",
     "text": [
      "(1, 2)\n"
     ]
    }
   ],
   "source": [
    "tuple1 = (0, 1, 2)\n",
    "\n",
    "list1 = list(tuple1)\n",
    "list1.remove(0)\n",
    "tuple1_remove = tuple(list1)\n",
    "\n",
    "print(tuple1_remove)"
   ]
  },
  {
   "cell_type": "code",
   "execution_count": null,
   "id": "fc02d291",
   "metadata": {},
   "outputs": [],
   "source": []
  },
  {
   "cell_type": "code",
   "execution_count": null,
   "id": "c1235238",
   "metadata": {},
   "outputs": [],
   "source": []
  },
  {
   "cell_type": "markdown",
   "id": "c7ff7638",
   "metadata": {},
   "source": [
    "# セット set"
   ]
  },
  {
   "cell_type": "code",
   "execution_count": 75,
   "id": "7b10f8bf",
   "metadata": {},
   "outputs": [],
   "source": [
    "set1={1,2,3}"
   ]
  },
  {
   "cell_type": "code",
   "execution_count": 76,
   "id": "81bd02d5",
   "metadata": {},
   "outputs": [
    {
     "ename": "TypeError",
     "evalue": "'set' object is not subscriptable",
     "output_type": "error",
     "traceback": [
      "\u001b[1;31m---------------------------------------------------------------------------\u001b[0m",
      "\u001b[1;31mTypeError\u001b[0m                                 Traceback (most recent call last)",
      "\u001b[1;32m<ipython-input-76-d716e41b652b>\u001b[0m in \u001b[0;36m<module>\u001b[1;34m\u001b[0m\n\u001b[1;32m----> 1\u001b[1;33m \u001b[0mset1\u001b[0m\u001b[1;33m[\u001b[0m\u001b[1;36m0\u001b[0m\u001b[1;33m]\u001b[0m        \u001b[1;31m#セットは順番がない\u001b[0m\u001b[1;33m\u001b[0m\u001b[1;33m\u001b[0m\u001b[0m\n\u001b[0m",
      "\u001b[1;31mTypeError\u001b[0m: 'set' object is not subscriptable"
     ]
    }
   ],
   "source": [
    "set1[0]        #セットは順番がない"
   ]
  },
  {
   "cell_type": "code",
   "execution_count": 77,
   "id": "f04ac5d8",
   "metadata": {},
   "outputs": [
    {
     "data": {
      "text/plain": [
       "set"
      ]
     },
     "execution_count": 77,
     "metadata": {},
     "output_type": "execute_result"
    }
   ],
   "source": [
    "type(set1)"
   ]
  },
  {
   "cell_type": "code",
   "execution_count": 78,
   "id": "fe3509de",
   "metadata": {},
   "outputs": [
    {
     "data": {
      "text/plain": [
       "{1, 2, 3}"
      ]
     },
     "execution_count": 78,
     "metadata": {},
     "output_type": "execute_result"
    }
   ],
   "source": [
    "s = set([1,2,3])     #これはリストをセットに変換した作り方でできたセット\n",
    "s"
   ]
  },
  {
   "cell_type": "code",
   "execution_count": 79,
   "id": "4ae10fec",
   "metadata": {},
   "outputs": [
    {
     "name": "stdout",
     "output_type": "stream",
     "text": [
      "{1, 2, 3}\n",
      "<class 'set'>\n"
     ]
    }
   ],
   "source": [
    "s=set()\n",
    "s.add(1)\n",
    "s.add(2)\n",
    "s.add(3)\n",
    "print(s)\n",
    "print(type(s))"
   ]
  },
  {
   "cell_type": "code",
   "execution_count": 80,
   "id": "f5c2b353",
   "metadata": {},
   "outputs": [
    {
     "data": {
      "text/plain": [
       "{1, 3}"
      ]
     },
     "execution_count": 80,
     "metadata": {},
     "output_type": "execute_result"
    }
   ],
   "source": [
    "s.remove(2)\n",
    "s"
   ]
  },
  {
   "cell_type": "code",
   "execution_count": 81,
   "id": "c5ea4703",
   "metadata": {},
   "outputs": [
    {
     "name": "stdout",
     "output_type": "stream",
     "text": [
      "{1, 2, 3, 4, 5, 7, 9}\n",
      "{1, 3, 5}\n",
      "{1, 2, 3, 4, 5}\n",
      "{1, 2, 3}\n"
     ]
    }
   ],
   "source": [
    "s1 = set([1, 2, 3, 4, 5])\n",
    "s2 = set([1, 3, 5, 7, 9])\n",
    "s3 = set([1, 2, 3])\n",
    " \n",
    "print(s1 | s2) #　和集合を求める set([1, 2, 3, 4, 5, 7, 9])\n",
    "print(s1 & s2) #　積集合を求める set([1, 3, 5])\n",
    "print(s1 | s3) #　和集合を求める set([1, 2, 3, 4, 5])\n",
    "print(s1 & s3) #　積集合を求める set([1, 2, 3])"
   ]
  },
  {
   "cell_type": "code",
   "execution_count": null,
   "id": "77f3010f",
   "metadata": {},
   "outputs": [],
   "source": []
  },
  {
   "cell_type": "code",
   "execution_count": null,
   "id": "5ce42d88",
   "metadata": {},
   "outputs": [],
   "source": []
  },
  {
   "cell_type": "code",
   "execution_count": null,
   "id": "4c952767",
   "metadata": {},
   "outputs": [],
   "source": []
  },
  {
   "cell_type": "code",
   "execution_count": null,
   "id": "3d1b7925",
   "metadata": {},
   "outputs": [],
   "source": []
  },
  {
   "cell_type": "markdown",
   "id": "4ba0a6b1",
   "metadata": {},
   "source": [
    "# 辞書 dict"
   ]
  },
  {
   "cell_type": "code",
   "execution_count": 82,
   "id": "86640931",
   "metadata": {},
   "outputs": [],
   "source": [
    "d = {'Yamada': 30, 'Uemura': 40, 'Tanaka': 70}"
   ]
  },
  {
   "cell_type": "code",
   "execution_count": 83,
   "id": "717b5f2d",
   "metadata": {},
   "outputs": [],
   "source": [
    "d1 = d['Yamada']\n",
    "d2 = d['Uemura']\n",
    "d3 = d['Tanaka']"
   ]
  },
  {
   "cell_type": "code",
   "execution_count": 84,
   "id": "1258b8a9",
   "metadata": {},
   "outputs": [
    {
     "data": {
      "text/plain": [
       "70"
      ]
     },
     "execution_count": 84,
     "metadata": {},
     "output_type": "execute_result"
    }
   ],
   "source": [
    "d3"
   ]
  },
  {
   "cell_type": "code",
   "execution_count": 85,
   "id": "63300a65",
   "metadata": {},
   "outputs": [
    {
     "data": {
      "text/plain": [
       "{'Yamada': 30, 'Uemura': 40, 'Tanaka': 80}"
      ]
     },
     "execution_count": 85,
     "metadata": {},
     "output_type": "execute_result"
    }
   ],
   "source": [
    "d['Tanaka']=80\n",
    "d"
   ]
  },
  {
   "cell_type": "code",
   "execution_count": 86,
   "id": "8ab32cfc",
   "metadata": {},
   "outputs": [
    {
     "ename": "KeyError",
     "evalue": "0",
     "output_type": "error",
     "traceback": [
      "\u001b[1;31m---------------------------------------------------------------------------\u001b[0m",
      "\u001b[1;31mKeyError\u001b[0m                                  Traceback (most recent call last)",
      "\u001b[1;32m<ipython-input-86-3d0c8f17ff71>\u001b[0m in \u001b[0;36m<module>\u001b[1;34m\u001b[0m\n\u001b[1;32m----> 1\u001b[1;33m \u001b[0md\u001b[0m\u001b[1;33m[\u001b[0m\u001b[1;36m0\u001b[0m\u001b[1;33m]\u001b[0m      \u001b[1;31m#辞書も順番がない、インデックスがあるから\u001b[0m\u001b[1;33m\u001b[0m\u001b[1;33m\u001b[0m\u001b[0m\n\u001b[0m",
      "\u001b[1;31mKeyError\u001b[0m: 0"
     ]
    }
   ],
   "source": [
    "d[0]      #辞書も順番がない、インデックスがあるから"
   ]
  },
  {
   "cell_type": "code",
   "execution_count": 87,
   "id": "9e9d3ddc",
   "metadata": {},
   "outputs": [],
   "source": [
    "d2 = {1: 30, 2: 40, 3: 70}"
   ]
  },
  {
   "cell_type": "code",
   "execution_count": 88,
   "id": "753a89f5",
   "metadata": {},
   "outputs": [
    {
     "data": {
      "text/plain": [
       "30"
      ]
     },
     "execution_count": 88,
     "metadata": {},
     "output_type": "execute_result"
    }
   ],
   "source": [
    "d2[1] #こちらの１は何番目の順番の数字ではない、indexインデックス（索引）のこと"
   ]
  },
  {
   "cell_type": "code",
   "execution_count": 89,
   "id": "479ea325",
   "metadata": {},
   "outputs": [
    {
     "data": {
      "text/plain": [
       "{'Yamada': 30, 'Uemura': 40, 'Tanaka': 80, 'Honda': 90}"
      ]
     },
     "execution_count": 89,
     "metadata": {},
     "output_type": "execute_result"
    }
   ],
   "source": [
    "d['Honda']=90\n",
    "d"
   ]
  },
  {
   "cell_type": "code",
   "execution_count": 90,
   "id": "cd0994bf",
   "metadata": {},
   "outputs": [
    {
     "data": {
      "text/plain": [
       "{'Yamada': 30, 'Uemura': 40, 'Tanaka': 80, 'Honda': 90, 'Ueda': 20}"
      ]
     },
     "execution_count": 90,
     "metadata": {},
     "output_type": "execute_result"
    }
   ],
   "source": [
    "new_dict = [('Honda', 90), ('Ueda', 20)]\n",
    "d.update(new_dict)\n",
    "d"
   ]
  },
  {
   "cell_type": "code",
   "execution_count": 91,
   "id": "78e072a6",
   "metadata": {},
   "outputs": [
    {
     "data": {
      "text/plain": [
       "{'Yamada': 30, 'Uemura': 40, 'Tanaka': 80, 'Honda': 90, 'Ueda': 20}"
      ]
     },
     "execution_count": 91,
     "metadata": {},
     "output_type": "execute_result"
    }
   ],
   "source": [
    "new_dict1 = {'Honda': 90, 'Ueda': 20}\n",
    "d.update(new_dict1)\n",
    "d"
   ]
  },
  {
   "cell_type": "code",
   "execution_count": null,
   "id": "4e4eae47",
   "metadata": {},
   "outputs": [],
   "source": []
  },
  {
   "cell_type": "code",
   "execution_count": null,
   "id": "baf49409",
   "metadata": {},
   "outputs": [],
   "source": []
  },
  {
   "cell_type": "code",
   "execution_count": null,
   "id": "1ba519c4",
   "metadata": {},
   "outputs": [],
   "source": []
  },
  {
   "cell_type": "code",
   "execution_count": null,
   "id": "aed2385e",
   "metadata": {},
   "outputs": [],
   "source": []
  },
  {
   "cell_type": "code",
   "execution_count": null,
   "id": "125a6b01",
   "metadata": {},
   "outputs": [],
   "source": []
  },
  {
   "cell_type": "code",
   "execution_count": null,
   "id": "1b9dd7fd",
   "metadata": {},
   "outputs": [],
   "source": []
  },
  {
   "cell_type": "code",
   "execution_count": 92,
   "id": "4a34d934",
   "metadata": {},
   "outputs": [
    {
     "name": "stdout",
     "output_type": "stream",
     "text": [
      "[2, 4, 6]\n",
      "[2, 4, 6]\n",
      "[2, 4, 6]\n"
     ]
    }
   ],
   "source": [
    "a = [1, 2, 3]\n",
    "\n",
    "def double(x): return x * 2\n",
    "\n",
    "print(list(map(double, a)))                  #=> [2, 4, 6] : 関数方式\n",
    "print(list(map(lambda x: x * 2, a)))         #=> [2, 4, 6] : lambda方式\n",
    "print([x * 2 for x in a])                    #=> [2, 4, 6] : 内包表記(後述)"
   ]
  },
  {
   "cell_type": "code",
   "execution_count": null,
   "id": "9032dd03",
   "metadata": {},
   "outputs": [],
   "source": []
  },
  {
   "cell_type": "code",
   "execution_count": null,
   "id": "033a081f",
   "metadata": {},
   "outputs": [],
   "source": []
  },
  {
   "cell_type": "code",
   "execution_count": null,
   "id": "3d39b225",
   "metadata": {},
   "outputs": [],
   "source": []
  },
  {
   "cell_type": "code",
   "execution_count": 93,
   "id": "0b01297a",
   "metadata": {},
   "outputs": [
    {
     "name": "stdout",
     "output_type": "stream",
     "text": [
      "2*x\n"
     ]
    }
   ],
   "source": [
    "#一次微分\n",
    "from sympy import *\n",
    "import numpy as np\n",
    "x = Symbol('x')\n",
    "y = x**2 + 1\n",
    "yprime = y.diff(x)\n",
    "print(yprime)"
   ]
  },
  {
   "cell_type": "code",
   "execution_count": 94,
   "id": "fbaf2dfd",
   "metadata": {},
   "outputs": [
    {
     "name": "stdout",
     "output_type": "stream",
     "text": [
      "2\n"
     ]
    }
   ],
   "source": [
    "yprimeprime = yprime.diff(x)\n",
    "print(yprimeprime)"
   ]
  },
  {
   "cell_type": "code",
   "execution_count": 95,
   "id": "6125caa0",
   "metadata": {},
   "outputs": [
    {
     "data": {
      "text/plain": [
       "range(1, 10, 2)"
      ]
     },
     "execution_count": 95,
     "metadata": {},
     "output_type": "execute_result"
    }
   ],
   "source": [
    "range(1,10,2)"
   ]
  },
  {
   "cell_type": "code",
   "execution_count": 96,
   "id": "371f5521",
   "metadata": {},
   "outputs": [
    {
     "name": "stdout",
     "output_type": "stream",
     "text": [
      "[1, 4, 7]\n"
     ]
    }
   ],
   "source": [
    "print(list(range(1,10,3)))"
   ]
  },
  {
   "cell_type": "code",
   "execution_count": 97,
   "id": "4870c4e7",
   "metadata": {},
   "outputs": [
    {
     "name": "stdout",
     "output_type": "stream",
     "text": [
      "[0, 1, 2, 3, 4, 5, 6, 7, 8, 9]\n"
     ]
    }
   ],
   "source": [
    "print(list(range(10))) #from 0 to 9 [0,10) Python "
   ]
  },
  {
   "cell_type": "code",
   "execution_count": 99,
   "id": "1e9915cc",
   "metadata": {},
   "outputs": [
    {
     "name": "stdout",
     "output_type": "stream",
     "text": [
      "Hello World!\n",
      "Hello World!\n",
      "Hello World!\n",
      "Hello World!\n",
      "Hello World!\n"
     ]
    }
   ],
   "source": [
    "for i in range(5):\n",
    "    print(\"Hello World!\")"
   ]
  },
  {
   "cell_type": "code",
   "execution_count": 100,
   "id": "9fc606ef",
   "metadata": {},
   "outputs": [
    {
     "name": "stdout",
     "output_type": "stream",
     "text": [
      "Hello World!\n",
      "Hello World!\n",
      "Hello World!\n",
      "Hello World!\n"
     ]
    }
   ],
   "source": [
    "for i in range(1,5):\n",
    "    print(\"Hello World!\")"
   ]
  },
  {
   "cell_type": "code",
   "execution_count": null,
   "id": "2821157b",
   "metadata": {},
   "outputs": [],
   "source": []
  },
  {
   "cell_type": "code",
   "execution_count": null,
   "id": "aa308e00",
   "metadata": {},
   "outputs": [],
   "source": []
  },
  {
   "cell_type": "code",
   "execution_count": null,
   "id": "af8863b9",
   "metadata": {},
   "outputs": [],
   "source": []
  },
  {
   "cell_type": "code",
   "execution_count": null,
   "id": "323c646f",
   "metadata": {},
   "outputs": [],
   "source": []
  },
  {
   "cell_type": "code",
   "execution_count": null,
   "id": "35a2e1e7",
   "metadata": {},
   "outputs": [],
   "source": []
  },
  {
   "cell_type": "code",
   "execution_count": null,
   "id": "1bebc728",
   "metadata": {},
   "outputs": [],
   "source": []
  },
  {
   "cell_type": "code",
   "execution_count": null,
   "id": "31be0eaa",
   "metadata": {},
   "outputs": [],
   "source": []
  },
  {
   "cell_type": "code",
   "execution_count": 101,
   "id": "c043a277",
   "metadata": {},
   "outputs": [
    {
     "name": "stdout",
     "output_type": "stream",
     "text": [
      "Enter your name: Jin Shang\n",
      "Jin Shang\n"
     ]
    }
   ],
   "source": [
    "name = input(\"Enter your name: \")\n",
    "print(name)"
   ]
  },
  {
   "cell_type": "code",
   "execution_count": 102,
   "id": "46d3da44",
   "metadata": {},
   "outputs": [
    {
     "name": "stdout",
     "output_type": "stream",
     "text": [
      "今日の昼ごはんは何を食べましたか？ ラーメン\n",
      "ラーメン\n"
     ]
    }
   ],
   "source": [
    "Lunch = input(\"今日の昼ごはんは何を食べましたか？ \")\n",
    "print(Lunch)"
   ]
  },
  {
   "cell_type": "code",
   "execution_count": null,
   "id": "e0fb4c12",
   "metadata": {},
   "outputs": [],
   "source": []
  },
  {
   "cell_type": "code",
   "execution_count": 103,
   "id": "881365e9",
   "metadata": {},
   "outputs": [
    {
     "name": "stdout",
     "output_type": "stream",
     "text": [
      "こんにちは、ご用件はなんでしょうか？ 今日の昼ごはんは何を食べようかな？決めてくれる？\n",
      "今日の昼ごはんは何を食べようかな？決めてくれる？\n"
     ]
    }
   ],
   "source": [
    "question1 = input(\"こんにちは、ご用件はなんでしょうか？ \")\n",
    "print(question1)"
   ]
  },
  {
   "cell_type": "code",
   "execution_count": 104,
   "id": "0f5c3f7a",
   "metadata": {},
   "outputs": [
    {
     "name": "stdout",
     "output_type": "stream",
     "text": [
      "二郎系ラーメン\n",
      "今日の昼ごはんは二郎系ラーメン食べましょうか？いかがでしょうか?\n"
     ]
    }
   ],
   "source": [
    "if question1==\"今日の昼ごはんは何を食べようかな？決めてくれる？\":\n",
    "    import random\n",
    "\n",
    "    # List of items\n",
    "    items = ['唐揚げ', '家系ラーメン', '二郎系ラーメン', '韓国焼肉', 'スパゲッティ', '豚生姜焼き']\n",
    "\n",
    "    # Select a random item\n",
    "    selected_item = random.choice(items)\n",
    "\n",
    "    print(selected_item)\n",
    "    print(\"今日の昼ごはんは\"+selected_item+\"食べましょうか？いかがでしょうか?\")"
   ]
  },
  {
   "cell_type": "code",
   "execution_count": 105,
   "id": "ade037f2",
   "metadata": {},
   "outputs": [
    {
     "name": "stdout",
     "output_type": "stream",
     "text": [
      "こんにちは、ご用件はなんでしょうか？ 今日の昼ごはんは何を食べようかな？決めてくれる？\n",
      "今日の昼ごはんは豚生姜焼き食べましょうか？いかがでしょうか?\n"
     ]
    }
   ],
   "source": [
    "question1 = input(\"こんにちは、ご用件はなんでしょうか？ \")\n",
    "# print(question1)\n",
    "if question1==\"今日の昼ごはんは何を食べようかな？決めてくれる？\":\n",
    "    import random\n",
    "\n",
    "    # List of items\n",
    "    items = ['唐揚げ', '家系ラーメン', '二郎系ラーメン', '韓国焼肉', 'スパゲッティ', '豚生姜焼き']\n",
    "\n",
    "    # Select a random item\n",
    "    selected_item = random.choice(items)\n",
    "\n",
    "#     print(selected_item)\n",
    "    print(\"今日の昼ごはんは\"+selected_item+\"食べましょうか？いかがでしょうか?\")"
   ]
  },
  {
   "cell_type": "code",
   "execution_count": null,
   "id": "d7a4d152",
   "metadata": {},
   "outputs": [],
   "source": []
  },
  {
   "cell_type": "code",
   "execution_count": null,
   "id": "e719176b",
   "metadata": {},
   "outputs": [],
   "source": []
  },
  {
   "cell_type": "code",
   "execution_count": null,
   "id": "40821c93",
   "metadata": {},
   "outputs": [],
   "source": []
  },
  {
   "cell_type": "code",
   "execution_count": null,
   "id": "c9074f1b",
   "metadata": {},
   "outputs": [],
   "source": []
  },
  {
   "cell_type": "code",
   "execution_count": null,
   "id": "ae4929a5",
   "metadata": {},
   "outputs": [],
   "source": []
  },
  {
   "cell_type": "code",
   "execution_count": null,
   "id": "6ca2948b",
   "metadata": {},
   "outputs": [],
   "source": []
  },
  {
   "cell_type": "code",
   "execution_count": null,
   "id": "4dac82d3",
   "metadata": {},
   "outputs": [],
   "source": []
  },
  {
   "cell_type": "code",
   "execution_count": null,
   "id": "0f173176",
   "metadata": {},
   "outputs": [],
   "source": []
  },
  {
   "cell_type": "code",
   "execution_count": 106,
   "id": "114d139d",
   "metadata": {},
   "outputs": [],
   "source": [
    "# import ipywidgets as wg\n",
    "# from IPython.display import display\n",
    "\n",
    "# myName = wg.Text(value='Name')\n",
    "# Lucky_number = wg.IntSlider(description='Lucky number:')\n",
    "# display(myName,Lucky_number)\n",
    "\n",
    "# ### new cell\n",
    "# print(myName.value + \"'s lucky number is \" + str(Lucky_number.value) )"
   ]
  },
  {
   "cell_type": "code",
   "execution_count": null,
   "id": "2c46bf63",
   "metadata": {},
   "outputs": [],
   "source": []
  }
 ],
 "metadata": {
  "kernelspec": {
   "display_name": "Python 3 (ipykernel)",
   "language": "python",
   "name": "python3"
  },
  "language_info": {
   "codemirror_mode": {
    "name": "ipython",
    "version": 3
   },
   "file_extension": ".py",
   "mimetype": "text/x-python",
   "name": "python",
   "nbconvert_exporter": "python",
   "pygments_lexer": "ipython3",
   "version": "3.8.5"
  }
 },
 "nbformat": 4,
 "nbformat_minor": 5
}
