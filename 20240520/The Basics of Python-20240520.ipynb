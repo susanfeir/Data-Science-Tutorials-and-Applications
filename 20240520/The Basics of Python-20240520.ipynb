{
 "cells": [
  {
   "cell_type": "markdown",
   "id": "3964d8a3",
   "metadata": {},
   "source": [
    "<pre>\n",
    "今日のポイント：\n",
    "◎   宿題提出の形を説明！\n",
    "①　復習と今日の達成目標：　　\n",
    "    １）制御構文（if, else, elif; while, else; for, in; break; continue; pass ）　　\n",
    "    ２）Python Libraries (NumPy, Pandas, Matplotlib, Seaborn, Plotly, Scikit-Learn)\n",
    "②　構築環境問題　　\n",
    "    1）ダウンロードした.ipynb/.pyファイルの開き方をMISC.xlsxで纏めたので、迷う時はそれを参照ください。授業中Jupyter notebookを使う時、.ipynbファイルを開いて使ってください。\n",
    "③　すぐ使えるPythonファイルを実行してみてください！\n",
    "<pre>"
   ]
  },
  {
   "cell_type": "code",
   "execution_count": null,
   "id": "f099a51c",
   "metadata": {
    "scrolled": true
   },
   "outputs": [],
   "source": [
    "# ランダムに二人ペアを組むことにより、実習の時、お互いの先生をやって、お互いの実習結果をチェックする。\n",
    "# 目標：授業時間の効率アップを目指す\n",
    "\n",
    "import random\n",
    "\n",
    "def generate_random_pairs(numbers):\n",
    "#     random.seed(100)\n",
    "    random.shuffle(numbers)\n",
    "    return [(numbers[i], numbers[i+1]) for i in range(0, len(numbers), 2)]\n",
    "\n",
    "aa=['淺野 こころ', '神之薗 星凪', '清水 大暉','井戸 陸斗','鈴木 健介','竹内 智也','石田 暖人','岩村 胡春','宇治野 正惇','関根 弘樹','田邉 圭佑','松澤 舜平','三輪 涼太','神戸 翔太','竹内 ひかり','先生']\n",
    "pairs=generate_random_pairs(aa)\n",
    "print(pairs)"
   ]
  },
  {
   "cell_type": "markdown",
   "id": "6f4f3821",
   "metadata": {},
   "source": [
    "# 復習・練習"
   ]
  },
  {
   "cell_type": "markdown",
   "id": "b60f7815",
   "metadata": {},
   "source": [
    "range(58)のリストをaにし、もう一つ新しいリストbを作って、bの要素はaのすべての要素を×３掛け算処理を行って、一つずつ追加、最後から5番目の要素は？"
   ]
  },
  {
   "cell_type": "markdown",
   "id": "f4b41168",
   "metadata": {},
   "source": [
    "じゃんけんゲームを作る時、player1はランダムに三つから選択、player2はinput関数を使って入力\n",
    "\n",
    "list=[\"グー\",\"チョキ\",\"パー\"]\n",
    "player1 = random.choice(list)(import randomが必要)\n",
    "player2 = input(\"じゃんけんぽん、あなたは何にしますか？\")"
   ]
  },
  {
   "cell_type": "markdown",
   "id": "e20ea97c",
   "metadata": {},
   "source": [
    "# if else elif "
   ]
  },
  {
   "cell_type": "code",
   "execution_count": null,
   "id": "72f3c62b",
   "metadata": {},
   "outputs": [],
   "source": [
    "# '''\n",
    "# if 条件1:\n",
    "#     処理1を実行...\n",
    "# [elif 条件2:\n",
    "#     処理2を実行...]\n",
    "# [else: 　　　　　　　　#条件1と条件2以外の場合\n",
    "#     処理3を実行...]\n",
    "# '''"
   ]
  },
  {
   "cell_type": "code",
   "execution_count": null,
   "id": "f9b74d1e",
   "metadata": {},
   "outputs": [],
   "source": [
    "num = 120\n",
    "if num > 101:\n",
    "    print(\"BIG\")\n",
    "elif num == 100:\n",
    "    print(\"NORMAL\")\n",
    "else:\n",
    "    print(\"SMALL\")"
   ]
  },
  {
   "cell_type": "code",
   "execution_count": null,
   "id": "a106f309",
   "metadata": {},
   "outputs": [],
   "source": [
    "# example 1: 80=<x<100 \"優秀\"\n",
    "# example 2: 80=<x<100 \"優秀\"　60=<x<80 \"良好\"\n",
    "# example 3: 80=<x<100 \"優秀\"　60=<x<80 \"良好\"  x<60 \"頑張りましょう！\"\n",
    "# example 4: x==100 \"満点\"　80=<x<100 \"優秀\"　60=<x<80 \"良好\"  x<60 \"頑張りましょう！\""
   ]
  },
  {
   "cell_type": "code",
   "execution_count": null,
   "id": "a591e497",
   "metadata": {},
   "outputs": [],
   "source": [
    "x=85\n",
    "if x in range(80,100):\n",
    "    print(\"優秀\")"
   ]
  },
  {
   "cell_type": "code",
   "execution_count": null,
   "id": "ee290cda",
   "metadata": {},
   "outputs": [],
   "source": [
    "# example 2: 80=<x<=100 \"優秀\"　60=<x<80 \"良好\"\n",
    "x=95\n",
    "if x in range(80,101):\n",
    "    print(\"優秀\")\n",
    "elif x in range(60,80) :\n",
    "    print(\"良好\")\n",
    "\n",
    "# ここの「elif」行のインデントがないことを気を付けましょう！インデントがあるとエラーが出る。"
   ]
  },
  {
   "cell_type": "code",
   "execution_count": null,
   "id": "cbaae627",
   "metadata": {},
   "outputs": [],
   "source": [
    "# example 3: 80=<x<=100 \"優秀\"　60=<x<80 \"良好\"  x<60 \"頑張りましょう！\"\n",
    "\n",
    "x=35\n",
    "if x in range(80,101):\n",
    "    print(\"優秀\")\n",
    "elif x in range(60,80) :\n",
    "    print(\"良好\")\n",
    "else:\n",
    "    print(\"頑張りましょう！\")"
   ]
  },
  {
   "cell_type": "code",
   "execution_count": null,
   "id": "0ac2ad92",
   "metadata": {},
   "outputs": [],
   "source": [
    "# example 4: x==100 \"満点\"　80=<x<100 \"優秀\"　60=<x<80 \"良好\"  x<60 \"頑張りましょう！\"\n",
    "\n",
    "x=75\n",
    "if x in range(80,100):\n",
    "    print(\"優秀\")\n",
    "elif x in range(60,80) :\n",
    "    print(\"良好\")\n",
    "elif x in range(0,60) :\n",
    "    print(\"頑張りましょう！\")\n",
    "elif x >=100 :\n",
    "    print(\"満点\")"
   ]
  },
  {
   "cell_type": "code",
   "execution_count": null,
   "id": "bac35cb4",
   "metadata": {
    "scrolled": true
   },
   "outputs": [],
   "source": [
    "# example 4: x==100 \"満点\"　80=<x<100 \"優秀\"　60=<x<80 \"良好\"  x<60 \"頑張りましょう！\"\n",
    "x=70\n",
    "if x ==100:\n",
    "    print(\"満点\")\n",
    "elif x >=80:\n",
    "    print(\"優秀\")\n",
    "elif x >=60 :\n",
    "    print(\"良好\")\n",
    "else:\n",
    "    print(\"頑張りましょう！\")"
   ]
  },
  {
   "cell_type": "code",
   "execution_count": null,
   "id": "b25e2e77",
   "metadata": {},
   "outputs": [],
   "source": [
    "# example 4: x==100 \"満点\"　80=<x<100 \"優秀\"　60=<x<80 \"良好\"  x<60 \"頑張りましょう！\"\n",
    "x=170\n",
    "if x <60:\n",
    "    print(\"頑張りましょう！\")\n",
    "elif x <=80:\n",
    "    print(\"良好\")\n",
    "elif x <100 :\n",
    "    print(\"優秀\")\n",
    "else:\n",
    "    print(\"満点\")"
   ]
  },
  {
   "cell_type": "code",
   "execution_count": null,
   "id": "737ffa67",
   "metadata": {},
   "outputs": [],
   "source": [
    "# 注意！条件設定の順番は大事！\n",
    "# >（だいなり）は大から少へ、＜（しょうなり）は小から大へ\n",
    "# 下記の例を見ましょう！\n",
    "\n",
    "# example 4: x>=100 \"満点\"　80=<x<100 \"優秀\"　60=<x<80 \"良好\"  x<60 \"頑張りましょう！\"\n",
    "x=90 # 80 70 50を試してみて！\n",
    "\n",
    "if x ==100:\n",
    "    print(\"満点\")\n",
    "elif x <100:\n",
    "    print(\"優秀\")\n",
    "elif x <80 :\n",
    "    print(\"良好\")\n",
    "elif x <60 :\n",
    "    print('頑張りましょう！')"
   ]
  },
  {
   "cell_type": "code",
   "execution_count": null,
   "id": "3157ef17",
   "metadata": {},
   "outputs": [],
   "source": []
  },
  {
   "cell_type": "markdown",
   "id": "5b3cb6a9",
   "metadata": {},
   "source": [
    "# from here 20240520"
   ]
  },
  {
   "cell_type": "markdown",
   "id": "9d7746b0",
   "metadata": {},
   "source": [
    "# while else"
   ]
  },
  {
   "cell_type": "code",
   "execution_count": null,
   "id": "2e2e6800",
   "metadata": {},
   "outputs": [],
   "source": [
    "# '''\n",
    "# while 条件1:\n",
    "#     処理1を実行...\n",
    "# [else:\n",
    "#     処理2を実行...]\n",
    "# '''"
   ]
  },
  {
   "cell_type": "code",
   "execution_count": null,
   "id": "308e961c",
   "metadata": {},
   "outputs": [],
   "source": [
    "n = 0\n",
    "while n < 5:\n",
    "    print(n)\n",
    "    n += 1\n",
    "    \n",
    "## もしif文を使うと、どんな結果がでる？\n",
    "# n = 0\n",
    "# if n < 5:\n",
    "#     print(n)\n",
    "#     n += 1"
   ]
  },
  {
   "cell_type": "code",
   "execution_count": null,
   "id": "c287ab1f",
   "metadata": {},
   "outputs": [],
   "source": [
    "n = 0\n",
    "while n < 5:\n",
    "    print(n)\n",
    "    n += 1\n",
    "else:\n",
    "    print('END')"
   ]
  },
  {
   "cell_type": "code",
   "execution_count": null,
   "id": "5dd5fe13",
   "metadata": {},
   "outputs": [],
   "source": []
  },
  {
   "cell_type": "markdown",
   "id": "ad29d0e7",
   "metadata": {},
   "source": [
    "# for in"
   ]
  },
  {
   "cell_type": "code",
   "execution_count": null,
   "id": "0443ee40",
   "metadata": {},
   "outputs": [],
   "source": [
    "# '''\n",
    "# for var in 条件1:\n",
    "#     処理1を実行...\n",
    "# [else:\n",
    "#     処理2を実行...]\n",
    "# '''"
   ]
  },
  {
   "cell_type": "code",
   "execution_count": null,
   "id": "d89d2b38",
   "metadata": {},
   "outputs": [],
   "source": [
    "for i in range(5):\n",
    "    print(i)"
   ]
  },
  {
   "cell_type": "code",
   "execution_count": null,
   "id": "f73170f5",
   "metadata": {},
   "outputs": [],
   "source": [
    "for i in range(5):\n",
    "    print(\"Hello World!\")"
   ]
  },
  {
   "cell_type": "code",
   "execution_count": null,
   "id": "14053736",
   "metadata": {},
   "outputs": [],
   "source": [
    "for n in [1, 2, 3]:\n",
    "    print(n) "
   ]
  },
  {
   "cell_type": "code",
   "execution_count": null,
   "id": "f7e1f5f4",
   "metadata": {},
   "outputs": [],
   "source": [
    "for a in \"ABC\":\n",
    "    print(a) "
   ]
  },
  {
   "cell_type": "code",
   "execution_count": null,
   "id": "607b5865",
   "metadata": {},
   "outputs": [],
   "source": [
    "for k in {'one': 1, 'two': 2, 'three': 3}:\n",
    "    print(k) \n",
    "\n",
    "# for k in {'one': 1, 'two': 2, 'three': 3}.keys():\n",
    "#     print(k) \n",
    "\n",
    "# for k in {'one': 1, 'two': 2, 'three': 3}.values():\n",
    "#     print(k) "
   ]
  },
  {
   "cell_type": "code",
   "execution_count": null,
   "id": "1d515f0d",
   "metadata": {},
   "outputs": [],
   "source": [
    "aaa={'one': 3, 'two': 5, 'three': 7}\n",
    "for k in aaa:\n",
    "    print(k)\n",
    "    print(aaa[k]) \n",
    "    \n",
    "# for k,v in aaa.items():\n",
    "#     print(k,v)"
   ]
  },
  {
   "cell_type": "code",
   "execution_count": null,
   "id": "77b1981d",
   "metadata": {},
   "outputs": [],
   "source": [
    "aaa={'one': 3, 'two': 5, 'three': 7}\n",
    "for k in aaa:\n",
    "    print(k+':'+str(aaa[k])) \n",
    "else:\n",
    "    print('END')"
   ]
  },
  {
   "cell_type": "code",
   "execution_count": null,
   "id": "0769ac77",
   "metadata": {},
   "outputs": [],
   "source": []
  },
  {
   "cell_type": "code",
   "execution_count": null,
   "id": "eb5e89b9",
   "metadata": {},
   "outputs": [],
   "source": [
    "# a = [1, 2, 3]の要素をすべて×２で掛け算をしてプリントアウト\n",
    "\n",
    "a = [1, 2, 3]\n",
    "list1=[]\n",
    "for x in a:\n",
    "    print(x*2)\n",
    "    list1.append(x*2)\n",
    "    print(str(x)+\"回目:\", list1)"
   ]
  },
  {
   "cell_type": "code",
   "execution_count": null,
   "id": "d065e06e",
   "metadata": {
    "scrolled": true
   },
   "outputs": [],
   "source": [
    "#　map()はリストの各要素をすべて同じ処理を行い、処理した結果を返す\n",
    "\n",
    "a = [1, 2, 3]\n",
    "\n",
    "def double(x): return x * 2\n",
    "\n",
    "print(list(map(double, a)))                  #=> [2, 4, 6] : 関数方式\n",
    "# print(list(map(lambda x: x * 2, a)))         #=> [2, 4, 6] : lambda方式\n",
    "# print([x * 2 for x in a])                    #=> [2, 4, 6] : 内包表記"
   ]
  },
  {
   "cell_type": "code",
   "execution_count": null,
   "id": "47682019",
   "metadata": {},
   "outputs": [],
   "source": []
  },
  {
   "cell_type": "markdown",
   "id": "0b9dfbe7",
   "metadata": {},
   "source": [
    "# break, continue, pass"
   ]
  },
  {
   "cell_type": "code",
   "execution_count": null,
   "id": "599d9163",
   "metadata": {},
   "outputs": [],
   "source": [
    "# break: 繰り返し処理を抜け出す\n",
    "for n in range(10):\n",
    "    if n == 5:\n",
    "        break\n",
    "    print(n)                 # 0, 1, 2, 3, 4"
   ]
  },
  {
   "cell_type": "code",
   "execution_count": null,
   "id": "97ae2cb5",
   "metadata": {},
   "outputs": [],
   "source": [
    "# continue: 繰り返し処理をスキップ\n",
    "for n in range(10):\n",
    "    if n == 5:\n",
    "        continue\n",
    "    print(n)                 # 0, 1, 2, 3, 4, 6, 7, 8, 9"
   ]
  },
  {
   "cell_type": "code",
   "execution_count": null,
   "id": "aefda039",
   "metadata": {},
   "outputs": [],
   "source": [
    "# pass: 何も処理を行わない\n",
    "for n in range(10):\n",
    "    if n == 5:\n",
    "        pass\n",
    "    print(n)   "
   ]
  },
  {
   "cell_type": "code",
   "execution_count": null,
   "id": "1845b04d",
   "metadata": {},
   "outputs": [],
   "source": []
  },
  {
   "cell_type": "code",
   "execution_count": null,
   "id": "4d02177a",
   "metadata": {},
   "outputs": [],
   "source": [
    "#一階微分\n",
    "from sympy import *\n",
    "import numpy as np\n",
    "x = Symbol('x')\n",
    "y = x**2 + 1\n",
    "yprime = y.diff(x)\n",
    "print(yprime)"
   ]
  },
  {
   "cell_type": "code",
   "execution_count": null,
   "id": "9527530a",
   "metadata": {},
   "outputs": [],
   "source": [
    "#さらに二階微分\n",
    "yprimeprime = yprime.diff(x)\n",
    "print(yprimeprime)"
   ]
  },
  {
   "cell_type": "code",
   "execution_count": null,
   "id": "efb6b3bd",
   "metadata": {},
   "outputs": [],
   "source": []
  },
  {
   "cell_type": "code",
   "execution_count": null,
   "id": "57586d09",
   "metadata": {},
   "outputs": [],
   "source": [
    "# !pip3 install gtts"
   ]
  },
  {
   "cell_type": "code",
   "execution_count": null,
   "id": "c62488af",
   "metadata": {},
   "outputs": [],
   "source": [
    "from gtts import gTTS\n",
    "gTTS('Welcome To InterviewBit').save('interviewbit.mp3')"
   ]
  },
  {
   "cell_type": "code",
   "execution_count": null,
   "id": "d640afce",
   "metadata": {},
   "outputs": [],
   "source": [
    "from gtts import gTTS\n",
    "import os\n",
    "\n",
    "file=open(\"Python.txt\", \"r\", encoding='utf-8').read()\n",
    "speech = gTTS(text=file, lang=\"ja\", slow=False) #\"en\"\n",
    "speech.save(\"voice.mp3\")\n",
    "# os.system(\"voice.mp3\")"
   ]
  },
  {
   "cell_type": "code",
   "execution_count": null,
   "id": "72c43d1a",
   "metadata": {},
   "outputs": [],
   "source": []
  },
  {
   "cell_type": "code",
   "execution_count": null,
   "id": "5274e468",
   "metadata": {},
   "outputs": [],
   "source": [
    "import random\n",
    "print(\"数字を当ててポイントを稼ぎるゲームです\")\n",
    "print(\"あたると100ポイント獲得、外れると50ポイントなくなる\")\n",
    "a=random.randint(1,3)\n",
    "score = 100 \n",
    "while True:\n",
    "    b=int(input(\"1から3までの整数を当ててください\"))\n",
    "    if (a==b):\n",
    "        score+=100\n",
    "        print(\"おめでとうございます！今のポイントは\", score)\n",
    "        break\n",
    "    elif(b<a):\n",
    "        score=score-50\n",
    "        print(\"もっと大きく当ててみて！今のポイントは\", score)\n",
    "    else:\n",
    "        score=score-50\n",
    "        print(\"もっと小さく当ててみて！今のポイントは\", score)\n",
    "       "
   ]
  },
  {
   "cell_type": "markdown",
   "id": "efdf00a0",
   "metadata": {},
   "source": [
    "# 下の練習をやってみてください！\n",
    "\n",
    "# 練習１\n",
    "宅急便のサイズによって、料金が変わるシステム、まずinput()を使ってサイズを確認しましょう。 \\\n",
    "そのあと、100サイズ以下(<=100)の場合：「郵送料は1000円です」をプリントアウト、 \\\n",
    "            100-140サイズ(100<x<=140]の場合：「郵送料は1200円です」をプリントアウト、 \\\n",
    "            140-160サイズ(140<x<=160]の場合：「郵送料は1500円です」をプリントアウト \n",
    "\n",
    "# 練習2\n",
    "空の辞書を作る。\n",
    "input()を使ってIDとパスワードを聞いてください。\n",
    "これを三回繰り返して異なるIDとパスワードのペアを辞書に追加。\n",
    "辞書をプリントアウト。\n",
    "\n",
    "そして、下記のコードを使って、IDとパスワードを入力してください。\n",
    "import ipywidgets as wg\n",
    "from IPython.display import display\n",
    "myName = wg.Text(description='ID:')\n",
    "Lucky_number = wg.Text(description='Lucky number:')\n",
    "display(myName, Lucky_number)\n",
    "\n",
    "ログインのIDとパスワードを両方とも一致する場合、「Welcome」をプリントアウト、 \\\n",
    "一つ違ったら「もう一回正しいIDとパスワードを入力してください」をプリントアウト  \\\n",
    "\n",
    "# 練習3\n",
    "https://www.nagoya-u.ac.jp/academics/curriculum/grading_gpa/index.html　 \\\n",
    "1-3．100点満点による評価を記号による評価に換算する場合の標準的方法 \\\n",
    "を参照して、それぞれの点数の評価記号をプリントアウト"
   ]
  },
  {
   "cell_type": "markdown",
   "id": "8f3e578c",
   "metadata": {},
   "source": [
    "2回目の宿題提出期限：5月27日　\\\n",
    "内容：練習２と３"
   ]
  },
  {
   "cell_type": "markdown",
   "id": "d5e69663",
   "metadata": {},
   "source": [
    "# 練習4\n",
    "航空会社の搭乗手続きを行う時、荷物サイズをチェックする場面で、 \\\n",
    "もし23KGを超える時、１KGあたり440円を徴収する、100KGまで預けるが、もし100KGを超えると、お預けできない。 \\\n",
    "ヒントHint: input(), if-elif条件"
   ]
  },
  {
   "cell_type": "markdown",
   "id": "319f8bf0",
   "metadata": {},
   "source": [
    "# 練習5\n",
    "一週間の給与を計算する場面で、 \\\n",
    "もし一週間で40時間未満（40含む）の場合、一時間1,027円で、40時間以上の場合、40時間超過した分を給与1.5倍で計算、一週間のトータル給与を計算する。 \\\n",
    "input(), if-elif条件"
   ]
  },
  {
   "cell_type": "code",
   "execution_count": null,
   "id": "de01dfaf",
   "metadata": {},
   "outputs": [],
   "source": []
  },
  {
   "cell_type": "code",
   "execution_count": null,
   "id": "a60f74e8",
   "metadata": {},
   "outputs": [],
   "source": []
  },
  {
   "cell_type": "markdown",
   "id": "c5e1ab82",
   "metadata": {},
   "source": [
    "# Python Libraries"
   ]
  },
  {
   "cell_type": "markdown",
   "id": "1ac7e29e",
   "metadata": {},
   "source": [
    "# NumPy"
   ]
  },
  {
   "cell_type": "code",
   "execution_count": null,
   "id": "a0edcb88",
   "metadata": {},
   "outputs": [],
   "source": [
    "# The standard way to import NumPy:\n",
    "import numpy as np\n",
    "\n",
    "# Create a 2-D array, 配列とは、プログラムで扱うデータ構造において、同じ長さのデータを並べたものである。\n",
    "# set every second element in some rows and find max per row:\n",
    "\n",
    "x = np.arange(15, dtype=np.int64).reshape(3, 5) #reshape(3, 5)は三行5列の配列に形を変えるという意味\n",
    "x"
   ]
  },
  {
   "cell_type": "code",
   "execution_count": null,
   "id": "4237889e",
   "metadata": {},
   "outputs": [],
   "source": [
    "x[1:] #Output結果を観察してください # x[1:,:]もチェックしてみて！"
   ]
  },
  {
   "cell_type": "code",
   "execution_count": null,
   "id": "a92b78e7",
   "metadata": {},
   "outputs": [],
   "source": [
    "x[:, ::2]  #Output結果を観察してください"
   ]
  },
  {
   "cell_type": "code",
   "execution_count": null,
   "id": "159dd05a",
   "metadata": {},
   "outputs": [],
   "source": [
    "x.shape # (3, 5) 3は行の数、5は列の数"
   ]
  },
  {
   "cell_type": "code",
   "execution_count": null,
   "id": "285cf2a0",
   "metadata": {},
   "outputs": [],
   "source": [
    "x.max(axis=1) #x.max(axis=0)もチェックしてみて！"
   ]
  },
  {
   "cell_type": "code",
   "execution_count": null,
   "id": "e53ef433",
   "metadata": {},
   "outputs": [],
   "source": [
    "# NumPy arrayを作る (配列とは、プログラムで扱うデータ構造において、同じ長さのデータを並べたものである。)\n",
    "arr = np.array([1, 2, 3, 4, 5])\n",
    "\n",
    "# 平均と標準偏差を計算\n",
    "mean_value = np.mean(arr)\n",
    "std_dev = np.std(arr)\n",
    "\n",
    "print(f\"Mean: {mean_value}, Standard Deviation: {std_dev}\")"
   ]
  },
  {
   "cell_type": "code",
   "execution_count": null,
   "id": "7328fc0d",
   "metadata": {},
   "outputs": [],
   "source": []
  },
  {
   "cell_type": "markdown",
   "id": "0efc824c",
   "metadata": {},
   "source": [
    "# Pandas"
   ]
  },
  {
   "cell_type": "code",
   "execution_count": null,
   "id": "588ee7de",
   "metadata": {
    "scrolled": true
   },
   "outputs": [],
   "source": [
    "import pandas as pd\n",
    "\n",
    "# Creating a Pandas DataFrame\n",
    "data = {'Name': ['John', 'Alice', 'Bob'],\n",
    "        'Age': [25, 28, 22]}\n",
    "df = pd.DataFrame(data)\n",
    "\n",
    "# Displaying the DataFrame\n",
    "print(df)"
   ]
  },
  {
   "cell_type": "code",
   "execution_count": null,
   "id": "fa8a146b",
   "metadata": {},
   "outputs": [],
   "source": []
  },
  {
   "cell_type": "markdown",
   "id": "8ef8e887",
   "metadata": {},
   "source": [
    "# Matplotlib"
   ]
  },
  {
   "cell_type": "code",
   "execution_count": null,
   "id": "eebd174e",
   "metadata": {},
   "outputs": [],
   "source": [
    "import matplotlib.pyplot as plt\n",
    "\n",
    "# Creating a simple line plot\n",
    "x = [1, 2, 3, 4, 5]\n",
    "y = [2, 3, 5, 7, 11]\n",
    "\n",
    "plt.plot(x, y)\n",
    "plt.xlabel('X-axis')\n",
    "plt.ylabel('Y-axis')\n",
    "plt.title('Simple Line Plot')\n",
    "plt.show()"
   ]
  },
  {
   "cell_type": "code",
   "execution_count": null,
   "id": "7c10d4ff",
   "metadata": {},
   "outputs": [],
   "source": []
  },
  {
   "cell_type": "markdown",
   "id": "66672b57",
   "metadata": {},
   "source": [
    "# Seaborn"
   ]
  },
  {
   "cell_type": "code",
   "execution_count": null,
   "id": "d8196763",
   "metadata": {
    "scrolled": false
   },
   "outputs": [],
   "source": [
    "import seaborn as sns\n",
    "\n",
    "# Using Seaborn to create a scatter plot\n",
    "tips = sns.load_dataset('tips')\n",
    "sns.scatterplot(x='total_bill', y='tip', data=tips)\n",
    "plt.title('Scatter Plot using Seaborn')\n",
    "plt.show()"
   ]
  },
  {
   "cell_type": "code",
   "execution_count": null,
   "id": "db9b3578",
   "metadata": {},
   "outputs": [],
   "source": []
  },
  {
   "cell_type": "markdown",
   "id": "3863cfab",
   "metadata": {},
   "source": [
    "# Plotly"
   ]
  },
  {
   "cell_type": "code",
   "execution_count": null,
   "id": "5c205cab",
   "metadata": {
    "scrolled": true
   },
   "outputs": [],
   "source": [
    "import plotly.express as px\n",
    "\n",
    "# Creating a Plotly scatter plot　#scatter: 散布図\n",
    "df = px.data.iris()\n",
    "fig = px.scatter(df, x=\"sepal_width\", y=\"sepal_length\", color=\"species\", title=\"Iris Dataset\")\n",
    "fig.show()"
   ]
  },
  {
   "cell_type": "code",
   "execution_count": null,
   "id": "7d6f86a9",
   "metadata": {},
   "outputs": [],
   "source": []
  },
  {
   "cell_type": "markdown",
   "id": "edab2538",
   "metadata": {},
   "source": [
    "# Scikit-learn"
   ]
  },
  {
   "cell_type": "code",
   "execution_count": null,
   "id": "fb5e1cf1",
   "metadata": {},
   "outputs": [],
   "source": [
    "from sklearn.datasets import load_iris\n",
    "from sklearn.model_selection import train_test_split\n",
    "from sklearn.linear_model import LogisticRegression\n",
    "from sklearn.metrics import accuracy_score\n",
    "from sklearn.preprocessing import StandardScaler\n",
    "\n",
    "# Load iris dataset as an example #例としてirisデータセットを読み込む\n",
    "iris = load_iris()\n",
    "X = iris.data\n",
    "y = iris.target\n",
    "\n",
    "# Split the data into training and testing sets #データをトレーニングセットとテストセットに分ける\n",
    "X_train, X_test, y_train, y_test = train_test_split(X, y, test_size=0.2, random_state=42)\n",
    "\n",
    "# Standardize the features using StandardScaler #StandardScalerを使用した特徴の標準化\n",
    "scaler = StandardScaler()\n",
    "X_train_scaled = scaler.fit_transform(X_train)\n",
    "X_test_scaled = scaler.transform(X_test)\n",
    "\n",
    "# Create and train a Logistic Regression model #ロジスティック回帰モデルの作成と訓練\n",
    "model = LogisticRegression(max_iter=1000)\n",
    "model.fit(X_train_scaled, y_train)\n",
    "\n",
    "# Make predictions on the test set #テストセットで予測を立てる\n",
    "predictions = model.predict(X_test_scaled)\n",
    "\n",
    "# Calculate accuracy #予測精度を計算する\n",
    "accuracy = accuracy_score(y_test, predictions)\n",
    "\n",
    "print(f\"Accuracy: {accuracy}\")"
   ]
  },
  {
   "cell_type": "code",
   "execution_count": null,
   "id": "892c5a35",
   "metadata": {},
   "outputs": [],
   "source": []
  },
  {
   "cell_type": "code",
   "execution_count": null,
   "id": "3ed084ab",
   "metadata": {},
   "outputs": [],
   "source": []
  },
  {
   "cell_type": "code",
   "execution_count": null,
   "id": "af195a1e",
   "metadata": {},
   "outputs": [],
   "source": []
  },
  {
   "cell_type": "code",
   "execution_count": null,
   "id": "cbe71352",
   "metadata": {},
   "outputs": [],
   "source": []
  },
  {
   "cell_type": "code",
   "execution_count": null,
   "id": "ae930688",
   "metadata": {},
   "outputs": [],
   "source": []
  },
  {
   "cell_type": "code",
   "execution_count": null,
   "id": "1707aac8",
   "metadata": {},
   "outputs": [],
   "source": []
  },
  {
   "cell_type": "code",
   "execution_count": null,
   "id": "54684054",
   "metadata": {},
   "outputs": [],
   "source": []
  },
  {
   "cell_type": "code",
   "execution_count": null,
   "id": "4114906e",
   "metadata": {},
   "outputs": [],
   "source": []
  },
  {
   "cell_type": "code",
   "execution_count": null,
   "id": "32d6d5c9",
   "metadata": {},
   "outputs": [],
   "source": []
  },
  {
   "cell_type": "code",
   "execution_count": null,
   "id": "58c91d9b",
   "metadata": {},
   "outputs": [],
   "source": [
    "x=int(input('荷物のサイズ：'))\n",
    "\n",
    "if x in range(0,100):\n",
    "    print(\"郵送料は1000円です\")\n",
    "elif x in range(100,140) :\n",
    "    print(\"郵送料は1200円です\")\n",
    "elif x in range(140,160) :\n",
    "    print(\"郵送料は1500円です\")"
   ]
  },
  {
   "cell_type": "code",
   "execution_count": null,
   "id": "62ebddda",
   "metadata": {},
   "outputs": [],
   "source": [
    "a = list(range(58))\n",
    "b = list()\n",
    "\n",
    "def tripple(x): \n",
    "    return x * 3\n",
    "\n",
    "for i in a:\n",
    "    b.append(double(i))\n",
    "    \n",
    "print(b)\n",
    "print(b[-5])"
   ]
  },
  {
   "cell_type": "code",
   "execution_count": null,
   "id": "e95045db",
   "metadata": {},
   "outputs": [],
   "source": [
    "import random\n",
    "\n",
    "list=[\"グー\",\"チョキ\",\"パー\"]\n",
    "player1 = random.choice(list)\n",
    "print(player1)\n",
    "player2 = input(\"じゃんけんぽん、あなたは何にしますか？\")"
   ]
  },
  {
   "cell_type": "code",
   "execution_count": null,
   "id": "f1a3a6ea",
   "metadata": {},
   "outputs": [],
   "source": []
  }
 ],
 "metadata": {
  "kernelspec": {
   "display_name": "Python 3 (ipykernel)",
   "language": "python",
   "name": "python3"
  },
  "language_info": {
   "codemirror_mode": {
    "name": "ipython",
    "version": 3
   },
   "file_extension": ".py",
   "mimetype": "text/x-python",
   "name": "python",
   "nbconvert_exporter": "python",
   "pygments_lexer": "ipython3",
   "version": "3.11.7"
  }
 },
 "nbformat": 4,
 "nbformat_minor": 5
}
