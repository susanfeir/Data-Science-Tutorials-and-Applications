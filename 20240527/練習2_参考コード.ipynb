{
 "cells": [
  {
   "cell_type": "code",
   "execution_count": 29,
   "id": "592c90ec",
   "metadata": {},
   "outputs": [
    {
     "name": "stdout",
     "output_type": "stream",
     "text": [
      "1番目のID：yamada\n",
      "1番目のPassword：111\n",
      "2番目のID：yamagami\n",
      "2番目のPassword：222\n",
      "3番目のID：yamashita\n",
      "3番目のPassword：333\n",
      "{'yamada': '111', 'yamagami': '222', 'yamashita': '333'}\n"
     ]
    }
   ],
   "source": [
    "import ipywidgets as wg \n",
    "from IPython.display import display\n",
    "\n",
    "ID_PW_dict = {} \n",
    "\n",
    "# i=1\n",
    "# while i in range(4): \n",
    "for i in range(1,4): \n",
    "    ID = input(f\"{i}番目のID：\") #IDを取得\n",
    "    PW = input(f\"{i}番目のPassword：\")#Passwordを取得\n",
    "    \n",
    "    ID_PW_dict[ID]=PW #取得したIDとパスワードを辞書に追加\n",
    "#     dict_temp = {ID: PW} #取得したIDとパスワードのペアを一時的な辞書dict_tempを作成\n",
    "#     ID_PW_dict.update(dict_temp) #一時的な辞書dict_tempをID_PW_dict辞書に追加\n",
    "\n",
    "#     i += 1\n",
    "print(ID_PW_dict)"
   ]
  },
  {
   "cell_type": "code",
   "execution_count": 30,
   "id": "fb196ca8",
   "metadata": {},
   "outputs": [
    {
     "data": {
      "application/vnd.jupyter.widget-view+json": {
       "model_id": "9574bb18a2ca4601b5d60a77582bf7d0",
       "version_major": 2,
       "version_minor": 0
      },
      "text/plain": [
       "Text(value='', description='ID:')"
      ]
     },
     "metadata": {},
     "output_type": "display_data"
    },
    {
     "data": {
      "application/vnd.jupyter.widget-view+json": {
       "model_id": "6b84a86edc164dbc8a606173bbacab94",
       "version_major": 2,
       "version_minor": 0
      },
      "text/plain": [
       "Text(value='', description='pw:')"
      ]
     },
     "metadata": {},
     "output_type": "display_data"
    }
   ],
   "source": [
    "ID_guest = wg.Text(description='ID:') #IDを入力\n",
    "PW_guest = wg.Text(description='pw:') #パスワードを入力\n",
    "display(ID_guest, PW_guest)"
   ]
  },
  {
   "cell_type": "code",
   "execution_count": 31,
   "id": "13327425",
   "metadata": {},
   "outputs": [
    {
     "name": "stdout",
     "output_type": "stream",
     "text": [
      "Welcome\n"
     ]
    }
   ],
   "source": [
    "if ID_guest.value in list(ID_PW_dict.keys()):\n",
    "    if ID_PW_dict[ID_guest.value] == PW_guest.value: \n",
    "        print(\"Welcome\") \n",
    "    else: \n",
    "        print(\"もう一回正しいIDとパスワードを入力してください\") \n",
    "else:\n",
    "    print('You have not yet registered!') #まだ登録されていない"
   ]
  },
  {
   "cell_type": "code",
   "execution_count": 33,
   "id": "bd9dbdab",
   "metadata": {},
   "outputs": [
    {
     "name": "stdout",
     "output_type": "stream",
     "text": [
      "ID:yamada\n",
      "pw:111\n",
      "yamada 111\n",
      "Welcome\n"
     ]
    }
   ],
   "source": [
    "# # #　上のセルを実行する時、エラーが出た方はipywidgetsのバージョン問題があり、下記の予備コードをコメント解除してから使ってください。\n",
    "# ID_guest = input('ID:') #IDを入力\n",
    "# PW_guest = input('pw:') #パスワードを入力\n",
    "# print(ID_guest, PW_guest)\n",
    "\n",
    "# if ID_guest in list(ID_PW_dict.keys()):\n",
    "#     if ID_PW_dict[ID_guest] == PW_guest: \n",
    "#         print(\"Welcome\") \n",
    "#     else: \n",
    "#         print(\"もう一回正しいIDとパスワードを入力してください\") \n",
    "# else:\n",
    "#     print('You have not yet registered!') #まだ登録されていない"
   ]
  },
  {
   "cell_type": "code",
   "execution_count": null,
   "id": "aad8fbc2",
   "metadata": {},
   "outputs": [],
   "source": []
  }
 ],
 "metadata": {
  "kernelspec": {
   "display_name": "Python 3 (ipykernel)",
   "language": "python",
   "name": "python3"
  },
  "language_info": {
   "codemirror_mode": {
    "name": "ipython",
    "version": 3
   },
   "file_extension": ".py",
   "mimetype": "text/x-python",
   "name": "python",
   "nbconvert_exporter": "python",
   "pygments_lexer": "ipython3",
   "version": "3.11.7"
  }
 },
 "nbformat": 4,
 "nbformat_minor": 5
}
